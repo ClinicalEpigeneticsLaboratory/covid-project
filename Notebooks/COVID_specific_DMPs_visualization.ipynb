{
 "cells": [
  {
   "cell_type": "code",
   "execution_count": null,
   "id": "06512cb3-af9d-484d-84ef-2c6e1373e870",
   "metadata": {},
   "outputs": [],
   "source": [
    "# Visualisation of COVID-19 specific DMPs"
   ]
  },
  {
   "cell_type": "code",
   "execution_count": null,
   "id": "ee56cdbd-0d95-4b82-9176-f95ef8862bb0",
   "metadata": {},
   "outputs": [],
   "source": [
    "import os\n",
    "\n",
    "import numpy as np\n",
    "import pandas as pd\n",
    "\n",
    "from scipy import stats\n",
    "\n",
    "from src.figures import *\n",
    "from src.col_palette import pal"
   ]
  },
  {
   "cell_type": "code",
   "execution_count": null,
   "id": "7c26fc84-99ad-4df6-b278-28d0581b86d7",
   "metadata": {},
   "outputs": [],
   "source": [
    "manifest = pd.read_parquet(os.environ.get(\"POETRY_EPIC\"))\n",
    "genes = pd.read_parquet(os.environ.get(\"POETRY_EPIC_genes\"))\n",
    "\n",
    "samplesheet = pd.read_csv(\"../data/raw/SampleSheet.csv\", index_col=0)\n",
    "samplesheet = samplesheet[samplesheet[\"ICU\"] != \"Home\"]\n",
    "\n",
    "mynorm = pd.read_parquet(\n",
    "    \"../data/processed/CorrectedMyNorms/mynorm.parquet\", columns=samplesheet.index\n",
    ")"
   ]
  },
  {
   "cell_type": "code",
   "execution_count": null,
   "id": "2c39d963-947a-475a-9757-984f7b1615f6",
   "metadata": {},
   "outputs": [],
   "source": [
    "dmps = pd.read_csv(\"../Files/COVSpecificDMPs.csv\", index_col=0)\n",
    "dmps"
   ]
  },
  {
   "cell_type": "code",
   "execution_count": null,
   "id": "c0f10b6b-dd5c-4ac7-9e46-2e28ca9e1292",
   "metadata": {},
   "outputs": [],
   "source": [
    "mynorm = mynorm.loc[dmps.index, :].T\n",
    "mynorm"
   ]
  },
  {
   "cell_type": "code",
   "execution_count": null,
   "id": "1f7b6f28-c167-4881-848a-d921eb949019",
   "metadata": {},
   "outputs": [],
   "source": [
    "mynorm = pd.concat((mynorm, samplesheet[\"Status\"]), axis=1)\n",
    "mynorm"
   ]
  },
  {
   "cell_type": "code",
   "execution_count": null,
   "id": "01ae3544-d110-426b-853b-583e92df695c",
   "metadata": {},
   "outputs": [],
   "source": [
    "df = mynorm.melt(\n",
    "    id_vars=\"Status\",\n",
    "    value_vars=dmps.index,\n",
    "    var_name=\"CpG\",\n",
    "    value_name=\"β-values\",\n",
    ")"
   ]
  },
  {
   "cell_type": "code",
   "execution_count": null,
   "id": "ae1f6149-cd96-4014-8dac-116f534d1026",
   "metadata": {},
   "outputs": [],
   "source": [
    "for idx, row in df.iterrows():\n",
    "    cpg = row[\"CpG\"]\n",
    "    try:\n",
    "        gene = \" \".join(set(dmps.loc[cpg, \"UCSC_RefGene_Name\"].split(\";\")))\n",
    "    except AttributeError:\n",
    "        gene = \"\"\n",
    "\n",
    "    df.loc[idx, \"CpG\"] = f\"{gene} {cpg}\"\n",
    "df = df.sort_values(by=\"CpG\")\n",
    "df"
   ]
  },
  {
   "cell_type": "code",
   "execution_count": null,
   "id": "a9eb2461-cc26-456f-83ee-1cc38e06b16c",
   "metadata": {},
   "outputs": [],
   "source": [
    "boxplot(\n",
    "    df.dropna(),\n",
    "    color_column=\"Status\",\n",
    "    y=\"β-values\",\n",
    "    facet_col=\"CpG\",\n",
    "    facet_col_wrap=4,\n",
    "    height=1000,\n",
    "    width=1600,\n",
    "    axis_title_font_size=20,\n",
    "    marker_size=8,\n",
    "    facet_font_size=20,\n",
    "    tick_font_size=14,\n",
    "    category_orders={\n",
    "        \"Status\": [\n",
    "            \"COVID-19 PL\",\n",
    "            \"COVID-19 ES\",\n",
    "            \"COVID-19 USA 1\",\n",
    "            \"COVID-19 USA 2\",\n",
    "            \"Healthy controls\",\n",
    "            \"Other-infections USA 1\",\n",
    "            \"Other-infections USA 2\",\n",
    "        ]\n",
    "    },\n",
    "    path=\"../Plots/COV_specyfic_DMPs_noCorrectedData.png\",\n",
    ")"
   ]
  }
 ],
 "metadata": {
  "kernelspec": {
   "display_name": "Python 3 (ipykernel)",
   "language": "python",
   "name": "python3"
  },
  "language_info": {
   "codemirror_mode": {
    "name": "ipython",
    "version": 3
   },
   "file_extension": ".py",
   "mimetype": "text/x-python",
   "name": "python",
   "nbconvert_exporter": "python",
   "pygments_lexer": "ipython3"
  }
 },
 "nbformat": 4,
 "nbformat_minor": 5
}
