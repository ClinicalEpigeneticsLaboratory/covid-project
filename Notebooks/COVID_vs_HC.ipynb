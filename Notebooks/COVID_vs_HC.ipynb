{
 "cells": [
  {
   "cell_type": "code",
   "execution_count": null,
   "id": "a76fb5dd-c2d1-4c2b-930f-8d692a3d343a",
   "metadata": {},
   "outputs": [],
   "source": [
    "import os\n",
    "\n",
    "from tqdm import tqdm\n",
    "import numpy as np\n",
    "import pandas as pd\n",
    "from glob import glob\n",
    "\n",
    "import plotly.express as px\n",
    "\n",
    "pd.set_option(\"max_column\", None)"
   ]
  },
  {
   "cell_type": "code",
   "execution_count": null,
   "id": "683afa32-1f1f-4a9c-96b6-c936afd69521",
   "metadata": {},
   "outputs": [],
   "source": [
    "def extract(report: pd.DataFrame, threshold) -> pd.DataFrame:\n",
    "    return report[\n",
    "        (report[\"Delta mean\"].abs() > threshold) & (report[\"Adj. p-value\"] <= 0.05)\n",
    "    ]"
   ]
  },
  {
   "cell_type": "code",
   "execution_count": null,
   "id": "29b543a8-f6bd-4caf-a877-2a63ee004fbd",
   "metadata": {},
   "outputs": [],
   "source": [
    "epic = pd.read_parquet(os.environ.get(\"POETRY_EPIC\"))"
   ]
  },
  {
   "cell_type": "code",
   "execution_count": null,
   "id": "562800c3-1a71-4fbe-966d-ec37fbc1432b",
   "metadata": {},
   "outputs": [],
   "source": [
    "reports = glob(\"statistics/output/*.csv\")\n",
    "reports_cov = set([name for name in reports if \"controls\" in name])\n",
    "reports_cov"
   ]
  },
  {
   "cell_type": "code",
   "execution_count": null,
   "id": "8c56f338-e438-44ef-b3b2-9862d0a4180c",
   "metadata": {},
   "outputs": [],
   "source": [
    "data = []\n",
    "\n",
    "for min_delta in tqdm(np.arange(0.01, 0.105, 0.005)):\n",
    "\n",
    "    cov_vs_hb_dmps = []\n",
    "    for report in reports_cov:\n",
    "\n",
    "        df = extract(pd.read_csv(report, index_col=0), threshold=min_delta)\n",
    "        df = df.index + \"-\" + df[\"Status\"]\n",
    "        dmps = set(df)\n",
    "        cov_vs_hb_dmps.append(dmps)\n",
    "\n",
    "    intersection = set.intersection(\n",
    "        *cov_vs_hb_dmps\n",
    "    )  # probes common in all covid-19 cohorts\n",
    "\n",
    "    if not intersection:\n",
    "        break\n",
    "\n",
    "    data.append(\n",
    "        {\n",
    "            \"Delta\": min_delta,\n",
    "            \"COVID-19 specific DMPs\": \";\".join(intersection),\n",
    "            \"Number\": len(intersection),\n",
    "        }\n",
    "    )\n",
    "\n",
    "df = pd.DataFrame(data)\n",
    "df"
   ]
  },
  {
   "cell_type": "code",
   "execution_count": null,
   "id": "84d71d3b-b684-4787-87b8-11dd0ac37388",
   "metadata": {},
   "outputs": [],
   "source": [
    "fig = px.area(df, x=\"Delta\", y=\"Number\", labels={\"Number\": \"DMPs number\"})\n",
    "fig.update_layout(font=dict(size=18))\n",
    "fig.show()"
   ]
  },
  {
   "cell_type": "code",
   "execution_count": null,
   "id": "bd17c962-236a-48e1-9adf-c614469be108",
   "metadata": {},
   "outputs": [],
   "source": [
    "def extract_probes(data: str, val: int) -> list:\n",
    "    cpgs = [cpg.split(\"-\")[val] for cpg in data.split(\";\")]\n",
    "    return cpgs"
   ]
  },
  {
   "cell_type": "code",
   "execution_count": null,
   "id": "569c7801-31ed-4e73-ad27-856497849eb4",
   "metadata": {},
   "outputs": [],
   "source": [
    "pd.Series(extract_probes(df.iloc[8, 1], val=1)).value_counts()"
   ]
  },
  {
   "cell_type": "code",
   "execution_count": null,
   "id": "fcac1e7b-ed93-41c7-a784-642f3a6ef7ae",
   "metadata": {},
   "outputs": [],
   "source": [
    "selected_probes = epic.loc[extract_probes(df.iloc[8, 1], val=0)]\n",
    "selected_probes[\n",
    "    [\"UCSC_RefGene_Name\", \"UCSC_RefGene_Group\", \"Relation_to_UCSC_CpG_Island\"]\n",
    "]"
   ]
  },
  {
   "cell_type": "code",
   "execution_count": null,
   "id": "3b46127e-57a0-4c5a-a84f-b237c83d5c11",
   "metadata": {},
   "outputs": [],
   "source": [
    "selected_probes.to_csv(\"../Files/DMPs_COV_vs_HC.csv\")"
   ]
  },
  {
   "cell_type": "code",
   "execution_count": null,
   "id": "8c4af452-f2ea-4c21-b683-a18f6a06689f",
   "metadata": {},
   "outputs": [],
   "source": [
    "genes = (\n",
    "    selected_probes.UCSC_RefGene_Name.dropna()\n",
    "    .str.split(\";\")\n",
    "    .explode()\n",
    "    .drop_duplicates()\n",
    ")\n",
    "genes"
   ]
  },
  {
   "cell_type": "code",
   "execution_count": null,
   "id": "5723c5f7-8908-4a59-abab-3fe168c21241",
   "metadata": {},
   "outputs": [],
   "source": [
    "genes.nunique()"
   ]
  },
  {
   "cell_type": "code",
   "execution_count": null,
   "id": "f0b39eb8-ea47-4e89-adf7-5492451fc53b",
   "metadata": {},
   "outputs": [],
   "source": [
    "genes.to_csv(\"../Files/Genes_COV_vs_HC.csv\")"
   ]
  }
 ],
 "metadata": {
  "kernelspec": {
   "display_name": "Python 3 (ipykernel)",
   "language": "python",
   "name": "python3"
  },
  "language_info": {
   "codemirror_mode": {
    "name": "ipython",
    "version": 3
   },
   "file_extension": ".py",
   "mimetype": "text/x-python",
   "name": "python",
   "nbconvert_exporter": "python",
   "pygments_lexer": "ipython3"
  }
 },
 "nbformat": 4,
 "nbformat_minor": 5
}
