{
 "cells": [
  {
   "cell_type": "code",
   "execution_count": null,
   "metadata": {},
   "outputs": [],
   "source": [
    "import numpy as np\n",
    "import pandas as pd\n",
    "import seaborn as sns\n",
    "from venn import venn\n",
    "\n",
    "import os\n",
    "import plotly.express as px\n",
    "import matplotlib.pyplot as plt\n",
    "from matplotlib.patches import Patch\n",
    "\n",
    "from sklearn.manifold import TSNE\n",
    "from sklearn.decomposition import PCA\n",
    "from sklearn.metrics import fowlkes_mallows_score\n",
    "\n",
    "from scipy.cluster.hierarchy import linkage, fcluster, dendrogram\n",
    "import matplotlib.pyplot as plt\n",
    "\n",
    "from src.figures import *\n",
    "from src.col_palette import pal"
   ]
  },
  {
   "cell_type": "code",
   "execution_count": null,
   "metadata": {},
   "outputs": [],
   "source": [
    "sampleSheet = pd.read_csv(\"../data/raw/SampleSheet.csv\", index_col=0)\n",
    "sampleSheet = sampleSheet[\n",
    "    (sampleSheet.ICU != \"Home\")]\n",
    "\n",
    "sampleSheet"
   ]
  },
  {
   "cell_type": "code",
   "execution_count": null,
   "metadata": {},
   "outputs": [],
   "source": [
    "mynorm = pd.read_parquet(\n",
    "    \"../data/processed/CorrectedMyNorms/mynorm.parquet\",\n",
    "    columns=sampleSheet.index.tolist(),\n",
    ")\n",
    "\n",
    "mynorm"
   ]
  },
  {
   "cell_type": "code",
   "execution_count": null,
   "metadata": {},
   "outputs": [],
   "source": [
    "dmps = pd.read_csv(\"../Files/DMPs_COV_vs_HC.csv\", index_col=0).index\n",
    "dmps"
   ]
  },
  {
   "cell_type": "code",
   "execution_count": null,
   "metadata": {},
   "outputs": [],
   "source": [
    "epic = pd.read_parquet(os.environ.get(\"POETRY_EPIC\"))"
   ]
  },
  {
   "cell_type": "code",
   "execution_count": null,
   "metadata": {},
   "outputs": [],
   "source": [
    "def tsne(df: pd.DataFrame, poi_column: str = \"Status\") -> pd.DataFrame:\n",
    "\n",
    "    perplexity = min(df[poi_column].value_counts())\n",
    "    print(\"Perplexity: \", perplexity)\n",
    "\n",
    "    tsne = TSNE(n_components=2, method=\"exact\", random_state=101, perplexity=perplexity)\n",
    "    deco = tsne.fit_transform(df.drop(poi_column, axis=1))\n",
    "    deco = pd.DataFrame(deco, index=df.index, columns=[\"t-SNE 1\", \"t-SNE 2\"])\n",
    "\n",
    "    return pd.concat((deco, df[poi_column]), axis=1)\n",
    "\n",
    "\n",
    "def extract(df):\n",
    "    return df[(df[\"Delta mean\"].abs() > 0.05) & (df[\"Adj. p-value\"] <= 0.05)]"
   ]
  },
  {
   "cell_type": "code",
   "execution_count": null,
   "metadata": {},
   "outputs": [],
   "source": [
    "# All cohorts"
   ]
  },
  {
   "cell_type": "code",
   "execution_count": null,
   "metadata": {},
   "outputs": [],
   "source": [
    "df = pd.concat((mynorm.T[dmps], sampleSheet[[\"Status\"]]), axis=1)\n",
    "\n",
    "df = df[\n",
    "    df[\"Status\"].isin(\n",
    "        [\n",
    "            \"COVID-19 PL\",\n",
    "            \"COVID-19 ES\",\n",
    "            \"COVID-19 USA 1\",\n",
    "            \"Healthy controls\",\n",
    "            \"COVID-19 USA 2\",\n",
    "        ]\n",
    "    )\n",
    "]\n",
    "\n",
    "df[\"Status\"].unique()"
   ]
  },
  {
   "cell_type": "code",
   "execution_count": null,
   "metadata": {},
   "outputs": [],
   "source": [
    "clustermap(\n",
    "    df,\n",
    "    poi_columns=[\"Status\"],\n",
    "    order_legend=[\n",
    "        \"COVID-19 PL\",\n",
    "        \"COVID-19 ES\",\n",
    "        \"COVID-19 USA 1\",\n",
    "        \"COVID-19 USA 2\",\n",
    "        \"Healthy controls\",\n",
    "    ],\n",
    "    colors_palette=pal,\n",
    "    cbar_pos=(0.02, 0.85, 0.05, 0.18),\n",
    "    path=\"../Plots/All_cov.png\",\n",
    ")"
   ]
  },
  {
   "cell_type": "code",
   "execution_count": null,
   "metadata": {},
   "outputs": [],
   "source": [
    "scatterplot(\n",
    "    tsne(df),\n",
    "    x=\"t-SNE 1\",\n",
    "    y=\"t-SNE 2\",\n",
    "    color_column=\"Status\",\n",
    "    color_discrete_map=pal,\n",
    "    category_orders={\n",
    "        \"Status\": [\n",
    "            \"COVID-19 PL\",\n",
    "            \"COVID-19 ES\",\n",
    "            \"COVID-19 USA 1\",\n",
    "            \"COVID-19 USA 2\",\n",
    "            \"Healthy controls\",\n",
    "        ]\n",
    "    },\n",
    "    trendline=None,\n",
    "    path=\"../Plots/All_CoV_vs_HC.png\",\n",
    ")"
   ]
  },
  {
   "cell_type": "code",
   "execution_count": null,
   "metadata": {},
   "outputs": [],
   "source": [
    "# COVID-19 vs Other respiratory infections USA 1"
   ]
  },
  {
   "cell_type": "code",
   "execution_count": null,
   "metadata": {},
   "outputs": [],
   "source": [
    "df_ori_1 = pd.concat((mynorm.T[dmps], sampleSheet[[\"Status\"]]), axis=1)\n",
    "df_ori_1 = df_ori_1.loc[\n",
    "    sampleSheet[\n",
    "        (sampleSheet[\"Status\"] == \"COVID-19 USA 1\")\n",
    "        | (sampleSheet[\"Status\"] == \"Other respiratory infections USA 1\")\n",
    "    ].index\n",
    "]\n",
    "df_ori_1.shape"
   ]
  },
  {
   "cell_type": "code",
   "execution_count": null,
   "metadata": {},
   "outputs": [],
   "source": [
    "scatterplot(\n",
    "    tsne(df_ori_1).drop(\"GSM5331997\"),  # drop\n",
    "    x=\"t-SNE 1\",\n",
    "    y=\"t-SNE 2\",\n",
    "    color_column=\"Status\",\n",
    "    color_discrete_map=pal,\n",
    "    labels={\"Other respiratory infection USA 1\": \"Other resp. inf. USA 1\"},\n",
    "    path=\"../Plots/Cov_vs_nonCOV_1.png\",\n",
    "    trendline=None,\n",
    ")"
   ]
  },
  {
   "cell_type": "code",
   "execution_count": null,
   "metadata": {},
   "outputs": [],
   "source": [
    "clustermap(\n",
    "    df_ori_1.drop(\"GSM5331997\"),\n",
    "    poi_columns=[\"Status\"],\n",
    "    colors_palette=pal,\n",
    "    cbar_pos=(0.02, 0.85, 0.05, 0.18),\n",
    "    path=\"../Plots/USA1_cov.png\",\n",
    ")"
   ]
  },
  {
   "cell_type": "code",
   "execution_count": null,
   "metadata": {},
   "outputs": [],
   "source": [
    "# COVID-19 vs Other respiratory infections USA 2"
   ]
  },
  {
   "cell_type": "code",
   "execution_count": null,
   "metadata": {},
   "outputs": [],
   "source": [
    "df_ori_2 = pd.concat((mynorm.T[dmps], sampleSheet[[\"Status\"]]), axis=1)\n",
    "\n",
    "df_ori_2 = df_ori_2.loc[\n",
    "    sampleSheet[\n",
    "        (sampleSheet[\"Status\"] == \"COVID-19 USA 2\")\n",
    "        | (sampleSheet[\"Status\"] == \"Other respiratory infections USA 2\")\n",
    "    ].index\n",
    "]"
   ]
  },
  {
   "cell_type": "code",
   "execution_count": null,
   "metadata": {},
   "outputs": [],
   "source": [
    "sampleSheet[\n",
    "    (sampleSheet[\"Status\"] == \"COVID-19 USA 2\")\n",
    "    | (sampleSheet[\"Status\"] == \"Other respiratory infections USA 2\")\n",
    "].Status.value_counts()"
   ]
  },
  {
   "cell_type": "code",
   "execution_count": null,
   "metadata": {},
   "outputs": [],
   "source": [
    "scatterplot(\n",
    "    tsne(df_ori_2),\n",
    "    x=\"t-SNE 1\",\n",
    "    y=\"t-SNE 2\",\n",
    "    color_column=\"Status\",\n",
    "    color_discrete_map=pal,\n",
    "    path=\"../Plots/Cov_vs_nonCOV_2.png\",\n",
    "    trendline=None,\n",
    ")"
   ]
  },
  {
   "cell_type": "code",
   "execution_count": null,
   "metadata": {},
   "outputs": [],
   "source": [
    "clustermap(\n",
    "    df_ori_2,\n",
    "    poi_columns=[\"Status\"],\n",
    "    colors_palette=pal,\n",
    "    cbar_pos=(0.02, 0.85, 0.05, 0.18),\n",
    "    path=\"../Plots/USA2_cov.png\",\n",
    ")"
   ]
  }
 ],
 "metadata": {
  "kernelspec": {
   "display_name": "Python 3 (ipykernel)",
   "language": "python",
   "name": "python3"
  },
  "language_info": {
   "codemirror_mode": {
    "name": "ipython",
    "version": 3
   },
   "file_extension": ".py",
   "mimetype": "text/x-python",
   "name": "python",
   "nbconvert_exporter": "python",
   "pygments_lexer": "ipython3"
  }
 },
 "nbformat": 4,
 "nbformat_minor": 4
}
