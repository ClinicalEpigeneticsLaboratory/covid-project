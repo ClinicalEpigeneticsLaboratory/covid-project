{
 "cells": [
  {
   "cell_type": "code",
   "execution_count": null,
   "metadata": {},
   "outputs": [],
   "source": [
    "# Analysis of cell fraction correction impact on methylation levels"
   ]
  },
  {
   "cell_type": "code",
   "execution_count": null,
   "metadata": {},
   "outputs": [],
   "source": [
    "import os\n",
    "import random\n",
    "\n",
    "random.seed = 44\n",
    "\n",
    "import typing as t\n",
    "\n",
    "import numpy as np\n",
    "import pandas as pd\n",
    "import seaborn as sns\n",
    "from tqdm import tqdm\n",
    "import scipy.stats as sts\n",
    "\n",
    "import plotly.express as px\n",
    "import matplotlib.pyplot as plt\n",
    "\n",
    "from sklearn.metrics import r2_score\n",
    "from sklearn.decomposition import PCA\n",
    "from sklearn.linear_model import LinearRegression"
   ]
  },
  {
   "cell_type": "code",
   "execution_count": null,
   "metadata": {},
   "outputs": [],
   "source": [
    "# Load data"
   ]
  },
  {
   "cell_type": "code",
   "execution_count": null,
   "metadata": {},
   "outputs": [],
   "source": [
    "labels = pd.read_csv(\"../data/raw/SampleSheet.csv\", index_col=0)[\"Status\"]\n",
    "labels"
   ]
  },
  {
   "cell_type": "code",
   "execution_count": null,
   "metadata": {},
   "outputs": [],
   "source": [
    "labels.value_counts()"
   ]
  },
  {
   "cell_type": "code",
   "execution_count": null,
   "metadata": {},
   "outputs": [],
   "source": [
    "# raw WBC fractions - before refBase correction"
   ]
  },
  {
   "cell_type": "code",
   "execution_count": null,
   "metadata": {},
   "outputs": [],
   "source": [
    "cf = pd.read_csv(\"../data/processed/CF/raw_CF.csv\", index_col=0)\n",
    "cf = pd.concat((cf, labels), axis=1).dropna()\n",
    "cf"
   ]
  },
  {
   "cell_type": "code",
   "execution_count": null,
   "metadata": {},
   "outputs": [],
   "source": [
    "# WBC fractions - estimated using methylation profiles before correction"
   ]
  },
  {
   "cell_type": "code",
   "execution_count": null,
   "metadata": {},
   "outputs": [],
   "source": [
    "fig = px.box(\n",
    "    cf,\n",
    "    color=\"Status\",\n",
    "    labels={\"variable\": \"\", \"value\": \"Frequency\"},\n",
    "    points=False,\n",
    "    category_orders={\n",
    "        \"Status\": [\n",
    "            \"COVID-19 ES\",\n",
    "            \"COVID-19 PL\",\n",
    "            \"COVID-19 USA 1\",\n",
    "            \"COVID-19 USA 2\",\n",
    "            \"Healthy controls\",\n",
    "        ]\n",
    "    },\n",
    ")\n",
    "\n",
    "fig.update_layout(\n",
    "    legend=dict(font=dict(size=24), title=\"\"),\n",
    "    font=dict(size=22),\n",
    "    width=1600,\n",
    "    height=600,\n",
    ")\n",
    "fig.update_traces(marker=dict(size=10))\n",
    "fig.update_yaxes(range=[0, 1])\n",
    "\n",
    "fig.write_image(\"../Plots/CF_before_CFC.jpg\")\n",
    "fig.show()"
   ]
  },
  {
   "cell_type": "code",
   "execution_count": null,
   "metadata": {},
   "outputs": [],
   "source": [
    "# WBC fractions - estimated using methylation profiles after correction"
   ]
  },
  {
   "cell_type": "code",
   "execution_count": null,
   "metadata": {},
   "outputs": [],
   "source": [
    "cfc = pd.read_csv(\"../data/processed/CF/corrected_CF.csv\", index_col=0)\n",
    "cfc = pd.concat((cfc, labels), axis=1).dropna()\n",
    "cfc"
   ]
  },
  {
   "cell_type": "code",
   "execution_count": null,
   "metadata": {},
   "outputs": [],
   "source": [
    "cfc.Status.unique()"
   ]
  },
  {
   "cell_type": "code",
   "execution_count": null,
   "metadata": {},
   "outputs": [],
   "source": [
    "fig = px.box(\n",
    "    cfc,\n",
    "    color=\"Status\",\n",
    "    labels={\"variable\": \"\", \"value\": \"Frequency\"},\n",
    "    points=False,\n",
    "    category_orders={\n",
    "        \"Status\": [\n",
    "            \"COVID-19 ES\",\n",
    "            \"COVID-19 PL\",\n",
    "            \"COVID-19 USA 1\",\n",
    "            \"COVID-19 USA 2\",\n",
    "            \"Healthy controls\",\n",
    "        ]\n",
    "    },\n",
    ")\n",
    "\n",
    "\n",
    "fig.update_layout(\n",
    "    legend=dict(font=dict(size=24), title=\"\"),\n",
    "    font=dict(size=22),\n",
    "    width=1600,\n",
    "    height=600,\n",
    ")\n",
    "fig.update_traces(marker=dict(size=10))\n",
    "fig.update_yaxes(range=[0, 1])\n",
    "\n",
    "fig.write_image(\"../Plots/CF_after_CFC.jpg\")\n",
    "fig.show()"
   ]
  },
  {
   "cell_type": "code",
   "execution_count": null,
   "metadata": {},
   "outputs": [],
   "source": [
    "# LR model te estimate methylation level variance explained by WBC composition"
   ]
  },
  {
   "cell_type": "code",
   "execution_count": null,
   "metadata": {},
   "outputs": [],
   "source": [
    "# Load data before and after correction\n",
    "mynorm_no_cfc = pd.read_csv(\"../data/interim/NEW_ALL/myNorm.csv\", index_col=0)[\n",
    "    labels.index\n",
    "]\n",
    "\n",
    "mynorm_cfc = pd.read_parquet(\n",
    "    \"../data/processed/CorrectedMyNorms/mynorm.parquet\",\n",
    "    columns=labels.index.tolist(),\n",
    ")  # mynorm after correction"
   ]
  },
  {
   "cell_type": "code",
   "execution_count": null,
   "metadata": {},
   "outputs": [],
   "source": [
    "cpgs_to_test = random.sample(set(mynorm_cfc.index), 10000)\n",
    "\n",
    "mynorm_cfc = mynorm_cfc.loc[cpgs_to_test, :]\n",
    "mynorm_no_cfc = mynorm_no_cfc.loc[cpgs_to_test, :]"
   ]
  },
  {
   "cell_type": "code",
   "execution_count": null,
   "metadata": {},
   "outputs": [],
   "source": [
    "dataset = t.Union[pd.DataFrame, pd.Series, np.array]\n",
    "\n",
    "\n",
    "def calculate_adj_r2(r2: float, n: int, p: int) -> float:\n",
    "    \"\"\"\n",
    "    Return adj. R2 coefficient.\n",
    "    r2 - R2 coefficient: float\n",
    "    n - number of observation: int\n",
    "    p - number of explanatory variables (excluding constant): int\n",
    "    \"\"\"\n",
    "\n",
    "    param = 1 - (1 - r2) * ((n - 1) / (n - p - 1))\n",
    "\n",
    "    if param < 0:\n",
    "        return 0\n",
    "\n",
    "    elif param > 1:\n",
    "        return 1\n",
    "\n",
    "    else:\n",
    "        return param\n",
    "\n",
    "\n",
    "def model(X: dataset, y: dataset) -> float:\n",
    "    \"\"\"\n",
    "    Calculate adj. R2 per cpg.\n",
    "    X - matrix of WBC fractions per sample.\n",
    "    y - vector [methylation levels per sample].\n",
    "    \"\"\"\n",
    "    \n",
    "    model = LinearRegression(fit_intercept=True)\n",
    "    model.fit(X, y)\n",
    "    r2 = r2_score(y, model.predict(X))\n",
    "    adj_r2 = calculate_adj_r2(r2=r2, n=len(y), p=X.shape[1])\n",
    "\n",
    "    return adj_r2\n",
    "\n",
    "\n",
    "# Use 10.000 random CpGs\n",
    "# Per each CpG fit model: CpG methylation level ~ WBC fractions\n",
    "\n",
    "results = []\n",
    "wbc_composition = cf.drop(\n",
    "    \"Status\", axis=1\n",
    ")  # Estimated WBC fractions by EpiDish package [using raw methylation profiles]\n",
    "\n",
    "for cpg in tqdm(cpgs_to_test):\n",
    "\n",
    "    # Get corrected beta values for specific CpG\n",
    "    met_level_corrected = mynorm_cfc.loc[cpg, :]\n",
    "\n",
    "    # Merge corrected beta values with WBC composition\n",
    "    df_cfc = pd.concat((wbc_composition, met_level_corrected), axis=1).astype(float)\n",
    "\n",
    "    X_cfc = df_cfc.drop(cpg, axis=1).values  # WBC fractions - predictors\n",
    "    y_cfc = df_cfc[cpg].values.reshape(-1, 1)  # Methylation levels - response variable\n",
    "\n",
    "    # Fit model using corrected beta values\n",
    "    r2_cfc = model(X_cfc, y_cfc)\n",
    "\n",
    "    # Get raw beta values [before correction]\n",
    "    met_level_no_cfc = mynorm_no_cfc.loc[cpg, :]\n",
    "    df_no_cfc = pd.concat((wbc_composition, met_level_no_cfc), axis=1)\n",
    "\n",
    "    X_no_cfc = df_no_cfc.drop(cpg, axis=1).values  # again WBC fractions - predictors\n",
    "    y_no_cfc = df_no_cfc[cpg].values.reshape(\n",
    "        -1, 1\n",
    "    )  # Methylation levels - response variable\n",
    "\n",
    "    # Fit model using raw beta values before cf-corrction\n",
    "    r2_no_cfc = model(X_no_cfc, y_no_cfc)\n",
    "\n",
    "    results.append(\n",
    "        {\"Marker\": cpg, \"Raw data\": r2_no_cfc, \"Cell-fraction corrected data\": r2_cfc}\n",
    "    )"
   ]
  },
  {
   "cell_type": "code",
   "execution_count": null,
   "metadata": {},
   "outputs": [],
   "source": [
    "results = pd.DataFrame(results).set_index(\"Marker\")\n",
    "results"
   ]
  },
  {
   "cell_type": "code",
   "execution_count": null,
   "metadata": {},
   "outputs": [],
   "source": [
    "# Visualise results\n",
    "fig = px.box(results, labels={\"variable\": \"\", \"value\": \"Adjusted R2\"}, points=\"all\")\n",
    "\n",
    "fig.update_layout(legend=dict(font=dict(size=24), title=\"\"), font=dict(size=22))\n",
    "fig.update_traces(marker=dict(size=10))\n",
    "\n",
    "fig.update_yaxes(range=[0, 1])\n",
    "fig.write_image(\"../Plots/AdjR2.jpg\")\n",
    "fig.show()"
   ]
  }
 ],
 "metadata": {
  "kernelspec": {
   "display_name": "Python 3 (ipykernel)",
   "language": "python",
   "name": "python3"
  },
  "language_info": {
   "codemirror_mode": {
    "name": "ipython",
    "version": 3
   },
   "file_extension": ".py",
   "mimetype": "text/x-python",
   "name": "python",
   "nbconvert_exporter": "python",
   "pygments_lexer": "ipython3"
  }
 },
 "nbformat": 4,
 "nbformat_minor": 4
}
