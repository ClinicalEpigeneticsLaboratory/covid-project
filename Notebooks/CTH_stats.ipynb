{
 "cells": [
  {
   "cell_type": "code",
   "execution_count": null,
   "metadata": {},
   "outputs": [],
   "source": [
    "# Notebook with analysis of WBC cell fraction proportions between groups"
   ]
  },
  {
   "cell_type": "code",
   "execution_count": null,
   "metadata": {},
   "outputs": [],
   "source": [
    "import numpy as np\n",
    "import pandas as pd\n",
    "import scipy.stats as sts"
   ]
  },
  {
   "cell_type": "code",
   "execution_count": null,
   "metadata": {},
   "outputs": [],
   "source": [
    "samplesheet = pd.read_csv(\"../data/raw/SampleSheetALL.csv\", index_col=0)[\"Status\"]\n",
    "samplesheet = samplesheet[\n",
    "    (samplesheet != \"Unknown\")\n",
    "    & (samplesheet != \"Other-infection USA 2\")\n",
    "    & (samplesheet != \"Other-infection USA 1\")\n",
    "]"
   ]
  },
  {
   "cell_type": "code",
   "execution_count": null,
   "metadata": {},
   "outputs": [],
   "source": [
    "samplesheet.value_counts()"
   ]
  },
  {
   "cell_type": "code",
   "execution_count": null,
   "metadata": {},
   "outputs": [],
   "source": [
    "cf = pd.read_csv(\"../data/processed/CF/All_1175_raw_CF.csv\", index_col=0)\n",
    "cell_types = cf.columns\n",
    "\n",
    "cf = pd.concat((cf, samplesheet), axis=1).dropna()\n",
    "cf"
   ]
  },
  {
   "cell_type": "code",
   "execution_count": null,
   "metadata": {},
   "outputs": [],
   "source": [
    "cf.Status.nunique()"
   ]
  },
  {
   "cell_type": "code",
   "execution_count": null,
   "metadata": {},
   "outputs": [],
   "source": [
    "output = []\n",
    "\n",
    "for cell_type in cell_types:\n",
    "\n",
    "    datasets = []\n",
    "    data = cf[[cell_type, \"Status\"]]\n",
    "\n",
    "    for unq in data[\"Status\"].unique():\n",
    "        values = data[data[\"Status\"] == unq][cell_type].values.tolist()\n",
    "        datasets.append(values)\n",
    "\n",
    "    try:\n",
    "        # KW test:\n",
    "        _, pval_kw = sts.kruskal(*datasets)\n",
    "    except:\n",
    "        pval_kw = 1\n",
    "\n",
    "    try:\n",
    "        # Levene test\n",
    "        _, pval_lev = sts.levene(*datasets)\n",
    "    except:\n",
    "        pval_lev = 1\n",
    "\n",
    "    record = {\n",
    "        \"Cell type\": cell_type,\n",
    "        \"K-W test p-value\": pval_kw,\n",
    "        \"Levene test p-value\": pval_lev,\n",
    "    }\n",
    "    output.append(record)\n",
    "\n",
    "output = pd.DataFrame(output).round(2)\n",
    "output"
   ]
  },
  {
   "cell_type": "code",
   "execution_count": null,
   "metadata": {},
   "outputs": [],
   "source": [
    "output.to_csv(\"../Files/CF_stats.csv\")"
   ]
  }
 ],
 "metadata": {
  "kernelspec": {
   "display_name": "Python 3 (ipykernel)",
   "language": "python",
   "name": "python3"
  },
  "language_info": {
   "codemirror_mode": {
    "name": "ipython",
    "version": 3
   },
   "file_extension": ".py",
   "mimetype": "text/x-python",
   "name": "python",
   "nbconvert_exporter": "python",
   "pygments_lexer": "ipython3"
  }
 },
 "nbformat": 4,
 "nbformat_minor": 4
}
