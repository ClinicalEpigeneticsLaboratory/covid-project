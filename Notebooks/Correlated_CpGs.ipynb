{
 "cells": [
  {
   "cell_type": "code",
   "execution_count": null,
   "id": "829ade1a-d520-449d-aa92-56c408607b24",
   "metadata": {},
   "outputs": [],
   "source": [
    "# Analysis to find probes correlated with set of COVID-19 specific DMPs"
   ]
  },
  {
   "cell_type": "code",
   "execution_count": null,
   "id": "3fb0b2fe-40da-432c-8176-b6364a2bbb6a",
   "metadata": {},
   "outputs": [],
   "source": [
    "import os\n",
    "\n",
    "import scipy.stats as sts\n",
    "from tqdm import tqdm\n",
    "\n",
    "import matplotlib.pyplot as plt\n",
    "import seaborn as sns\n",
    "\n",
    "from collections import defaultdict\n",
    "from src.figures import clustermap, scatterplot\n",
    "from src.col_palette import pal\n",
    "\n",
    "import multiprocessing"
   ]
  },
  {
   "cell_type": "code",
   "execution_count": null,
   "id": "e842a3dc-907d-4816-93ce-500f8a12aa2c",
   "metadata": {},
   "outputs": [],
   "source": [
    "dmps = pd.read_csv(\"../Files/COVSpecificDMPs.csv\", index_col=0).index.tolist()\n",
    "len(dmps)"
   ]
  },
  {
   "cell_type": "code",
   "execution_count": null,
   "id": "c5d9d55b-5806-4c75-9c21-2cfed4afaf62",
   "metadata": {},
   "outputs": [],
   "source": [
    "samplesheet = pd.read_csv(\"../data/raw/SampleSheet.csv\", index_col=0)\n",
    "samplesheet = samplesheet[samplesheet.Status.str.contains(\"COVID\")]\n",
    "samplesheet"
   ]
  },
  {
   "cell_type": "code",
   "execution_count": null,
   "id": "6a7ed4be-d917-495d-bbe6-4b6cd1e441bb",
   "metadata": {},
   "outputs": [],
   "source": [
    "mynorm = pd.read_parquet(\n",
    "    \"../data/processed/CorrectedMyNorms/mynorm.parquet\", columns=samplesheet.index\n",
    ")\n",
    "mynorm = mynorm.T\n",
    "cpgs = mynorm.columns"
   ]
  },
  {
   "cell_type": "code",
   "execution_count": null,
   "id": "c10e9b4e-5d61-4b60-9a02-4e301aef0004",
   "metadata": {},
   "outputs": [],
   "source": [
    "corr = mynorm[dmps].corr()\n",
    "\n",
    "corr.index.name = \"\"\n",
    "corr.columns.name = \"\"\n",
    "\n",
    "mask = np.zeros_like(corr)\n",
    "mask[np.triu_indices_from(mask)] = True\n",
    "\n",
    "with sns.axes_style(\"white\"):\n",
    "    fig, ax = plt.subplots(figsize=(16, 16))\n",
    "    ax = sns.heatmap(corr, mask=mask, square=True, annot=False, annot_kws={\"size\": 12})\n",
    "\n",
    "fig.savefig(\"../Plots/CorrelationMap.png\", dpi=300)"
   ]
  },
  {
   "cell_type": "code",
   "execution_count": null,
   "id": "2ac3a338-f818-4d2a-a0cf-12f44fe20d21",
   "metadata": {},
   "outputs": [],
   "source": [
    "fig = plt.figure(figsize=(30, 30))\n",
    "sns.set_context(\"paper\", rc={\"axes.labelsize\": 20})\n",
    "\n",
    "fig = sns.pairplot(\n",
    "    mynorm[dmps],\n",
    "    corner=True,\n",
    ")\n",
    "\n",
    "fig.savefig(\"../Plots/PairplotCpGs.png\", dpi=300)\n",
    "plt.show()"
   ]
  },
  {
   "cell_type": "code",
   "execution_count": null,
   "id": "c1e9b67a-8eb2-4255-9aa2-063850e13e97",
   "metadata": {},
   "outputs": [],
   "source": [
    "samplesheet.Status.unique()"
   ]
  },
  {
   "cell_type": "code",
   "execution_count": null,
   "id": "e0066b22-d361-4011-b7e8-a5da9db4d1bd",
   "metadata": {},
   "outputs": [],
   "source": [
    "def find_correlated_cpgs(group_name: str) -> list:\n",
    "\n",
    "    samples = samplesheet[\n",
    "        (samplesheet.Status == group_name) & (samplesheet.ICU != \"Home\")\n",
    "    ].index\n",
    "    temp_mynorm = mynorm.loc[samples, :].copy()\n",
    "\n",
    "    print(f\"Set: {group_name}, mynorm: {temp_mynorm.shape}\")\n",
    "    print(\"Looking for correlated DMPs ...\")\n",
    "\n",
    "    correlated_cpgs = []\n",
    "\n",
    "    for dmp in dmps:\n",
    "        dmp_met = temp_mynorm[dmp]\n",
    "\n",
    "        for cpg in cpgs:\n",
    "            cpg_met = temp_mynorm[cpg]\n",
    "            corr, pval = sts.pearsonr(dmp_met, cpg_met)\n",
    "\n",
    "            if abs(corr) >= 0.7 and pval <= 0.05:\n",
    "                correlated_cpgs.append(cpg)\n",
    "\n",
    "    print(\"DONE\")\n",
    "    return set(correlated_cpgs)\n",
    "\n",
    "\n",
    "with multiprocessing.Pool(4) as p:\n",
    "    correlated_cpgs = p.map(find_correlated_cpgs, samplesheet.Status.unique())"
   ]
  },
  {
   "cell_type": "code",
   "execution_count": null,
   "id": "f1430fee-078b-4158-88fe-929e85f81c90",
   "metadata": {},
   "outputs": [],
   "source": [
    "sets_of_correlated_cpgs = [set(var) for var in correlated_cpgs]"
   ]
  },
  {
   "cell_type": "code",
   "execution_count": null,
   "id": "5b1d4b9e-c2e6-4dfa-a385-6d14b90c0572",
   "metadata": {},
   "outputs": [],
   "source": [
    "list_of_probes = set.intersection(*sets_of_correlated_cpgs)\n",
    "len(list_of_probes)"
   ]
  },
  {
   "cell_type": "code",
   "execution_count": null,
   "id": "05fe7562-ce6d-42d4-a658-db9eb885a12a",
   "metadata": {},
   "outputs": [],
   "source": [
    "epic = pd.read_parquet(os.environ.get(\"POETRY_EPIC\"))"
   ]
  },
  {
   "cell_type": "code",
   "execution_count": null,
   "id": "e271baea-2fd8-47c3-a422-d16256538863",
   "metadata": {},
   "outputs": [],
   "source": [
    "annotations = epic.loc[\n",
    "    list_of_probes,\n",
    "    [\n",
    "        \"UCSC_RefGene_Name\",\n",
    "        \"UCSC_RefGene_Group\",\n",
    "        \"Relation_to_UCSC_CpG_Island\",\n",
    "        \"Regulatory_Feature_Group\",\n",
    "    ],\n",
    "]"
   ]
  },
  {
   "cell_type": "code",
   "execution_count": null,
   "id": "30aabe45-c566-4895-a9b7-1de3671ee183",
   "metadata": {},
   "outputs": [],
   "source": [
    "annotations.to_csv(\"../Files/ExtendedDMPS.csv\")\n",
    "annotations"
   ]
  },
  {
   "cell_type": "code",
   "execution_count": null,
   "id": "7f2c1afa-480a-4f32-8089-bf039bb6770e",
   "metadata": {},
   "outputs": [],
   "source": [
    "annotations.loc[set.difference(set(annotations.index), set(dmps))]"
   ]
  },
  {
   "cell_type": "code",
   "execution_count": null,
   "id": "180380d7-1a4d-4931-a30a-cc22028b5222",
   "metadata": {},
   "outputs": [],
   "source": [
    "annotations.UCSC_RefGene_Name.str.split(\n",
    "    \";\"\n",
    ").explode().dropna().drop_duplicates().to_csv(\"../Files/ExtendedGenes.csv\")"
   ]
  },
  {
   "cell_type": "code",
   "execution_count": null,
   "id": "53e61d59-669f-46d8-bda2-e0f8273ce79c",
   "metadata": {},
   "outputs": [],
   "source": [
    "# TSNE\n",
    "from sklearn.manifold import TSNE\n",
    "\n",
    "\n",
    "def tsne(df: pd.DataFrame, poi_column: str = \"Status\") -> pd.DataFrame:\n",
    "\n",
    "    perplexity = min(df[poi_column].value_counts())\n",
    "    print(\"Perplexity: \", perplexity)\n",
    "\n",
    "    tsne = TSNE(n_components=2, method=\"exact\", random_state=101, perplexity=perplexity)\n",
    "    deco = tsne.fit_transform(df.drop(poi_column, axis=1))\n",
    "    deco = pd.DataFrame(deco, index=df.index, columns=[\"t-SNE 1\", \"t-SNE 2\"])\n",
    "\n",
    "    return pd.concat((deco, df[poi_column]), axis=1)"
   ]
  },
  {
   "cell_type": "code",
   "execution_count": null,
   "id": "93230804-c90f-421b-95ca-6c0d7cd3ac4d",
   "metadata": {},
   "outputs": [],
   "source": [
    "samplesheet = pd.read_csv(\"../data/raw/SampleSheet.csv\", index_col=0)\n",
    "samplesheet.Status.unique()"
   ]
  },
  {
   "cell_type": "code",
   "execution_count": null,
   "id": "52f5758f-9d2b-495b-8dbf-c790cbd46ba4",
   "metadata": {},
   "outputs": [],
   "source": [
    "dmps = pd.read_csv(\"../Files/COVSpecificDMPs.csv\", index_col=0)\n",
    "mynorm = pd.read_parquet(\"../data/processed/CorrectedMyNorms/mynorm.parquet\")\n",
    "mynorm = mynorm.loc[dmps.index, :].T"
   ]
  },
  {
   "cell_type": "code",
   "execution_count": null,
   "id": "d5b90623-95fe-45eb-b151-ed7b845b1c5e",
   "metadata": {},
   "outputs": [],
   "source": [
    "df = pd.concat((mynorm, samplesheet[[\"Status\"]]), axis=1)"
   ]
  },
  {
   "cell_type": "code",
   "execution_count": null,
   "id": "9019c8c1-963b-4b49-b0d9-cd02bd2ad92f",
   "metadata": {},
   "outputs": [],
   "source": [
    "df_usa1 = df[\n",
    "    df[\"Status\"].isin([\"COVID-19 USA 1\", \"Other respiratory infections USA 1\"])\n",
    "]\n",
    "\n",
    "scatterplot(\n",
    "    tsne(df_usa1, \"Status\"),\n",
    "    x=\"t-SNE 1\",\n",
    "    y=\"t-SNE 2\",\n",
    "    color_column=\"Status\",\n",
    "    color_discrete_map=pal,\n",
    "    trendline=None,\n",
    "    path=\"../Plots/tSNE_USA1_correlatedProbes.png\",\n",
    ")"
   ]
  },
  {
   "cell_type": "code",
   "execution_count": null,
   "id": "dfd20cd6-50c2-4cd8-aa04-c91a89950fad",
   "metadata": {},
   "outputs": [],
   "source": [
    "df_usa2 = df[\n",
    "    df[\"Status\"].isin([\"COVID-19 USA 2\", \"Other respiratory infections USA 2\"])\n",
    "]\n",
    "\n",
    "scatterplot(\n",
    "    tsne(df_usa2, \"Status\"),\n",
    "    x=\"t-SNE 1\",\n",
    "    y=\"t-SNE 2\",\n",
    "    color_column=\"Status\",\n",
    "    trendline=None,\n",
    "    color_discrete_map=pal,\n",
    "    path=\"../Plots/tSNE_USA2_correlatedProbes.png\",\n",
    ")"
   ]
  }
 ],
 "metadata": {
  "kernelspec": {
   "display_name": "Python 3 (ipykernel)",
   "language": "python",
   "name": "python3"
  },
  "language_info": {
   "codemirror_mode": {
    "name": "ipython",
    "version": 3
   },
   "file_extension": ".py",
   "mimetype": "text/x-python",
   "name": "python",
   "nbconvert_exporter": "python",
   "pygments_lexer": "ipython3"
  }
 },
 "nbformat": 4,
 "nbformat_minor": 5
}
