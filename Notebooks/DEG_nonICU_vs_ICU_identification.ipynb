{
 "cells": [
  {
   "cell_type": "code",
   "execution_count": null,
   "metadata": {},
   "outputs": [],
   "source": [
    "# Identfication of DEGs between ICU and non-ICU COVID-19 patients"
   ]
  },
  {
   "cell_type": "code",
   "execution_count": null,
   "metadata": {},
   "outputs": [],
   "source": [
    "import os\n",
    "\n",
    "from statsmodels.stats.outliers_influence import variance_inflation_factor\n",
    "import scipy.stats as sts\n",
    "import pandas as pd\n",
    "import numpy as np\n",
    "\n",
    "from src.stats import LogModel\n",
    "\n",
    "np.seed = 101\n",
    "\n",
    "\n",
    "def calculate_vif(df: pd.DataFrame) -> pd.DataFrame:\n",
    "    vif = pd.DataFrame()\n",
    "    vif[\"variables\"] = cf.columns\n",
    "    vif[\"VIF\"] = [variance_inflation_factor(cf.values, i) for i in range(cf.shape[1])]\n",
    "\n",
    "    return vif"
   ]
  },
  {
   "cell_type": "code",
   "execution_count": null,
   "metadata": {},
   "outputs": [],
   "source": [
    "# GSE ids\n",
    "id_ = pd.read_csv(\"../data/Annotations/GSE174818.csv\", index_col=0)\n",
    "id_ = id_.description.map(lambda x: x.split(\",\")[1])\n",
    "id_ = dict(zip(id_.values, id_.index))"
   ]
  },
  {
   "cell_type": "code",
   "execution_count": null,
   "metadata": {},
   "outputs": [],
   "source": [
    "# SampleSheet\n",
    "samplesheet = pd.read_csv(\"../data/raw/SampleSheet.csv\", index_col=0).dropna()\n",
    "samplesheet"
   ]
  },
  {
   "cell_type": "code",
   "execution_count": null,
   "metadata": {},
   "outputs": [],
   "source": [
    "# Covid Specific Genes\n",
    "deg = pd.read_csv(\"../Files/COVSpecificDMPs.csv\", index_col=0)[\n",
    "    [\"UCSC_RefGene_Name\", \"UCSC_RefGene_Group\"]\n",
    "].dropna()\n",
    "\n",
    "deg"
   ]
  },
  {
   "cell_type": "code",
   "execution_count": null,
   "metadata": {},
   "outputs": [],
   "source": [
    "genes_set = set(deg.UCSC_RefGene_Name.str.split(\";\").explode())\n",
    "len(genes_set)"
   ]
  },
  {
   "cell_type": "code",
   "execution_count": null,
   "metadata": {},
   "outputs": [],
   "source": [
    "raw_ttable = pd.read_table(\"../Expression/GSE157103_genes.tpm.tsv\", index_col=0).T\n",
    "raw_ttable.index = raw_ttable.index.map(dict(zip(samplesheet.ID, samplesheet.index)))\n",
    "\n",
    "raw_ttable = raw_ttable.loc[~raw_ttable.index.isna(), :]\n",
    "raw_ttable"
   ]
  },
  {
   "cell_type": "code",
   "execution_count": null,
   "metadata": {},
   "outputs": [],
   "source": [
    "# Select differential methyalted genes"
   ]
  },
  {
   "cell_type": "code",
   "execution_count": null,
   "metadata": {},
   "outputs": [],
   "source": [
    "ttable = raw_ttable[genes_set.intersection(set(raw_ttable.columns))]\n",
    "ttable = ttable.loc[:, ttable.mean() > 1]\n",
    "\n",
    "genes_set = set(ttable.columns)  # Update genes\n",
    "print(\"Updated number of genes: \", len(genes_set))"
   ]
  },
  {
   "cell_type": "code",
   "execution_count": null,
   "metadata": {},
   "outputs": [],
   "source": [
    "# clinical data\n",
    "clinical = pd.read_excel(\n",
    "    \"../data/Annotations/GSE174818_Clinical.xlsx\", index_col=1, skiprows=1\n",
    ")\n",
    "clinical.index = clinical.index.map(dict(zip(samplesheet.ID, samplesheet.index)))\n",
    "clinical = clinical.loc[~clinical.index.isna()]\n",
    "clinical = clinical[clinical[\"Diagnosis\"] == \"COVID-19\"]"
   ]
  },
  {
   "cell_type": "code",
   "execution_count": null,
   "metadata": {},
   "outputs": [],
   "source": [
    "# DEG [differential expressed genes] analysis"
   ]
  },
  {
   "cell_type": "code",
   "execution_count": null,
   "metadata": {},
   "outputs": [],
   "source": [
    "cf = pd.read_csv(\n",
    "    \"../data/processed/CF/raw_CF.csv\", index_col=0\n",
    ")  # -> Estimated WBC fractions for each sample using RPC method from EpiDish package [using raw methylation profiles]\n",
    "\n",
    "cf = cf.loc[ttable.index, :]\n",
    "cf = cf.drop(\"Eosino\", axis=1)\n",
    "cf = cf.drop(\"Mono\", axis=1)\n",
    "\n",
    "# VIF\n",
    "calculate_vif(cf)"
   ]
  },
  {
   "cell_type": "code",
   "execution_count": null,
   "metadata": {},
   "outputs": [],
   "source": [
    "data = pd.concat(\n",
    "    (cf, samplesheet[[\"Sex\", \"Age\"]], clinical[[\"Steroids\", \"ICU (1=yes)\"]]),\n",
    "    axis=1,\n",
    ").dropna()\n",
    "\n",
    "data.Sex = data.Sex.map({\"F\": 1, \"M\": 0})\n",
    "df = data.dropna()\n",
    "data"
   ]
  },
  {
   "cell_type": "code",
   "execution_count": null,
   "metadata": {},
   "outputs": [],
   "source": [
    "ttable"
   ]
  },
  {
   "cell_type": "code",
   "execution_count": null,
   "metadata": {},
   "outputs": [],
   "source": [
    "analysis = LogModel(data=ttable, pheno_table=data, response_var=\"ICU (1=yes)\")\n",
    "results = analysis.run()"
   ]
  },
  {
   "cell_type": "code",
   "execution_count": null,
   "metadata": {},
   "outputs": [],
   "source": [
    "results"
   ]
  },
  {
   "cell_type": "code",
   "execution_count": null,
   "metadata": {},
   "outputs": [],
   "source": [
    "results.to_csv(\"../Files/GenesICU_nonICU_stats.csv\")"
   ]
  }
 ],
 "metadata": {
  "kernelspec": {
   "display_name": "Python 3 (ipykernel)",
   "language": "python",
   "name": "python3"
  },
  "language_info": {
   "codemirror_mode": {
    "name": "ipython",
    "version": 3
   },
   "file_extension": ".py",
   "mimetype": "text/x-python",
   "name": "python",
   "nbconvert_exporter": "python",
   "pygments_lexer": "ipython3"
  }
 },
 "nbformat": 4,
 "nbformat_minor": 4
}
