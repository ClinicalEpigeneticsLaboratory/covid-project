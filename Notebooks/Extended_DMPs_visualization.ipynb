{
 "cells": [
  {
   "cell_type": "code",
   "execution_count": null,
   "metadata": {},
   "outputs": [],
   "source": [
    "import numpy as np\n",
    "import pandas as pd\n",
    "import seaborn as sns\n",
    "from venn import venn\n",
    "\n",
    "import os\n",
    "import plotly.express as px\n",
    "import matplotlib.pyplot as plt\n",
    "from matplotlib.patches import Patch\n",
    "\n",
    "from sklearn.manifold import TSNE\n",
    "\n",
    "from src.figures import *\n",
    "from src.col_palette import pal"
   ]
  },
  {
   "cell_type": "code",
   "execution_count": null,
   "metadata": {},
   "outputs": [],
   "source": [
    "sampleSheet = pd.read_csv(\"../data/raw/SampleSheet.csv\", index_col=0)"
   ]
  },
  {
   "cell_type": "code",
   "execution_count": null,
   "metadata": {},
   "outputs": [],
   "source": [
    "mynorm = pd.read_parquet(\n",
    "    \"../data/processed/CorrectedMyNorms/mynorm.parquet\",\n",
    ")\n",
    "mynorm"
   ]
  },
  {
   "cell_type": "code",
   "execution_count": null,
   "metadata": {},
   "outputs": [],
   "source": [
    "dmps = pd.read_csv(\"../Files/ExtendedDMPS.csv\", index_col=0).index\n",
    "dmps"
   ]
  },
  {
   "cell_type": "code",
   "execution_count": null,
   "metadata": {},
   "outputs": [],
   "source": [
    "def tsne(df: pd.DataFrame, poi_column: str = \"Status\") -> pd.DataFrame:\n",
    "\n",
    "    perplexity = min(df[poi_column].value_counts())\n",
    "    print(\"Perplexity: \", perplexity)\n",
    "\n",
    "    tsne = TSNE(n_components=2, method=\"exact\", random_state=101, perplexity=perplexity)\n",
    "    deco = tsne.fit_transform(df.drop(poi_column, axis=1))\n",
    "    deco = pd.DataFrame(deco, index=df.index, columns=[\"t-SNE 1\", \"t-SNE 2\"])\n",
    "\n",
    "    return pd.concat((deco, df[poi_column]), axis=1)"
   ]
  },
  {
   "cell_type": "code",
   "execution_count": null,
   "metadata": {},
   "outputs": [],
   "source": [
    "# COVID-19 vs Other respiratory infections USA 1"
   ]
  },
  {
   "cell_type": "code",
   "execution_count": null,
   "metadata": {},
   "outputs": [],
   "source": [
    "sampleSheet.Status.unique()"
   ]
  },
  {
   "cell_type": "code",
   "execution_count": null,
   "metadata": {},
   "outputs": [],
   "source": [
    "df_ori_1 = pd.concat(\n",
    "    (\n",
    "        mynorm.T[dmps],\n",
    "        sampleSheet[\n",
    "            sampleSheet.Status.isin(\n",
    "                [\n",
    "                    \"COVID-19 USA 1\",\n",
    "                    \"Other respiratory infections USA 1\",\n",
    "                ]\n",
    "            )\n",
    "        ][\"Status\"],\n",
    "    ),\n",
    "    axis=1,\n",
    ").dropna()\n",
    "df_ori_1.shape"
   ]
  },
  {
   "cell_type": "code",
   "execution_count": null,
   "metadata": {},
   "outputs": [],
   "source": [
    "scatterplot(\n",
    "    tsne(df_ori_1),\n",
    "    x=\"t-SNE 1\",\n",
    "    y=\"t-SNE 2\",\n",
    "    color_column=\"Status\",\n",
    "    color_discrete_map=pal,\n",
    "    labels={\"Other respiratory infection USA 1\": \"Other resp. inf. USA 1\"},\n",
    "    path=\"../Plots/Cov_vs_nonCOV_extended_CpG.png\",\n",
    "    trendline=None,\n",
    ")"
   ]
  },
  {
   "cell_type": "code",
   "execution_count": null,
   "metadata": {},
   "outputs": [],
   "source": [
    "clustermap(\n",
    "    df_ori_1, poi_columns=[\"Status\"], colors_palette=pal, path=\"../Plots/Ext_USA1.png\"\n",
    ")"
   ]
  },
  {
   "cell_type": "code",
   "execution_count": null,
   "metadata": {},
   "outputs": [],
   "source": [
    "# COVID-19 vs Other respiratory infections USA 2"
   ]
  },
  {
   "cell_type": "code",
   "execution_count": null,
   "metadata": {},
   "outputs": [],
   "source": [
    "df_ori_2 = pd.concat(\n",
    "    (\n",
    "        mynorm.T[dmps],\n",
    "        sampleSheet[\n",
    "            sampleSheet.Status.isin(\n",
    "                [\n",
    "                    \"COVID-19 USA 2\",\n",
    "                    \"Other respiratory infections USA 2\",\n",
    "                ]\n",
    "            )\n",
    "        ][\"Status\"],\n",
    "    ),\n",
    "    axis=1,\n",
    ").dropna()\n",
    "df_ori_1.shape"
   ]
  },
  {
   "cell_type": "code",
   "execution_count": null,
   "metadata": {},
   "outputs": [],
   "source": [
    "scatterplot(\n",
    "    tsne(df_ori_2),\n",
    "    x=\"t-SNE 1\",\n",
    "    y=\"t-SNE 2\",\n",
    "    color_column=\"Status\",\n",
    "    color_discrete_map=pal,\n",
    "    path=\"../Plots/Cov_vs_nonCOV_extendedCpGs.png\",\n",
    "    trendline=None,\n",
    ")"
   ]
  },
  {
   "cell_type": "code",
   "execution_count": null,
   "metadata": {},
   "outputs": [],
   "source": [
    "clustermap(\n",
    "    df_ori_2, poi_columns=[\"Status\"], colors_palette=pal, path=\"../Plots/Ext_USA2.png\"\n",
    ")"
   ]
  }
 ],
 "metadata": {
  "kernelspec": {
   "display_name": "Python 3 (ipykernel)",
   "language": "python",
   "name": "python3"
  },
  "language_info": {
   "codemirror_mode": {
    "name": "ipython",
    "version": 3
   },
   "file_extension": ".py",
   "mimetype": "text/x-python",
   "name": "python",
   "nbconvert_exporter": "python",
   "pygments_lexer": "ipython3"
  }
 },
 "nbformat": 4,
 "nbformat_minor": 4
}
