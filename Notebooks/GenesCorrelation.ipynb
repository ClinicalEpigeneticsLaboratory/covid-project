{
 "cells": [
  {
   "cell_type": "code",
   "execution_count": null,
   "id": "0c8f8cc9-392e-4684-8a0a-a982d8e15938",
   "metadata": {},
   "outputs": [],
   "source": [
    "import seaborn as sns\n",
    "import matplotlib.pyplot as plt"
   ]
  },
  {
   "cell_type": "code",
   "execution_count": null,
   "id": "30d8a7b8-baef-4e5b-81bc-1dc3f1364d8c",
   "metadata": {},
   "outputs": [],
   "source": [
    "df = pd.read_table(\"../Expression/GSE157103_genes.tpm.tsv\", index_col=0).T\n",
    "degs = set(pd.read_csv(\"../Files/DEGs_ICU_nonICU.csv\", index_col=0).Gene)\n",
    "df = df.loc[[name for name in df.index if name.startswith(\"C\")]]\n",
    "\n",
    "df = df[set.intersection(set(df.columns), degs)]"
   ]
  },
  {
   "cell_type": "code",
   "execution_count": null,
   "id": "072fc3ab-f440-4cf5-a4ed-ceda01ec86df",
   "metadata": {},
   "outputs": [],
   "source": [
    "df.drop(\"LRBA\", axis=1, inplace=True)"
   ]
  },
  {
   "cell_type": "code",
   "execution_count": null,
   "id": "ebd13626-0bb4-441a-9558-156b1a47bea6",
   "metadata": {},
   "outputs": [],
   "source": [
    "sns.pairplot(df)"
   ]
  },
  {
   "cell_type": "code",
   "execution_count": null,
   "id": "172e53ed-3009-4821-84f8-516e74f5fbe6",
   "metadata": {},
   "outputs": [],
   "source": [
    "corr = df.corr()\n",
    "\n",
    "corr.index.name = \"\"\n",
    "corr.columns.name = \"\"\n",
    "\n",
    "mask = np.zeros_like(corr)\n",
    "mask[np.triu_indices_from(mask)] = True\n",
    "sns.set(font_scale=1.4)\n",
    "\n",
    "with sns.axes_style(\"white\"):\n",
    "    fig, ax = plt.subplots(figsize=(18, 18))\n",
    "    ax = sns.heatmap(\n",
    "        corr.round(2), mask=mask, square=True, annot=True, annot_kws={\"size\": 16}\n",
    "    )\n",
    "fig.savefig(\"../Plots/GenesCorrelation.png\")"
   ]
  },
  {
   "cell_type": "code",
   "execution_count": null,
   "id": "f2dd8969-655e-4695-8699-9574a9d981f2",
   "metadata": {},
   "outputs": [],
   "source": []
  }
 ],
 "metadata": {
  "kernelspec": {
   "display_name": "Python 3 (ipykernel)",
   "language": "python",
   "name": "python3"
  },
  "language_info": {
   "codemirror_mode": {
    "name": "ipython",
    "version": 3
   },
   "file_extension": ".py",
   "mimetype": "text/x-python",
   "name": "python",
   "nbconvert_exporter": "python",
   "pygments_lexer": "ipython3"
  }
 },
 "nbformat": 4,
 "nbformat_minor": 5
}
