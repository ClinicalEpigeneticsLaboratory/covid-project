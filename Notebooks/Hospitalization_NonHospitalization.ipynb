{
 "cells": [
  {
   "cell_type": "code",
   "execution_count": null,
   "id": "9257d82e-6dbe-4ff5-b876-ef72c6ab526d",
   "metadata": {},
   "outputs": [],
   "source": [
    "import pandas as pd\n",
    "import plotly.express as px\n",
    "from IPython.display import display\n",
    "\n",
    "import scipy.stats as sts\n",
    "import statsmodels.api as sm\n",
    "import statsmodels.stats.api as sms\n",
    "from statsmodels.stats.multitest import multipletests\n",
    "from statsmodels.stats.multicomp import pairwise_tukeyhsd\n",
    "import matplotlib.pyplot as plt\n",
    "\n",
    "from src.figures import boxplot\n",
    "from src.col_palette import pal"
   ]
  },
  {
   "cell_type": "code",
   "execution_count": null,
   "id": "e73ba7c2-7d11-43d9-916b-d739e14f0c00",
   "metadata": {},
   "outputs": [],
   "source": [
    "# sample name mapper\n",
    "names = {\n",
    "    \"Home\": \"A_not Hospitalized\",\n",
    "    \"ICU\": \"Hospitalized\",\n",
    "    \"non-ICU\": \"Hospitalized\",\n",
    "}"
   ]
  },
  {
   "cell_type": "code",
   "execution_count": null,
   "id": "1ee384f5-d768-4913-ae15-a1341900c97b",
   "metadata": {},
   "outputs": [],
   "source": [
    "samplesheeet = pd.read_csv(\"../data/raw/SampleSheet.csv\", index_col=0).dropna()\n",
    "samplesheeet.Sex = samplesheeet.Sex.replace({\"F\": 1, \"M\": 0})\n",
    "samplesheeet[\"H_Status\"] = samplesheeet.ICU.replace(names)"
   ]
  },
  {
   "cell_type": "code",
   "execution_count": null,
   "id": "a32249f6-2dc4-40d8-bc83-d7cb56af90c3",
   "metadata": {},
   "outputs": [],
   "source": [
    "samplesheeet = samplesheeet[~samplesheeet[\"Status\"].str.contains(\"Other\")]\n",
    "samplesheeet = samplesheeet[[\"H_Status\", \"Sex\", \"Age\"]]\n",
    "samplesheeet"
   ]
  },
  {
   "cell_type": "code",
   "execution_count": null,
   "id": "84793a1b-96c5-4eb1-a8a0-e47b2502de5b",
   "metadata": {},
   "outputs": [],
   "source": [
    "samplesheeet.H_Status.value_counts()"
   ]
  },
  {
   "cell_type": "code",
   "execution_count": null,
   "id": "57006be1-a049-46e9-a6f7-a78ddb3f47bf",
   "metadata": {},
   "outputs": [],
   "source": [
    "dmps = pd.read_csv(\"../Files/COVSpecificDMPs.csv\", index_col=0)\n",
    "dmps.UCSC_RefGene_Name = dmps.UCSC_RefGene_Name.fillna(\"\")\n",
    "dmps.UCSC_RefGene_Name = dmps.UCSC_RefGene_Name.str.split(\";\").map(\n",
    "    lambda x: \" \".join(set(x))\n",
    ")\n",
    "dmps[\"annotation\"] = dmps.index + \" \" + dmps.UCSC_RefGene_Name"
   ]
  },
  {
   "cell_type": "code",
   "execution_count": null,
   "id": "696fba00-c428-478f-b6d6-9e9adcb1125f",
   "metadata": {},
   "outputs": [],
   "source": [
    "len(dmps.index)"
   ]
  },
  {
   "cell_type": "code",
   "execution_count": null,
   "id": "f6d518eb-875b-40a3-94c4-6801655bfb98",
   "metadata": {},
   "outputs": [],
   "source": [
    "mynorm = pd.read_parquet(\n",
    "    \"../data/processed/CorrectedMyNorms/mynorm.parquet\", columns=samplesheeet.index\n",
    ").T\n",
    "\n",
    "mynorm = mynorm[dmps.index]"
   ]
  },
  {
   "cell_type": "code",
   "execution_count": null,
   "id": "9f248ded-5d81-4030-a54e-6cd7d7f21700",
   "metadata": {},
   "outputs": [],
   "source": [
    "mynorm = pd.concat((mynorm, samplesheeet), axis=1)\n",
    "mynorm = mynorm.sort_values(\"H_Status\")\n",
    "mynorm"
   ]
  },
  {
   "cell_type": "code",
   "execution_count": null,
   "id": "a99b589c-e36e-4b6f-a1e2-0c68f12cd62c",
   "metadata": {},
   "outputs": [],
   "source": [
    "records = []\n",
    "diff = []\n",
    "\n",
    "for cnt, cpg in enumerate(dmps.index):\n",
    "\n",
    "    temp_df = mynorm[[cpg, \"Sex\", \"Age\"]]\n",
    "    temp_df[\"intercept\"] = 1\n",
    "\n",
    "    model = sm.MNLogit(\n",
    "        exog=temp_df,\n",
    "        endog=mynorm[\"H_Status\"],\n",
    "    )\n",
    "\n",
    "    model = model.fit()\n",
    "\n",
    "    print(model.summary())\n",
    "\n",
    "    pvals = model.pvalues.loc[cpg]\n",
    "    pvals.index = [\"Healthy controls\", \"Hospitalized\"]\n",
    "\n",
    "    pvals = pvals.to_frame().T\n",
    "    records.append(pvals)\n",
    "\n",
    "    hb_mean = mynorm[mynorm[\"H_Status\"] == \"Healthy controls\"][cpg].mean()\n",
    "    not_hosp_mean = mynorm[mynorm[\"H_Status\"] == \"A_not Hospitalized\"][cpg].mean()\n",
    "    hosp_mean = mynorm[mynorm[\"H_Status\"] == \"Hospitalized\"][cpg].mean()\n",
    "\n",
    "    diff.append(\n",
    "        {\n",
    "            \"CpG\": cpg,\n",
    "            \"Healthy controls - not Hospitalized\": hb_mean - not_hosp_mean,\n",
    "            \"Healthy controls - Hospitalized\": hb_mean - hosp_mean,\n",
    "            \"not Hospitalized - Hospitalized\": not_hosp_mean - hosp_mean,\n",
    "        }\n",
    "    )\n",
    "\n",
    "\n",
    "records = pd.concat(records)\n",
    "_, records[\"FDR Healthy controls\"], _, _ = multipletests(\n",
    "    records[\"Healthy controls\"], method=\"fdr_bh\"\n",
    ")\n",
    "\n",
    "_, records[\"FDR Hospitalized\"], _, _ = multipletests(\n",
    "    records[\"Hospitalized\"], method=\"fdr_bh\"\n",
    ")\n",
    "\n",
    "diff = pd.DataFrame(diff)\n",
    "diff = diff.set_index(\"CpG\")\n",
    "\n",
    "results = pd.concat((diff, records), axis=1)\n",
    "\n",
    "dmps_index = results[\n",
    "    (results[\"FDR Healthy controls\"] <= 0.05)\n",
    "    & (results[\"FDR Hospitalized\"] <= 0.05)\n",
    "    & (results[\"Healthy controls - not Hospitalized\"].abs() > 0.05)\n",
    "    & (results[\"Healthy controls - Hospitalized\"].abs() > 0.05)\n",
    "    & (results[\"not Hospitalized - Hospitalized\"].abs() > 0.05)\n",
    "].index\n",
    "\n",
    "results.loc[dmps_index, \"DMP\"] = True\n",
    "results[\"DMP\"] = results[\"DMP\"].fillna(False)"
   ]
  },
  {
   "cell_type": "code",
   "execution_count": null,
   "id": "94963e31-1030-4673-9c84-0e3aabab8b26",
   "metadata": {},
   "outputs": [],
   "source": [
    "results.to_csv(\"../Files/StatsHospitalization.csv\")\n",
    "results"
   ]
  },
  {
   "cell_type": "code",
   "execution_count": null,
   "id": "f1d87fdb-dc64-45bf-9d22-f9b443415449",
   "metadata": {},
   "outputs": [],
   "source": [
    "mapper = dict(zip(dmps.index, dmps.annotation))"
   ]
  },
  {
   "cell_type": "code",
   "execution_count": null,
   "id": "ab6b4019-23d2-41ad-aa81-a8771f7a09ad",
   "metadata": {},
   "outputs": [],
   "source": [
    "try:\n",
    "    mynorm = mynorm.drop([\"Sex\", \"Age\"], axis=1)\n",
    "except:\n",
    "    pass\n",
    "\n",
    "melted = mynorm.melt(\"H_Status\", var_name=\"CpG\", value_name=\"β-value\")\n",
    "melted.H_Status = melted.H_Status.replace({\"A_not Hospitalized\": \"not Hospitalized\"})"
   ]
  },
  {
   "cell_type": "code",
   "execution_count": null,
   "id": "6b3a1ac1-0b45-4ec3-8777-65386f032c95",
   "metadata": {},
   "outputs": [],
   "source": [
    "melted.H_Status.unique()"
   ]
  },
  {
   "cell_type": "code",
   "execution_count": null,
   "id": "f04c7c0c-eab1-41b3-b6f2-c665ae5e4be9",
   "metadata": {},
   "outputs": [],
   "source": [
    "boxplot(\n",
    "    melted,\n",
    "    category_orders={\n",
    "        \"H_Status\": [\"Healthy controls\", \"not Hospitalized\", \"Hospitalized\"]\n",
    "    },\n",
    "    y=\"β-value\",\n",
    "    facet_col=\"CpG\",\n",
    "    color_column=\"H_Status\",\n",
    "    facet_col_wrap=6,\n",
    "    width=1800,\n",
    "    height=800,\n",
    "    facet_font_size=18,\n",
    "    path=\"../Plots/Hosp_notHosp.png\",\n",
    ")"
   ]
  },
  {
   "cell_type": "code",
   "execution_count": null,
   "id": "324fee6a-a608-455d-a95a-52a442ba7f4d",
   "metadata": {},
   "outputs": [],
   "source": []
  }
 ],
 "metadata": {
  "kernelspec": {
   "display_name": "Python 3 (ipykernel)",
   "language": "python",
   "name": "python3"
  },
  "language_info": {
   "codemirror_mode": {
    "name": "ipython",
    "version": 3
   },
   "file_extension": ".py",
   "mimetype": "text/x-python",
   "name": "python",
   "nbconvert_exporter": "python",
   "pygments_lexer": "ipython3"
  }
 },
 "nbformat": 4,
 "nbformat_minor": 5
}
