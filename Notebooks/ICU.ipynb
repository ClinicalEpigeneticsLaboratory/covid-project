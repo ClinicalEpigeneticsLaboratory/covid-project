{
 "cells": [
  {
   "cell_type": "code",
   "execution_count": null,
   "id": "7ffe2b59-1f4c-4b66-ac8c-348d40ceabdb",
   "metadata": {},
   "outputs": [],
   "source": [
    "import pandas as pd\n",
    "import statsmodels.api as sts\n",
    "from statsmodels.stats.multitest import multipletests as mp\n",
    "\n",
    "from src.figures import boxplot\n",
    "from src.col_palette import pal"
   ]
  },
  {
   "cell_type": "code",
   "execution_count": null,
   "id": "d15f285c-e2e2-4553-a2c6-87113c4435f1",
   "metadata": {},
   "outputs": [],
   "source": [
    "samplesheet = pd.read_csv(\"../data/raw/SampleSheet.csv\", index_col=0)\n",
    "\n",
    "samplesheet = samplesheet[samplesheet.ICU.isin([\"non-ICU\", \"ICU\"])]\n",
    "samplesheet = samplesheet[samplesheet.Status.str.contains(\"COVID\")]\n",
    "samplesheet = samplesheet[~samplesheet.Status.str.contains(\"PL\")]\n",
    "\n",
    "samplesheet.Sex = samplesheet.Sex.replace({\"F\": 1, \"M\": 0})\n",
    "samplesheet.ICU = samplesheet.ICU.replace({\"non-ICU\": 0, \"ICU\": 1})\n",
    "samplesheet[\"intercept\"] = 1\n",
    "samplesheet"
   ]
  },
  {
   "cell_type": "code",
   "execution_count": null,
   "id": "b4b7971e-6fd9-4437-b59d-555f5012c6cb",
   "metadata": {},
   "outputs": [],
   "source": [
    "samplesheet.ICU.value_counts()"
   ]
  },
  {
   "cell_type": "code",
   "execution_count": null,
   "id": "03b1147d-a19b-45ef-9a4b-2515fb62d713",
   "metadata": {},
   "outputs": [],
   "source": [
    "mynorm = pd.read_parquet(\n",
    "    \"../data/processed/CorrectedMyNorms/mynorm.parquet\", columns=samplesheet.index\n",
    ")"
   ]
  },
  {
   "cell_type": "code",
   "execution_count": null,
   "id": "f239e8f5-d950-400f-bfc4-bc05c40347cb",
   "metadata": {},
   "outputs": [],
   "source": [
    "cpgs = pd.read_csv(\"../Files/COVSpecificDMPs.csv\", index_col=0).index\n",
    "mynorm = mynorm.loc[cpgs, :]"
   ]
  },
  {
   "cell_type": "code",
   "execution_count": null,
   "id": "0960892b-a541-441a-8a0f-b90a6a99b09e",
   "metadata": {},
   "outputs": [],
   "source": [
    "frames = []\n",
    "for group in samplesheet.Status.unique():\n",
    "\n",
    "    samples = samplesheet[samplesheet.Status == group].index\n",
    "    temp_mynorm = mynorm[samples].T\n",
    "    results_df = []\n",
    "\n",
    "    for cpg in cpgs:\n",
    "\n",
    "        temp = pd.concat(\n",
    "            (\n",
    "                temp_mynorm[cpg],\n",
    "                samplesheet.loc[samples, [\"intercept\", \"Sex\", \"Age\", \"ICU\"]],\n",
    "            ),\n",
    "            axis=1,\n",
    "        )\n",
    "\n",
    "        model = sts.Logit(\n",
    "            endog=temp[\"ICU\"], exog=temp[[\"intercept\", \"Sex\", \"Age\", cpg]]\n",
    "        )\n",
    "\n",
    "        model = model.fit()\n",
    "        pval = model.pvalues.loc[cpg]\n",
    "\n",
    "        record = {\"CpG\": cpg, \"Group\": group, \"p-value\": pval}\n",
    "        results_df.append(record)\n",
    "\n",
    "    results_df = pd.DataFrame(results_df)\n",
    "    _, results_df[\"FDR\"], _, _ = mp(results_df[\"p-value\"], method=\"fdr_bh\")\n",
    "    frames.append(results_df)\n",
    "\n",
    "results = pd.concat(frames)"
   ]
  },
  {
   "cell_type": "code",
   "execution_count": null,
   "id": "44748d91-7384-489e-a37b-3e21dd231d7d",
   "metadata": {},
   "outputs": [],
   "source": [
    "selected_cpgs = results[results[\"FDR\"] <= 0.05].CpG.value_counts()\n",
    "selected_cpgs = selected_cpgs[selected_cpgs == 3].index"
   ]
  },
  {
   "cell_type": "code",
   "execution_count": null,
   "id": "03fb6a25-6aa3-4ca9-83c4-c3dddb9b692f",
   "metadata": {},
   "outputs": [],
   "source": [
    "df = pd.concat((mynorm.T[selected_cpgs], samplesheet[[\"ICU\"]]), axis=1)\n",
    "df = df.melt(\"ICU\", var_name=\"CpG\", value_name=\"β-value\")\n",
    "df.ICU = df.ICU.replace({0: \"non-ICU\", 1: \"ICU\"})\n",
    "df"
   ]
  },
  {
   "cell_type": "code",
   "execution_count": null,
   "id": "5ff30613-52ae-4d57-bcca-0a788f331f73",
   "metadata": {},
   "outputs": [],
   "source": [
    "boxplot(\n",
    "    df,\n",
    "    facet_font_size=20,\n",
    "    y=\"β-value\",\n",
    "    facet_col=\"CpG\",\n",
    "    color_column=\"ICU\",\n",
    "    tick_font_size=18,\n",
    "    color_discrete_map=pal,\n",
    "    y_range=[0, 1],\n",
    "    path=\"../Plots/ICUassociatedProbes.png\",\n",
    ")"
   ]
  },
  {
   "cell_type": "code",
   "execution_count": null,
   "id": "e5c431f2-eb8d-49bd-a8c1-dcc7becf5980",
   "metadata": {},
   "outputs": [],
   "source": []
  }
 ],
 "metadata": {
  "kernelspec": {
   "display_name": "Python 3 (ipykernel)",
   "language": "python",
   "name": "python3"
  },
  "language_info": {
   "codemirror_mode": {
    "name": "ipython",
    "version": 3
   },
   "file_extension": ".py",
   "mimetype": "text/x-python",
   "name": "python",
   "nbconvert_exporter": "python",
   "pygments_lexer": "ipython3"
  }
 },
 "nbformat": 4,
 "nbformat_minor": 5
}
