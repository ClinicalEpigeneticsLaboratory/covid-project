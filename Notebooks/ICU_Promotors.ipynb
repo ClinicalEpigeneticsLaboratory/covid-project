{
 "cells": [
  {
   "cell_type": "code",
   "execution_count": null,
   "id": "891773c0-4b75-43ab-bf7d-06cfef95cdb5",
   "metadata": {},
   "outputs": [],
   "source": [
    "# Analysis of promotors global methylation levels [genes associated with ICU]"
   ]
  },
  {
   "cell_type": "code",
   "execution_count": null,
   "id": "7ffe2b59-1f4c-4b66-ac8c-348d40ceabdb",
   "metadata": {},
   "outputs": [],
   "source": [
    "import os\n",
    "\n",
    "import pandas as pd\n",
    "import statsmodels.api as sts\n",
    "from statsmodels.stats.multitest import multipletests as mp\n",
    "\n",
    "from src.figures import boxplot"
   ]
  },
  {
   "cell_type": "code",
   "execution_count": null,
   "id": "f425ea2c-376a-47ff-8553-ff8c0ab6e954",
   "metadata": {},
   "outputs": [],
   "source": [
    "samplesheet = pd.read_csv(\"../data/raw/SampleSheet.csv\", index_col=0)\n",
    "\n",
    "samplesheet = samplesheet[samplesheet.ICU.isin([\"non-ICU\", \"ICU\"])]\n",
    "samplesheet = samplesheet[samplesheet.Status.str.contains(\"COVID\")]\n",
    "samplesheet = samplesheet[~samplesheet.Status.str.contains(\"PL\")]\n",
    "\n",
    "samplesheet.Sex = samplesheet.Sex.replace({\"F\": 1, \"M\": 0})\n",
    "samplesheet.ICU = samplesheet.ICU.replace({\"non-ICU\": 0, \"ICU\": 1})\n",
    "samplesheet[\"intercept\"] = 1\n",
    "samplesheet"
   ]
  },
  {
   "cell_type": "code",
   "execution_count": null,
   "id": "292981eb-6245-4399-9861-ab834e7ce1c2",
   "metadata": {},
   "outputs": [],
   "source": [
    "mynorm = pd.read_parquet(\n",
    "    \"../data/processed/CorrectedMyNorms/mynorm.parquet\", columns=samplesheet.index\n",
    ")"
   ]
  },
  {
   "cell_type": "code",
   "execution_count": null,
   "id": "53961823-7195-4e73-8cd3-da2a7a8ca80c",
   "metadata": {},
   "outputs": [],
   "source": [
    "genes = pd.read_csv(\"../Files/DEGs_ICU_nonICU.csv\", index_col=0).Gene.values\n",
    "genes"
   ]
  },
  {
   "cell_type": "code",
   "execution_count": null,
   "id": "2739195f-d5a6-46cf-9d1f-e2afc7ba3a64",
   "metadata": {},
   "outputs": [],
   "source": [
    "epic = pd.read_parquet(os.environ.get(\"POETRY_EPIC\"))[[\"UCSC_RefGene_Name\", \"UCSC_RefGene_Group\", \"Regulatory_Feature_Group\"]]\n",
    "epic = epic.dropna()\n",
    "\n",
    "promotors = epic[epic[\"UCSC_RefGene_Name\"].str.contains(\"|\".join(genes))]\n",
    "\n",
    "promotors = promotors[\n",
    "    promotors[\"Regulatory_Feature_Group\"].str.contains(\"promoter\", case=False)\n",
    "]\n",
    "\n",
    "promotors = promotors.loc[set.intersection(set(promotors.index), set(mynorm.index)), :]\n",
    "promotors.UCSC_RefGene_Name.unique()  # no probes for IFI44L in mynorm"
   ]
  },
  {
   "cell_type": "code",
   "execution_count": null,
   "id": "b4b7971e-6fd9-4437-b59d-555f5012c6cb",
   "metadata": {},
   "outputs": [],
   "source": [
    "samplesheet.ICU.value_counts()"
   ]
  },
  {
   "cell_type": "code",
   "execution_count": null,
   "id": "0960892b-a541-441a-8a0f-b90a6a99b09e",
   "metadata": {},
   "outputs": [],
   "source": [
    "frames = []\n",
    "\n",
    "for group in samplesheet.Status.unique():\n",
    "\n",
    "    samples = samplesheet[samplesheet.Status == group].index\n",
    "    temp_mynorm = mynorm[samples].T\n",
    "    results_df = []\n",
    "\n",
    "    for gene in genes:\n",
    "        probes = promotors[promotors[\"UCSC_RefGene_Name\"].str.contains(gene)].index\n",
    "\n",
    "        if len(probes) == 0:\n",
    "            continue\n",
    "\n",
    "        promotor_methylation_level = temp_mynorm[probes].mean(axis=1)\n",
    "        promotor_methylation_level.name = gene\n",
    "\n",
    "        temp = pd.concat(\n",
    "            (\n",
    "                promotor_methylation_level,\n",
    "                samplesheet.loc[samples, [\"intercept\", \"Sex\", \"Age\", \"ICU\"]],\n",
    "            ),\n",
    "            axis=1,\n",
    "        )\n",
    "\n",
    "        model = sts.Logit(\n",
    "            endog=temp[\"ICU\"], exog=temp[[\"intercept\", \"Sex\", \"Age\", gene]]\n",
    "        )\n",
    "\n",
    "        model = model.fit()\n",
    "        pval = model.pvalues.loc[gene]\n",
    "\n",
    "        record = {\"Promotor\": gene, \"Group\": group, \"p-value\": pval}\n",
    "        results_df.append(record)\n",
    "\n",
    "    results_df = pd.DataFrame(results_df)\n",
    "    _, results_df[\"FDR\"], _, _ = mp(results_df[\"p-value\"], method=\"fdr_bh\")\n",
    "    frames.append(results_df)\n",
    "\n",
    "results = pd.concat(frames)"
   ]
  },
  {
   "cell_type": "code",
   "execution_count": null,
   "id": "9f465864-3601-4eda-b947-4145c184d511",
   "metadata": {},
   "outputs": [],
   "source": [
    "results"
   ]
  },
  {
   "cell_type": "code",
   "execution_count": null,
   "id": "44748d91-7384-489e-a37b-3e21dd231d7d",
   "metadata": {},
   "outputs": [],
   "source": [
    "results[results[\"FDR\"] <= 0.05]"
   ]
  }
 ],
 "metadata": {
  "kernelspec": {
   "display_name": "Python 3 (ipykernel)",
   "language": "python",
   "name": "python3"
  },
  "language_info": {
   "codemirror_mode": {
    "name": "ipython",
    "version": 3
   },
   "file_extension": ".py",
   "mimetype": "text/x-python",
   "name": "python",
   "nbconvert_exporter": "python",
   "pygments_lexer": "ipython3"
  }
 },
 "nbformat": 4,
 "nbformat_minor": 5
}
