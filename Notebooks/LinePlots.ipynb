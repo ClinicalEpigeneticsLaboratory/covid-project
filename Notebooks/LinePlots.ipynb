{
 "cells": [
  {
   "cell_type": "code",
   "execution_count": null,
   "id": "c7d2b328-e3df-48a3-a53e-3118254662a6",
   "metadata": {},
   "outputs": [],
   "source": [
    "import os\n",
    "\n",
    "import pandas as pd\n",
    "import plotly.graph_objects as go"
   ]
  },
  {
   "cell_type": "code",
   "execution_count": null,
   "id": "f2d7a0d3-c119-4864-839f-7ba888175838",
   "metadata": {},
   "outputs": [],
   "source": [
    "epic = pd.read_parquet(os.environ.get(\"POETRY_EPIC\"))\n",
    "epic = epic[\n",
    "    [\n",
    "        \"UCSC_RefGene_Name\",\n",
    "        \"UCSC_RefGene_Group\",\n",
    "        \"Relation_to_UCSC_CpG_Island\",\n",
    "        \"Regulatory_Feature_Group\",\n",
    "        \"MAPINFO\",\n",
    "    ]\n",
    "]\n",
    "\n",
    "epic = epic[~epic.UCSC_RefGene_Name.isna()]\n",
    "epic"
   ]
  },
  {
   "cell_type": "code",
   "execution_count": null,
   "id": "2330145e-38e1-4037-81d7-ed366c9d9dcb",
   "metadata": {},
   "outputs": [],
   "source": [
    "samplesheet = pd.read_csv(\"../data/raw/SampleSheet.csv\", index_col=0)\n",
    "mynorm = pd.read_parquet(\"../data/processed/CorrectedMyNorms/mynorm.parquet\").T\n",
    "mynorm"
   ]
  },
  {
   "cell_type": "code",
   "execution_count": null,
   "id": "cfcb942e-92cb-4fd0-a280-656f6d3d5485",
   "metadata": {},
   "outputs": [],
   "source": [
    "allgenes = pd.read_csv(\"../Files/COVSpecificGenes.csv\", index_col=0).Genes\n",
    "genes = \"|\".join(allgenes.tolist())\n",
    "genes"
   ]
  },
  {
   "cell_type": "code",
   "execution_count": null,
   "id": "deb38ae6-892e-48e3-98fd-96469601ed79",
   "metadata": {},
   "outputs": [],
   "source": [
    "epic = epic.sort_values(\"UCSC_RefGene_Name\")\n",
    "epic = epic[epic[\"UCSC_RefGene_Name\"].str.contains(genes)]"
   ]
  },
  {
   "cell_type": "code",
   "execution_count": null,
   "id": "a939057d-9bd2-4791-9c38-46d019542e50",
   "metadata": {},
   "outputs": [],
   "source": [
    "mynorm = mynorm[set(epic.index).intersection(set(mynorm.columns))]\n",
    "epic = epic.loc[mynorm.columns]\n",
    "\n",
    "converted = []\n",
    "for status in samplesheet.Status:\n",
    "    if \"COVID\" in status:\n",
    "        converted.append(\"COVID-19\")\n",
    "    elif \"Other respiratory infections\" in status:\n",
    "        converted.append(\"Other respiratory infections\")\n",
    "    else:\n",
    "        converted.append(\"Healthy control\")\n",
    "\n",
    "mynorm[\"Status\"] = converted"
   ]
  },
  {
   "cell_type": "code",
   "execution_count": null,
   "id": "e69414fe-5a93-428d-b036-a0f09dee4f2f",
   "metadata": {},
   "outputs": [],
   "source": [
    "for gene in allgenes.unique():\n",
    "\n",
    "    probes = (\n",
    "        epic[epic.UCSC_RefGene_Name.str.contains(gene)]\n",
    "        .sort_values(\"MAPINFO\", ascending=True)\n",
    "        .index\n",
    "    )\n",
    "\n",
    "    fig = go.Figure()\n",
    "\n",
    "    for group in mynorm.Status.unique():\n",
    "        temp_mynorm = mynorm[mynorm.Status == group]\n",
    "        temp_mynorm = temp_mynorm[probes].mean()\n",
    "        fig.add_trace(\n",
    "            go.Line(\n",
    "                x=temp_mynorm.index,\n",
    "                y=temp_mynorm.values,\n",
    "                mode=\"lines+markers\",\n",
    "                name=group,\n",
    "            )\n",
    "        )\n",
    "\n",
    "    fig.update_layout(title=gene)\n",
    "    fig.show()"
   ]
  },
  {
   "cell_type": "code",
   "execution_count": null,
   "id": "cd717dfb-5d7a-4d1c-9ad6-3d1175152862",
   "metadata": {},
   "outputs": [],
   "source": [
    "epic[epic.UCSC_RefGene_Name.str.contains(\"DTX3L|MX1\")].sort_values(\"MAPINFO\")"
   ]
  },
  {
   "cell_type": "code",
   "execution_count": null,
   "id": "2dbc425d-8250-40c6-9068-81431dec1283",
   "metadata": {},
   "outputs": [],
   "source": []
  }
 ],
 "metadata": {
  "kernelspec": {
   "display_name": "Python 3 (ipykernel)",
   "language": "python",
   "name": "python3"
  },
  "language_info": {
   "codemirror_mode": {
    "name": "ipython",
    "version": 3
   },
   "file_extension": ".py",
   "mimetype": "text/x-python",
   "name": "python",
   "nbconvert_exporter": "python",
   "pygments_lexer": "ipython3"
  }
 },
 "nbformat": 4,
 "nbformat_minor": 5
}
