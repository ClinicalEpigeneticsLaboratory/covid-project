{
 "cells": [
  {
   "cell_type": "code",
   "execution_count": null,
   "id": "a6908c88-2884-46b1-9de0-9e738c611dd1",
   "metadata": {},
   "outputs": [],
   "source": [
    "# Additional analysis of COVID-19 specific DMPs adjusted for sex and age"
   ]
  },
  {
   "cell_type": "code",
   "execution_count": null,
   "id": "b359d637-953e-44e5-87d0-a2adc7ee81c4",
   "metadata": {},
   "outputs": [],
   "source": [
    "import pandas as pd\n",
    "import statsmodels.api as sts"
   ]
  },
  {
   "cell_type": "code",
   "execution_count": null,
   "id": "eb1cef6e-4ce6-4adc-a079-8efdd0cb9a16",
   "metadata": {},
   "outputs": [],
   "source": [
    "mynorm = pd.read_parquet(\"../data/processed/CorrectedMyNorms/mynorm.parquet\")\n",
    "samplesheet = pd.read_csv(\"../data/raw/SampleSheet.csv\", index_col=0)"
   ]
  },
  {
   "cell_type": "code",
   "execution_count": null,
   "id": "10fdeea4-a82e-41ab-a9fa-46544c6150d5",
   "metadata": {},
   "outputs": [],
   "source": [
    "probes = pd.read_csv(\"../Files/COVSpecificDMPs.csv\", index_col=0)\n",
    "mynorm = mynorm.T[probes.index]"
   ]
  },
  {
   "cell_type": "code",
   "execution_count": null,
   "id": "8eaa82ea-57cc-49ff-8760-45a953938f14",
   "metadata": {},
   "outputs": [],
   "source": [
    "samplesheet.Sex = samplesheet.Sex.replace({\"F\": 1, \"M\": 0})\n",
    "samplesheet.Status = samplesheet.Status.replace(\n",
    "    {\n",
    "        \"COVID-19 PL\": \"COVID\",\n",
    "        \"COVID-19 ES\": \"COVID\",\n",
    "        \"COVID-19 USA 1\": \"COVID\",\n",
    "        \"COVID-19 USA 2\": \"COVID\",\n",
    "        \"Other respiratory infections USA 1\": \"non-COVID\",\n",
    "        \"Other respiratory infections USA 2\": \"non-COVID\",\n",
    "        \"Healthy controls\": \"Control\",\n",
    "    }\n",
    ")\n",
    "samplesheet[\"intercept\"] = 1"
   ]
  },
  {
   "cell_type": "code",
   "execution_count": null,
   "id": "b7adfb6b-22c9-4a0b-a6a4-19f6c057dea8",
   "metadata": {},
   "outputs": [],
   "source": [
    "pd.crosstab(samplesheet.Status, samplesheet.Sex)"
   ]
  },
  {
   "cell_type": "code",
   "execution_count": null,
   "id": "d55a8e88-4b1e-4f91-92fc-c58fee294599",
   "metadata": {},
   "outputs": [],
   "source": [
    "for probe in probes.index:\n",
    "    model = sts.MNLogit(\n",
    "        endog=samplesheet.Status.loc[mynorm.index],\n",
    "        exog=pd.concat(\n",
    "            (mynorm[probe], samplesheet[[\"intercept\", \"Sex\", \"Age\"]]), axis=1\n",
    "        ),\n",
    "    )\n",
    "    summary = model.fit()\n",
    "    print(summary.summary())\n",
    "    assert all(summary.pvalues.loc[probe, :] <= 0.05)"
   ]
  }
 ],
 "metadata": {
  "kernelspec": {
   "display_name": "Python 3 (ipykernel)",
   "language": "python",
   "name": "python3"
  },
  "language_info": {
   "codemirror_mode": {
    "name": "ipython",
    "version": 3
   },
   "file_extension": ".py",
   "mimetype": "text/x-python",
   "name": "python",
   "nbconvert_exporter": "python",
   "pygments_lexer": "ipython3"
  }
 },
 "nbformat": 4,
 "nbformat_minor": 5
}
