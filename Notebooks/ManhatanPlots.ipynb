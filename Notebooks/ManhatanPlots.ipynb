{
 "cells": [
  {
   "cell_type": "code",
   "execution_count": 1,
   "metadata": {},
   "outputs": [],
   "source": [
    "import pandas as pd\n",
    "\n",
    "from bioinfokit import visuz\n",
    "import matplotlib.pyplot as plt"
   ]
  },
  {
   "cell_type": "code",
   "execution_count": 2,
   "metadata": {},
   "outputs": [],
   "source": [
    "epic = pd.read_csv(\n",
    "    \"../data/Additional/EPIC/MethylationEPIC_v-1-0_B4.csv\",\n",
    "    index_col=0,\n",
    "    low_memory=False,\n",
    ")[\"CHR\"]"
   ]
  },
  {
   "cell_type": "code",
   "execution_count": 3,
   "metadata": {},
   "outputs": [],
   "source": [
    "reports = [\"output/SpainCoV_vs_HB_TSS.csv\", \"output/PLCoV_vs_HB_TSS.csv\", \"output/USACoV_vs_HB_TSS.csv\"]\n",
    "names = [\"Spain\", \n",
    "         \"PL\", \n",
    "         \"USA\"]"
   ]
  },
  {
   "cell_type": "code",
   "execution_count": 7,
   "metadata": {},
   "outputs": [],
   "source": [
    "for name, data in zip(names, reports):\n",
    "    df = pd.read_csv(data, index_col=0)\n",
    "    df = df[(df[\"Delta mean\"].abs() > 0.1) & (df[\"q-value\"] <= 0.05)]\n",
    "    df = pd.concat((epic.loc[df.index], df), axis=1)\n",
    "       \n",
    "    visuz.marker.mhat(\n",
    "    df=df, dim=(12, 16),axlabelfontsize=12, axtickfontsize=5,\n",
    "    chr=\"CHR\", dotsize=75,\n",
    "    pv=\"q-value\",\n",
    "    figname=f\"../Plots/Manhatan_{name}\", figtype=\"jpg\"\n",
    ")"
   ]
  },
  {
   "cell_type": "code",
   "execution_count": null,
   "metadata": {},
   "outputs": [],
   "source": []
  }
 ],
 "metadata": {
  "kernelspec": {
   "display_name": "Python 3",
   "language": "python",
   "name": "python3"
  },
  "language_info": {
   "codemirror_mode": {
    "name": "ipython",
    "version": 3
   },
   "file_extension": ".py",
   "mimetype": "text/x-python",
   "name": "python",
   "nbconvert_exporter": "python",
   "pygments_lexer": "ipython3",
   "version": "3.8.10"
  }
 },
 "nbformat": 4,
 "nbformat_minor": 4
}
