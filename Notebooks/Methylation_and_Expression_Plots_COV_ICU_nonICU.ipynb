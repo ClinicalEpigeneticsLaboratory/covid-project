{
 "cells": [
  {
   "cell_type": "code",
   "execution_count": null,
   "metadata": {},
   "outputs": [],
   "source": [
    "# Notebook: Analysis of association between expression and methylation\n",
    "# Description: Notebook contains analysis of genes expresion [TPMs] and methylation [beta-values] for covid-19 and non-covid-19 patients [USA]\n",
    "# Data collected from: GSE157103 [expression data] and  GSE174818 [methylation]"
   ]
  },
  {
   "cell_type": "code",
   "execution_count": null,
   "metadata": {},
   "outputs": [],
   "source": [
    "from IPython.display import display\n",
    "import os\n",
    "\n",
    "from sklearn.preprocessing import StandardScaler\n",
    "import scipy.stats as sts\n",
    "import seaborn as sns\n",
    "import pandas as pd\n",
    "\n",
    "from src.utils import extract, extract_probes_in_specific_region\n",
    "from src.col_palette import pal\n",
    "from src.figures import *"
   ]
  },
  {
   "cell_type": "code",
   "execution_count": null,
   "metadata": {},
   "outputs": [],
   "source": [
    "# Load mynorm"
   ]
  },
  {
   "cell_type": "code",
   "execution_count": null,
   "metadata": {},
   "outputs": [],
   "source": [
    "samplesheet = pd.read_csv(\"../data/raw/SampleSheet.csv\", index_col=0)\n",
    "samplesheet.Status.unique()"
   ]
  },
  {
   "cell_type": "code",
   "execution_count": null,
   "metadata": {},
   "outputs": [],
   "source": [
    "samplesheet = samplesheet[(samplesheet.Status == \"COVID-19 USA 1\")]"
   ]
  },
  {
   "cell_type": "code",
   "execution_count": null,
   "metadata": {},
   "outputs": [],
   "source": [
    "# Load differetntial methylated genes"
   ]
  },
  {
   "cell_type": "code",
   "execution_count": null,
   "metadata": {},
   "outputs": [],
   "source": [
    "epic = pd.read_parquet(os.environ.get(\"POETRY_EPIC\"))[\n",
    "    [\"UCSC_RefGene_Name\", \"UCSC_RefGene_Group\"]\n",
    "]"
   ]
  },
  {
   "cell_type": "code",
   "execution_count": null,
   "metadata": {},
   "outputs": [],
   "source": [
    "genes_set = pd.read_csv(\"../Files/DEGs_ICU_nonICU.csv\", index_col=0).Gene.tolist()\n",
    "genes_set"
   ]
  },
  {
   "cell_type": "code",
   "execution_count": null,
   "metadata": {},
   "outputs": [],
   "source": [
    "# Load expression data"
   ]
  },
  {
   "cell_type": "code",
   "execution_count": null,
   "metadata": {},
   "outputs": [],
   "source": [
    "ttable = pd.read_table(\"../Expression/GSE157103_genes.tpm.tsv\", index_col=0).T\n",
    "ttable = ttable[genes_set]"
   ]
  },
  {
   "cell_type": "code",
   "execution_count": null,
   "metadata": {},
   "outputs": [],
   "source": [
    "# Convert sample names in mynorm"
   ]
  },
  {
   "cell_type": "code",
   "execution_count": null,
   "metadata": {},
   "outputs": [],
   "source": [
    "sample_names = pd.read_csv(\n",
    "    \"../data/Annotations/GSE174818.csv\", index_col=0\n",
    ").description.map(lambda x: x.split(\",\")[1])\n",
    "\n",
    "sample_names = dict(zip(sample_names.index, sample_names.values))"
   ]
  },
  {
   "cell_type": "code",
   "execution_count": null,
   "metadata": {},
   "outputs": [],
   "source": [
    "clinical = pd.read_excel(\n",
    "    \"../data/Annotations/GSE174818_supplement.xlsx\", index_col=1, skiprows=1\n",
    ")[[\"ICU (1=yes)\"]]\n",
    "\n",
    "clinical.columns = [\"TYPE\"]\n",
    "\n",
    "df = pd.concat((ttable, clinical), axis=1).dropna()\n",
    "df.TYPE = df.TYPE.replace({0: \"non-ICU\", 1: \"ICU\"})\n",
    "df = df.loc[[name for name in df.index if name.startswith(\"C\")]]\n",
    "df"
   ]
  },
  {
   "cell_type": "code",
   "execution_count": null,
   "metadata": {},
   "outputs": [],
   "source": [
    "df = df.melt(\"TYPE\", var_name=\"Gene\", value_name=\"Expression levels [TPM]\")\n",
    "df"
   ]
  },
  {
   "cell_type": "code",
   "execution_count": null,
   "metadata": {},
   "outputs": [],
   "source": [
    "boxplot(\n",
    "    df,\n",
    "    color_column=\"TYPE\",\n",
    "    y=\"Expression levels [TPM]\",\n",
    "    facet_col=\"Gene\",\n",
    "    color_discrete_map=pal,\n",
    "    facet_font_size=18,\n",
    "    tick_font_size=18,\n",
    "    spacing=0.05,\n",
    "    width=1200,\n",
    "    height=400,\n",
    "    sharey=False,\n",
    "    path=\"../Plots/Expression_ICU_NON_ICU.png\",\n",
    ")"
   ]
  }
 ],
 "metadata": {
  "kernelspec": {
   "display_name": "Python 3 (ipykernel)",
   "language": "python",
   "name": "python3"
  },
  "language_info": {
   "codemirror_mode": {
    "name": "ipython",
    "version": 3
   },
   "file_extension": ".py",
   "mimetype": "text/x-python",
   "name": "python",
   "nbconvert_exporter": "python",
   "pygments_lexer": "ipython3"
  }
 },
 "nbformat": 4,
 "nbformat_minor": 4
}
