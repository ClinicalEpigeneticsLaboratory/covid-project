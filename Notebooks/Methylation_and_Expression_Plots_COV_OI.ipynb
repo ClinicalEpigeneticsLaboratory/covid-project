{
 "cells": [
  {
   "cell_type": "code",
   "execution_count": null,
   "metadata": {},
   "outputs": [],
   "source": [
    "# Visualization of methylation and expression between COVID-19 and non-COIVD-19 patients"
   ]
  },
  {
   "cell_type": "code",
   "execution_count": null,
   "metadata": {},
   "outputs": [],
   "source": [
    "from IPython.display import display\n",
    "import os\n",
    "\n",
    "from plotly.subplots import make_subplots\n",
    "from sklearn.preprocessing import StandardScaler\n",
    "\n",
    "\n",
    "import plotly.graph_objects as go\n",
    "import plotly.express as px\n",
    "import scipy.stats as sts\n",
    "import seaborn as sns\n",
    "import pandas as pd\n",
    "\n",
    "from src.utils import extract, extract_probes_in_specific_region\n",
    "from src.col_palette import pal\n",
    "from src.figures import *"
   ]
  },
  {
   "cell_type": "code",
   "execution_count": null,
   "metadata": {},
   "outputs": [],
   "source": [
    "# Load mynorm"
   ]
  },
  {
   "cell_type": "code",
   "execution_count": null,
   "metadata": {},
   "outputs": [],
   "source": [
    "samplesheet = pd.read_csv(\"../data/raw/SampleSheet.csv\", index_col=0)\n",
    "samplesheet.Status.unique()"
   ]
  },
  {
   "cell_type": "code",
   "execution_count": null,
   "metadata": {},
   "outputs": [],
   "source": [
    "samplesheet = samplesheet[\n",
    "    (samplesheet.Status == \"COVID-19 USA 1\")\n",
    "    | (samplesheet.Status == \"Other respiratory infections USA 1\")\n",
    "]\n",
    "\n",
    "usa_myNorm = pd.read_parquet(\n",
    "    \"../data/processed/CorrectedMyNorms/mynorm.parquet\",\n",
    "    columns=samplesheet.index.tolist(),\n",
    ")\n",
    "usa_myNorm"
   ]
  },
  {
   "cell_type": "code",
   "execution_count": null,
   "metadata": {},
   "outputs": [],
   "source": [
    "# Load differetntial methylated genes"
   ]
  },
  {
   "cell_type": "code",
   "execution_count": null,
   "metadata": {},
   "outputs": [],
   "source": [
    "epic = pd.read_parquet(os.environ.get(\"POETRY_EPIC\"))[\n",
    "    [\"UCSC_RefGene_Name\", \"UCSC_RefGene_Group\"]\n",
    "]"
   ]
  },
  {
   "cell_type": "code",
   "execution_count": null,
   "metadata": {},
   "outputs": [],
   "source": [
    "genes_set = pd.read_csv(\"../Files/DEGs_COV_OI.csv\", index_col=0)[\"Gene\"].tolist()\n",
    "genes_set"
   ]
  },
  {
   "cell_type": "code",
   "execution_count": null,
   "metadata": {},
   "outputs": [],
   "source": [
    "# Load expression data"
   ]
  },
  {
   "cell_type": "code",
   "execution_count": null,
   "metadata": {},
   "outputs": [],
   "source": [
    "ttable = pd.read_table(\"../Expression/GSE157103_genes.tpm.tsv\", index_col=0).T"
   ]
  },
  {
   "cell_type": "code",
   "execution_count": null,
   "metadata": {},
   "outputs": [],
   "source": [
    "# Convert sample names in mynorm"
   ]
  },
  {
   "cell_type": "code",
   "execution_count": null,
   "metadata": {},
   "outputs": [],
   "source": [
    "sample_names = pd.read_csv(\n",
    "    \"../data/Annotations/GSE174818.csv\", index_col=0\n",
    ").description.map(lambda x: x.split(\",\")[1])\n",
    "\n",
    "sample_names = dict(zip(sample_names.index, sample_names.values))"
   ]
  },
  {
   "cell_type": "code",
   "execution_count": null,
   "metadata": {},
   "outputs": [],
   "source": [
    "# Plot methylation vs expression"
   ]
  },
  {
   "cell_type": "code",
   "execution_count": null,
   "metadata": {},
   "outputs": [],
   "source": [
    "usa_myNorm.columns = usa_myNorm.columns.map(sample_names)\n",
    "usa_myNorm"
   ]
  },
  {
   "cell_type": "code",
   "execution_count": null,
   "metadata": {},
   "outputs": [],
   "source": [
    "probes = (\n",
    "    pd.read_csv(\"../Files/COVSpecificGenes.csv\", index_col=0).dropna().Genes.to_frame()\n",
    ")\n",
    "\n",
    "probes = probes[probes.Genes.isin(genes_set)]\n",
    "probes"
   ]
  },
  {
   "cell_type": "code",
   "execution_count": null,
   "metadata": {},
   "outputs": [],
   "source": [
    "df = pd.concat(\n",
    "    (\n",
    "        ttable[set(ttable.columns).intersection(set(probes.Genes.values))],\n",
    "        usa_myNorm.loc[set(probes.index), :].T,\n",
    "    ),\n",
    "    axis=1,\n",
    ").dropna()\n",
    "\n",
    "df[\"TYPE\"] = [\n",
    "    \"COVID-19 USA 1\" if name.startswith(\"C\") else \"Other respiratory infections USA 1\"\n",
    "    for name in df.index\n",
    "]  # Add TYPE column with disease status\n",
    "df"
   ]
  },
  {
   "cell_type": "code",
   "execution_count": null,
   "metadata": {},
   "outputs": [],
   "source": [
    "titles = zip(probes.Genes, probes.index)\n",
    "titles = [\" \".join(name) for name in titles]\n",
    "len(titles)"
   ]
  },
  {
   "cell_type": "code",
   "execution_count": null,
   "metadata": {},
   "outputs": [],
   "source": [
    "df.TYPE.unique()"
   ]
  },
  {
   "cell_type": "code",
   "execution_count": null,
   "metadata": {},
   "outputs": [],
   "source": [
    "fig = make_subplots(rows=2, cols=8, column_titles=titles, horizontal_spacing=0.027)\n",
    "\n",
    "idx = 1\n",
    "for cpg, gene in probes.iterrows():\n",
    "\n",
    "    gene = gene.squeeze()\n",
    "    if gene not in df.columns:\n",
    "        continue\n",
    "\n",
    "    if idx == 1:\n",
    "        show_legend = True\n",
    "    else:\n",
    "        show_legend = False\n",
    "\n",
    "    for patient_type in df.TYPE.unique():\n",
    "        temp_data = df[df[\"TYPE\"] == patient_type]\n",
    "\n",
    "        # Add expression box\n",
    "        fig.add_trace(\n",
    "            go.Box(\n",
    "                x=[patient_type] * len(temp_data[gene]),\n",
    "                y=temp_data[gene],\n",
    "                boxmean=True,\n",
    "                marker=dict(size=8),\n",
    "                marker_color=pal.get(patient_type),\n",
    "                showlegend=False,\n",
    "            ),\n",
    "            row=1,\n",
    "            col=idx,\n",
    "        )\n",
    "\n",
    "        # Add scatter\n",
    "        fig.add_trace(\n",
    "            go.Scatter(\n",
    "                x=temp_data[cpg],\n",
    "                y=temp_data[gene],\n",
    "                mode=\"markers\",\n",
    "                name=patient_type,\n",
    "                marker=dict(size=8),\n",
    "                marker_color=pal.get(patient_type),\n",
    "                showlegend=show_legend,\n",
    "            ),\n",
    "            row=2,\n",
    "            col=idx,\n",
    "        )\n",
    "\n",
    "    idx += 1\n",
    "\n",
    "fig.update_layout(\n",
    "    height=750, width=1800, title_text=\"\", legend_font_size=19, font=(dict(size=16))\n",
    ")\n",
    "\n",
    "fig.update_yaxes(title_text=\"Expression levels [TPM]\", row=1, col=1)\n",
    "\n",
    "fig.update_yaxes(title_text=\"Expression levels [TPM]\", row=2, col=1)\n",
    "fig.update_xaxes(title_text=\"Methylation levels [β-values]\", row=2, col=1)\n",
    "\n",
    "fig.for_each_xaxis(lambda axis: axis.title.update(font=dict(size=16)))\n",
    "fig.for_each_yaxis(lambda axis: axis.title.update(font=dict(size=16)))\n",
    "\n",
    "for col in range(1, 10):\n",
    "    fig.update_xaxes(title_text=\"\", showticklabels=False, row=1, col=col)\n",
    "\n",
    "\n",
    "fig.write_image(\"../Plots/ExpressionMethylationLevels_COV_VS_OI.png\", scale=2)\n",
    "fig.show(renderer=\"browser\")"
   ]
  }
 ],
 "metadata": {
  "kernelspec": {
   "display_name": "Python 3 (ipykernel)",
   "language": "python",
   "name": "python3"
  },
  "language_info": {
   "codemirror_mode": {
    "name": "ipython",
    "version": 3
   },
   "file_extension": ".py",
   "mimetype": "text/x-python",
   "name": "python",
   "nbconvert_exporter": "python",
   "pygments_lexer": "ipython3"
  }
 },
 "nbformat": 4,
 "nbformat_minor": 4
}
