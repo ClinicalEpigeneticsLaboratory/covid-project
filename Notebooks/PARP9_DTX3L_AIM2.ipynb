{
 "cells": [
  {
   "cell_type": "code",
   "execution_count": 1,
   "metadata": {},
   "outputs": [],
   "source": [
    "# Notebook: Expression Analysis of PARP9 DTX3l and AIM2\n",
    "# Description: Notebook contains analysis of genes expresion for covid-19 and non-covid-19 patients"
   ]
  },
  {
   "cell_type": "code",
   "execution_count": 2,
   "metadata": {},
   "outputs": [],
   "source": [
    "import pandas as pd\n",
    "import seaborn as sns\n",
    "\n",
    "from sklearn.preprocessing import StandardScaler\n",
    "from scipy.cluster.hierarchy import dendrogram, linkage, fcluster\n",
    "\n",
    "import plotly.express as px\n",
    "import plotly.graph_objects as go\n",
    "import matplotlib.pyplot as plt\n",
    "\n",
    "import scipy.stats as sts"
   ]
  },
  {
   "cell_type": "code",
   "execution_count": 3,
   "metadata": {},
   "outputs": [],
   "source": [
    "%load_ext lab_black"
   ]
  },
  {
   "cell_type": "code",
   "execution_count": 4,
   "metadata": {},
   "outputs": [],
   "source": [
    "expression_data = pd.read_table(\"../Expression/GSE157103_genes.tpm.tsv\", index_col=0).T\n",
    "\n",
    "genes = [\"PARP9\", \"DTX3L\", \"AIM2\"]\n",
    "expression_data = expression_data[genes]"
   ]
  },
  {
   "cell_type": "code",
   "execution_count": 25,
   "metadata": {},
   "outputs": [
    {
     "data": {
      "text/html": [
       "<div>\n",
       "<style scoped>\n",
       "    .dataframe tbody tr th:only-of-type {\n",
       "        vertical-align: middle;\n",
       "    }\n",
       "\n",
       "    .dataframe tbody tr th {\n",
       "        vertical-align: top;\n",
       "    }\n",
       "\n",
       "    .dataframe thead th {\n",
       "        text-align: right;\n",
       "    }\n",
       "</style>\n",
       "<table border=\"1\" class=\"dataframe\">\n",
       "  <thead>\n",
       "    <tr style=\"text-align: right;\">\n",
       "      <th>#symbol</th>\n",
       "      <th>PARP9</th>\n",
       "      <th>DTX3L</th>\n",
       "      <th>AIM2</th>\n",
       "      <th>TYPE</th>\n",
       "    </tr>\n",
       "  </thead>\n",
       "  <tbody>\n",
       "    <tr>\n",
       "      <th>C1</th>\n",
       "      <td>402.93</td>\n",
       "      <td>145.23</td>\n",
       "      <td>102.60</td>\n",
       "      <td>COVID-19 USA</td>\n",
       "    </tr>\n",
       "    <tr>\n",
       "      <th>C2</th>\n",
       "      <td>112.39</td>\n",
       "      <td>39.90</td>\n",
       "      <td>36.29</td>\n",
       "      <td>COVID-19 USA</td>\n",
       "    </tr>\n",
       "    <tr>\n",
       "      <th>C3</th>\n",
       "      <td>431.47</td>\n",
       "      <td>122.19</td>\n",
       "      <td>157.94</td>\n",
       "      <td>COVID-19 USA</td>\n",
       "    </tr>\n",
       "    <tr>\n",
       "      <th>C4</th>\n",
       "      <td>100.88</td>\n",
       "      <td>40.19</td>\n",
       "      <td>16.85</td>\n",
       "      <td>COVID-19 USA</td>\n",
       "    </tr>\n",
       "    <tr>\n",
       "      <th>C5</th>\n",
       "      <td>398.58</td>\n",
       "      <td>95.64</td>\n",
       "      <td>279.70</td>\n",
       "      <td>COVID-19 USA</td>\n",
       "    </tr>\n",
       "    <tr>\n",
       "      <th>...</th>\n",
       "      <td>...</td>\n",
       "      <td>...</td>\n",
       "      <td>...</td>\n",
       "      <td>...</td>\n",
       "    </tr>\n",
       "    <tr>\n",
       "      <th>NC22</th>\n",
       "      <td>13.07</td>\n",
       "      <td>7.99</td>\n",
       "      <td>5.84</td>\n",
       "      <td>non-COVID-19 USA</td>\n",
       "    </tr>\n",
       "    <tr>\n",
       "      <th>NC23</th>\n",
       "      <td>82.05</td>\n",
       "      <td>23.73</td>\n",
       "      <td>61.93</td>\n",
       "      <td>non-COVID-19 USA</td>\n",
       "    </tr>\n",
       "    <tr>\n",
       "      <th>NC24</th>\n",
       "      <td>62.55</td>\n",
       "      <td>24.23</td>\n",
       "      <td>15.15</td>\n",
       "      <td>non-COVID-19 USA</td>\n",
       "    </tr>\n",
       "    <tr>\n",
       "      <th>NC25</th>\n",
       "      <td>15.18</td>\n",
       "      <td>14.29</td>\n",
       "      <td>4.67</td>\n",
       "      <td>non-COVID-19 USA</td>\n",
       "    </tr>\n",
       "    <tr>\n",
       "      <th>NC26</th>\n",
       "      <td>11.99</td>\n",
       "      <td>3.87</td>\n",
       "      <td>4.71</td>\n",
       "      <td>non-COVID-19 USA</td>\n",
       "    </tr>\n",
       "  </tbody>\n",
       "</table>\n",
       "<p>126 rows × 4 columns</p>\n",
       "</div>"
      ],
      "text/plain": [
       "#symbol   PARP9   DTX3L    AIM2              TYPE\n",
       "C1       402.93  145.23  102.60      COVID-19 USA\n",
       "C2       112.39   39.90   36.29      COVID-19 USA\n",
       "C3       431.47  122.19  157.94      COVID-19 USA\n",
       "C4       100.88   40.19   16.85      COVID-19 USA\n",
       "C5       398.58   95.64  279.70      COVID-19 USA\n",
       "...         ...     ...     ...               ...\n",
       "NC22      13.07    7.99    5.84  non-COVID-19 USA\n",
       "NC23      82.05   23.73   61.93  non-COVID-19 USA\n",
       "NC24      62.55   24.23   15.15  non-COVID-19 USA\n",
       "NC25      15.18   14.29    4.67  non-COVID-19 USA\n",
       "NC26      11.99    3.87    4.71  non-COVID-19 USA\n",
       "\n",
       "[126 rows x 4 columns]"
      ]
     },
     "execution_count": 25,
     "metadata": {},
     "output_type": "execute_result"
    }
   ],
   "source": [
    "expression_data[\"TYPE\"] = [\n",
    "    \"COVID-19 USA\" if name.startswith(\"C\") else \"non-COVID-19 USA\"\n",
    "    for name in expression_data.index\n",
    "]\n",
    "expression_data"
   ]
  },
  {
   "cell_type": "code",
   "execution_count": 26,
   "metadata": {},
   "outputs": [
    {
     "data": {
      "application/vnd.plotly.v1+json": {
       "config": {
        "plotlyServerURL": "https://plot.ly"
       },
       "data": [
        {
         "hovertemplate": "TYPE=COVID-19 USA<br>PARP9 [TPM]=%{x}<br>DTX3L [TPM]=%{y}<extra></extra>",
         "legendgroup": "COVID-19 USA",
         "marker": {
          "color": "#636efa",
          "size": 12,
          "symbol": "circle"
         },
         "mode": "markers",
         "name": "COVID-19 USA",
         "orientation": "v",
         "showlegend": true,
         "type": "scatter",
         "x": [
          402.93,
          112.39,
          431.47,
          100.88,
          398.58,
          80.66,
          97.7,
          114.95,
          157.65,
          112.05,
          102,
          148.05,
          279.11,
          331.12,
          122.61,
          102.89,
          113.57,
          110.05,
          142.73,
          171.6,
          189.63,
          111.06,
          190.66,
          123.81,
          88.19,
          246.92,
          238.08,
          230.18,
          76.33,
          65.41,
          298.12,
          34.21,
          175.61,
          107.03,
          182.23,
          154.33,
          180.07,
          255.79,
          63.01,
          283.56,
          78.3,
          172.54,
          69.49,
          177.28,
          186.42,
          60.38,
          168.32,
          43.55,
          40.23,
          10.44,
          83.04,
          384.17,
          361.18,
          214.16,
          431.63,
          65.25,
          16.35,
          178.24,
          57.89,
          289.25,
          240.81,
          396.82,
          156.55,
          324.29,
          173.23,
          39.62,
          21.27,
          213.37,
          513.64,
          121.91,
          137.01,
          419.66,
          120.13,
          490.48,
          53.63,
          303.13,
          185.51,
          86.9,
          288.01,
          84.86,
          283.25,
          139.2,
          53.86,
          149.8,
          115.5,
          150.11,
          59.8,
          46.21,
          128.33,
          83.59,
          83.48,
          130.84,
          17.48,
          137.31,
          21.2,
          36.33,
          121.77,
          40.41,
          347.5,
          254.58
         ],
         "xaxis": "x",
         "y": [
          145.23,
          39.9,
          122.19,
          40.19,
          95.64,
          31.54,
          43.95,
          32.4,
          44.15,
          33.43,
          41.88,
          41.47,
          68.76,
          62.89,
          35.75,
          42.92,
          44.85,
          41.12,
          51.29,
          50.47,
          41.52,
          21.45,
          39.06,
          33.68,
          33.98,
          53.28,
          54.75,
          54.12,
          17.54,
          18.17,
          67.05,
          10.93,
          52.54,
          39.8,
          46.13,
          39.23,
          45.7,
          47.88,
          15.53,
          64.59,
          19.4,
          42.32,
          16.66,
          57.11,
          48.36,
          17.79,
          52.52,
          16.4,
          16.37,
          2.39,
          32.76,
          107.41,
          115.17,
          55.89,
          89.7,
          32.01,
          13.65,
          67.71,
          20.42,
          74.2,
          65.34,
          98.58,
          52.16,
          90.15,
          64.88,
          10.74,
          9.64,
          69.98,
          153.53,
          26.78,
          44.62,
          148.7,
          31.72,
          135.34,
          13.61,
          68.54,
          56.51,
          29.7,
          87.47,
          30.38,
          79.64,
          29.72,
          18.39,
          41.21,
          33.95,
          44.27,
          16.89,
          19.91,
          29.52,
          26.25,
          32.43,
          42,
          18.35,
          26.65,
          9.34,
          13.27,
          41.12,
          17.17,
          90.89,
          71.75
         ],
         "yaxis": "y"
        },
        {
         "alignmentgroup": "True",
         "hovertemplate": "TYPE=COVID-19 USA<br>PARP9 [TPM]=%{x}<extra></extra>",
         "legendgroup": "COVID-19 USA",
         "marker": {
          "color": "#636efa",
          "size": 12,
          "symbol": "circle"
         },
         "name": "COVID-19 USA",
         "notched": true,
         "offsetgroup": "COVID-19 USA",
         "showlegend": false,
         "type": "box",
         "x": [
          402.93,
          112.39,
          431.47,
          100.88,
          398.58,
          80.66,
          97.7,
          114.95,
          157.65,
          112.05,
          102,
          148.05,
          279.11,
          331.12,
          122.61,
          102.89,
          113.57,
          110.05,
          142.73,
          171.6,
          189.63,
          111.06,
          190.66,
          123.81,
          88.19,
          246.92,
          238.08,
          230.18,
          76.33,
          65.41,
          298.12,
          34.21,
          175.61,
          107.03,
          182.23,
          154.33,
          180.07,
          255.79,
          63.01,
          283.56,
          78.3,
          172.54,
          69.49,
          177.28,
          186.42,
          60.38,
          168.32,
          43.55,
          40.23,
          10.44,
          83.04,
          384.17,
          361.18,
          214.16,
          431.63,
          65.25,
          16.35,
          178.24,
          57.89,
          289.25,
          240.81,
          396.82,
          156.55,
          324.29,
          173.23,
          39.62,
          21.27,
          213.37,
          513.64,
          121.91,
          137.01,
          419.66,
          120.13,
          490.48,
          53.63,
          303.13,
          185.51,
          86.9,
          288.01,
          84.86,
          283.25,
          139.2,
          53.86,
          149.8,
          115.5,
          150.11,
          59.8,
          46.21,
          128.33,
          83.59,
          83.48,
          130.84,
          17.48,
          137.31,
          21.2,
          36.33,
          121.77,
          40.41,
          347.5,
          254.58
         ],
         "xaxis": "x3",
         "yaxis": "y3"
        },
        {
         "alignmentgroup": "True",
         "hovertemplate": "TYPE=COVID-19 USA<br>DTX3L [TPM]=%{y}<extra></extra>",
         "legendgroup": "COVID-19 USA",
         "marker": {
          "color": "#636efa",
          "size": 12,
          "symbol": "circle"
         },
         "name": "COVID-19 USA",
         "notched": true,
         "offsetgroup": "COVID-19 USA",
         "showlegend": false,
         "type": "box",
         "xaxis": "x2",
         "y": [
          145.23,
          39.9,
          122.19,
          40.19,
          95.64,
          31.54,
          43.95,
          32.4,
          44.15,
          33.43,
          41.88,
          41.47,
          68.76,
          62.89,
          35.75,
          42.92,
          44.85,
          41.12,
          51.29,
          50.47,
          41.52,
          21.45,
          39.06,
          33.68,
          33.98,
          53.28,
          54.75,
          54.12,
          17.54,
          18.17,
          67.05,
          10.93,
          52.54,
          39.8,
          46.13,
          39.23,
          45.7,
          47.88,
          15.53,
          64.59,
          19.4,
          42.32,
          16.66,
          57.11,
          48.36,
          17.79,
          52.52,
          16.4,
          16.37,
          2.39,
          32.76,
          107.41,
          115.17,
          55.89,
          89.7,
          32.01,
          13.65,
          67.71,
          20.42,
          74.2,
          65.34,
          98.58,
          52.16,
          90.15,
          64.88,
          10.74,
          9.64,
          69.98,
          153.53,
          26.78,
          44.62,
          148.7,
          31.72,
          135.34,
          13.61,
          68.54,
          56.51,
          29.7,
          87.47,
          30.38,
          79.64,
          29.72,
          18.39,
          41.21,
          33.95,
          44.27,
          16.89,
          19.91,
          29.52,
          26.25,
          32.43,
          42,
          18.35,
          26.65,
          9.34,
          13.27,
          41.12,
          17.17,
          90.89,
          71.75
         ],
         "yaxis": "y2"
        },
        {
         "hovertemplate": "TYPE=non-COVID-19 USA<br>PARP9 [TPM]=%{x}<br>DTX3L [TPM]=%{y}<extra></extra>",
         "legendgroup": "non-COVID-19 USA",
         "marker": {
          "color": "#EF553B",
          "size": 12,
          "symbol": "circle"
         },
         "mode": "markers",
         "name": "non-COVID-19 USA",
         "orientation": "v",
         "showlegend": true,
         "type": "scatter",
         "x": [
          24.27,
          55.89,
          52.59,
          103.87,
          68.17,
          34.71,
          56.53,
          66.26,
          139.23,
          60.92,
          152.77,
          148.92,
          68.09,
          95.12,
          60.24,
          34.36,
          123.49,
          53.01,
          42.54,
          108.83,
          26.37,
          13.07,
          82.05,
          62.55,
          15.18,
          11.99
         ],
         "xaxis": "x",
         "y": [
          13.67,
          14.15,
          12.55,
          30.23,
          22.81,
          14.87,
          18.7,
          21.17,
          42.96,
          18.94,
          36.39,
          34.78,
          20.06,
          19.5,
          26.56,
          11.14,
          38.89,
          15.46,
          11.61,
          23.68,
          14.55,
          7.99,
          23.73,
          24.23,
          14.29,
          3.87
         ],
         "yaxis": "y"
        },
        {
         "alignmentgroup": "True",
         "hovertemplate": "TYPE=non-COVID-19 USA<br>PARP9 [TPM]=%{x}<extra></extra>",
         "legendgroup": "non-COVID-19 USA",
         "marker": {
          "color": "#EF553B",
          "size": 12,
          "symbol": "circle"
         },
         "name": "non-COVID-19 USA",
         "notched": true,
         "offsetgroup": "non-COVID-19 USA",
         "showlegend": false,
         "type": "box",
         "x": [
          24.27,
          55.89,
          52.59,
          103.87,
          68.17,
          34.71,
          56.53,
          66.26,
          139.23,
          60.92,
          152.77,
          148.92,
          68.09,
          95.12,
          60.24,
          34.36,
          123.49,
          53.01,
          42.54,
          108.83,
          26.37,
          13.07,
          82.05,
          62.55,
          15.18,
          11.99
         ],
         "xaxis": "x3",
         "yaxis": "y3"
        },
        {
         "alignmentgroup": "True",
         "hovertemplate": "TYPE=non-COVID-19 USA<br>DTX3L [TPM]=%{y}<extra></extra>",
         "legendgroup": "non-COVID-19 USA",
         "marker": {
          "color": "#EF553B",
          "size": 12,
          "symbol": "circle"
         },
         "name": "non-COVID-19 USA",
         "notched": true,
         "offsetgroup": "non-COVID-19 USA",
         "showlegend": false,
         "type": "box",
         "xaxis": "x2",
         "y": [
          13.67,
          14.15,
          12.55,
          30.23,
          22.81,
          14.87,
          18.7,
          21.17,
          42.96,
          18.94,
          36.39,
          34.78,
          20.06,
          19.5,
          26.56,
          11.14,
          38.89,
          15.46,
          11.61,
          23.68,
          14.55,
          7.99,
          23.73,
          24.23,
          14.29,
          3.87
         ],
         "yaxis": "y2"
        }
       ],
       "layout": {
        "font": {
         "size": 24
        },
        "height": 800,
        "legend": {
         "font": {
          "size": 23
         },
         "title": {
          "text": ""
         },
         "tracegroupgap": 0
        },
        "margin": {
         "t": 60
        },
        "showlegend": true,
        "template": {
         "data": {
          "bar": [
           {
            "error_x": {
             "color": "#2a3f5f"
            },
            "error_y": {
             "color": "#2a3f5f"
            },
            "marker": {
             "line": {
              "color": "#E5ECF6",
              "width": 0.5
             }
            },
            "type": "bar"
           }
          ],
          "barpolar": [
           {
            "marker": {
             "line": {
              "color": "#E5ECF6",
              "width": 0.5
             }
            },
            "type": "barpolar"
           }
          ],
          "carpet": [
           {
            "aaxis": {
             "endlinecolor": "#2a3f5f",
             "gridcolor": "white",
             "linecolor": "white",
             "minorgridcolor": "white",
             "startlinecolor": "#2a3f5f"
            },
            "baxis": {
             "endlinecolor": "#2a3f5f",
             "gridcolor": "white",
             "linecolor": "white",
             "minorgridcolor": "white",
             "startlinecolor": "#2a3f5f"
            },
            "type": "carpet"
           }
          ],
          "choropleth": [
           {
            "colorbar": {
             "outlinewidth": 0,
             "ticks": ""
            },
            "type": "choropleth"
           }
          ],
          "contour": [
           {
            "colorbar": {
             "outlinewidth": 0,
             "ticks": ""
            },
            "colorscale": [
             [
              0,
              "#0d0887"
             ],
             [
              0.1111111111111111,
              "#46039f"
             ],
             [
              0.2222222222222222,
              "#7201a8"
             ],
             [
              0.3333333333333333,
              "#9c179e"
             ],
             [
              0.4444444444444444,
              "#bd3786"
             ],
             [
              0.5555555555555556,
              "#d8576b"
             ],
             [
              0.6666666666666666,
              "#ed7953"
             ],
             [
              0.7777777777777778,
              "#fb9f3a"
             ],
             [
              0.8888888888888888,
              "#fdca26"
             ],
             [
              1,
              "#f0f921"
             ]
            ],
            "type": "contour"
           }
          ],
          "contourcarpet": [
           {
            "colorbar": {
             "outlinewidth": 0,
             "ticks": ""
            },
            "type": "contourcarpet"
           }
          ],
          "heatmap": [
           {
            "colorbar": {
             "outlinewidth": 0,
             "ticks": ""
            },
            "colorscale": [
             [
              0,
              "#0d0887"
             ],
             [
              0.1111111111111111,
              "#46039f"
             ],
             [
              0.2222222222222222,
              "#7201a8"
             ],
             [
              0.3333333333333333,
              "#9c179e"
             ],
             [
              0.4444444444444444,
              "#bd3786"
             ],
             [
              0.5555555555555556,
              "#d8576b"
             ],
             [
              0.6666666666666666,
              "#ed7953"
             ],
             [
              0.7777777777777778,
              "#fb9f3a"
             ],
             [
              0.8888888888888888,
              "#fdca26"
             ],
             [
              1,
              "#f0f921"
             ]
            ],
            "type": "heatmap"
           }
          ],
          "heatmapgl": [
           {
            "colorbar": {
             "outlinewidth": 0,
             "ticks": ""
            },
            "colorscale": [
             [
              0,
              "#0d0887"
             ],
             [
              0.1111111111111111,
              "#46039f"
             ],
             [
              0.2222222222222222,
              "#7201a8"
             ],
             [
              0.3333333333333333,
              "#9c179e"
             ],
             [
              0.4444444444444444,
              "#bd3786"
             ],
             [
              0.5555555555555556,
              "#d8576b"
             ],
             [
              0.6666666666666666,
              "#ed7953"
             ],
             [
              0.7777777777777778,
              "#fb9f3a"
             ],
             [
              0.8888888888888888,
              "#fdca26"
             ],
             [
              1,
              "#f0f921"
             ]
            ],
            "type": "heatmapgl"
           }
          ],
          "histogram": [
           {
            "marker": {
             "colorbar": {
              "outlinewidth": 0,
              "ticks": ""
             }
            },
            "type": "histogram"
           }
          ],
          "histogram2d": [
           {
            "colorbar": {
             "outlinewidth": 0,
             "ticks": ""
            },
            "colorscale": [
             [
              0,
              "#0d0887"
             ],
             [
              0.1111111111111111,
              "#46039f"
             ],
             [
              0.2222222222222222,
              "#7201a8"
             ],
             [
              0.3333333333333333,
              "#9c179e"
             ],
             [
              0.4444444444444444,
              "#bd3786"
             ],
             [
              0.5555555555555556,
              "#d8576b"
             ],
             [
              0.6666666666666666,
              "#ed7953"
             ],
             [
              0.7777777777777778,
              "#fb9f3a"
             ],
             [
              0.8888888888888888,
              "#fdca26"
             ],
             [
              1,
              "#f0f921"
             ]
            ],
            "type": "histogram2d"
           }
          ],
          "histogram2dcontour": [
           {
            "colorbar": {
             "outlinewidth": 0,
             "ticks": ""
            },
            "colorscale": [
             [
              0,
              "#0d0887"
             ],
             [
              0.1111111111111111,
              "#46039f"
             ],
             [
              0.2222222222222222,
              "#7201a8"
             ],
             [
              0.3333333333333333,
              "#9c179e"
             ],
             [
              0.4444444444444444,
              "#bd3786"
             ],
             [
              0.5555555555555556,
              "#d8576b"
             ],
             [
              0.6666666666666666,
              "#ed7953"
             ],
             [
              0.7777777777777778,
              "#fb9f3a"
             ],
             [
              0.8888888888888888,
              "#fdca26"
             ],
             [
              1,
              "#f0f921"
             ]
            ],
            "type": "histogram2dcontour"
           }
          ],
          "mesh3d": [
           {
            "colorbar": {
             "outlinewidth": 0,
             "ticks": ""
            },
            "type": "mesh3d"
           }
          ],
          "parcoords": [
           {
            "line": {
             "colorbar": {
              "outlinewidth": 0,
              "ticks": ""
             }
            },
            "type": "parcoords"
           }
          ],
          "pie": [
           {
            "automargin": true,
            "type": "pie"
           }
          ],
          "scatter": [
           {
            "marker": {
             "colorbar": {
              "outlinewidth": 0,
              "ticks": ""
             }
            },
            "type": "scatter"
           }
          ],
          "scatter3d": [
           {
            "line": {
             "colorbar": {
              "outlinewidth": 0,
              "ticks": ""
             }
            },
            "marker": {
             "colorbar": {
              "outlinewidth": 0,
              "ticks": ""
             }
            },
            "type": "scatter3d"
           }
          ],
          "scattercarpet": [
           {
            "marker": {
             "colorbar": {
              "outlinewidth": 0,
              "ticks": ""
             }
            },
            "type": "scattercarpet"
           }
          ],
          "scattergeo": [
           {
            "marker": {
             "colorbar": {
              "outlinewidth": 0,
              "ticks": ""
             }
            },
            "type": "scattergeo"
           }
          ],
          "scattergl": [
           {
            "marker": {
             "colorbar": {
              "outlinewidth": 0,
              "ticks": ""
             }
            },
            "type": "scattergl"
           }
          ],
          "scattermapbox": [
           {
            "marker": {
             "colorbar": {
              "outlinewidth": 0,
              "ticks": ""
             }
            },
            "type": "scattermapbox"
           }
          ],
          "scatterpolar": [
           {
            "marker": {
             "colorbar": {
              "outlinewidth": 0,
              "ticks": ""
             }
            },
            "type": "scatterpolar"
           }
          ],
          "scatterpolargl": [
           {
            "marker": {
             "colorbar": {
              "outlinewidth": 0,
              "ticks": ""
             }
            },
            "type": "scatterpolargl"
           }
          ],
          "scatterternary": [
           {
            "marker": {
             "colorbar": {
              "outlinewidth": 0,
              "ticks": ""
             }
            },
            "type": "scatterternary"
           }
          ],
          "surface": [
           {
            "colorbar": {
             "outlinewidth": 0,
             "ticks": ""
            },
            "colorscale": [
             [
              0,
              "#0d0887"
             ],
             [
              0.1111111111111111,
              "#46039f"
             ],
             [
              0.2222222222222222,
              "#7201a8"
             ],
             [
              0.3333333333333333,
              "#9c179e"
             ],
             [
              0.4444444444444444,
              "#bd3786"
             ],
             [
              0.5555555555555556,
              "#d8576b"
             ],
             [
              0.6666666666666666,
              "#ed7953"
             ],
             [
              0.7777777777777778,
              "#fb9f3a"
             ],
             [
              0.8888888888888888,
              "#fdca26"
             ],
             [
              1,
              "#f0f921"
             ]
            ],
            "type": "surface"
           }
          ],
          "table": [
           {
            "cells": {
             "fill": {
              "color": "#EBF0F8"
             },
             "line": {
              "color": "white"
             }
            },
            "header": {
             "fill": {
              "color": "#C8D4E3"
             },
             "line": {
              "color": "white"
             }
            },
            "type": "table"
           }
          ]
         },
         "layout": {
          "annotationdefaults": {
           "arrowcolor": "#2a3f5f",
           "arrowhead": 0,
           "arrowwidth": 1
          },
          "coloraxis": {
           "colorbar": {
            "outlinewidth": 0,
            "ticks": ""
           }
          },
          "colorscale": {
           "diverging": [
            [
             0,
             "#8e0152"
            ],
            [
             0.1,
             "#c51b7d"
            ],
            [
             0.2,
             "#de77ae"
            ],
            [
             0.3,
             "#f1b6da"
            ],
            [
             0.4,
             "#fde0ef"
            ],
            [
             0.5,
             "#f7f7f7"
            ],
            [
             0.6,
             "#e6f5d0"
            ],
            [
             0.7,
             "#b8e186"
            ],
            [
             0.8,
             "#7fbc41"
            ],
            [
             0.9,
             "#4d9221"
            ],
            [
             1,
             "#276419"
            ]
           ],
           "sequential": [
            [
             0,
             "#0d0887"
            ],
            [
             0.1111111111111111,
             "#46039f"
            ],
            [
             0.2222222222222222,
             "#7201a8"
            ],
            [
             0.3333333333333333,
             "#9c179e"
            ],
            [
             0.4444444444444444,
             "#bd3786"
            ],
            [
             0.5555555555555556,
             "#d8576b"
            ],
            [
             0.6666666666666666,
             "#ed7953"
            ],
            [
             0.7777777777777778,
             "#fb9f3a"
            ],
            [
             0.8888888888888888,
             "#fdca26"
            ],
            [
             1,
             "#f0f921"
            ]
           ],
           "sequentialminus": [
            [
             0,
             "#0d0887"
            ],
            [
             0.1111111111111111,
             "#46039f"
            ],
            [
             0.2222222222222222,
             "#7201a8"
            ],
            [
             0.3333333333333333,
             "#9c179e"
            ],
            [
             0.4444444444444444,
             "#bd3786"
            ],
            [
             0.5555555555555556,
             "#d8576b"
            ],
            [
             0.6666666666666666,
             "#ed7953"
            ],
            [
             0.7777777777777778,
             "#fb9f3a"
            ],
            [
             0.8888888888888888,
             "#fdca26"
            ],
            [
             1,
             "#f0f921"
            ]
           ]
          },
          "colorway": [
           "#636efa",
           "#EF553B",
           "#00cc96",
           "#ab63fa",
           "#FFA15A",
           "#19d3f3",
           "#FF6692",
           "#B6E880",
           "#FF97FF",
           "#FECB52"
          ],
          "font": {
           "color": "#2a3f5f"
          },
          "geo": {
           "bgcolor": "white",
           "lakecolor": "white",
           "landcolor": "#E5ECF6",
           "showlakes": true,
           "showland": true,
           "subunitcolor": "white"
          },
          "hoverlabel": {
           "align": "left"
          },
          "hovermode": "closest",
          "mapbox": {
           "style": "light"
          },
          "paper_bgcolor": "white",
          "plot_bgcolor": "#E5ECF6",
          "polar": {
           "angularaxis": {
            "gridcolor": "white",
            "linecolor": "white",
            "ticks": ""
           },
           "bgcolor": "#E5ECF6",
           "radialaxis": {
            "gridcolor": "white",
            "linecolor": "white",
            "ticks": ""
           }
          },
          "scene": {
           "xaxis": {
            "backgroundcolor": "#E5ECF6",
            "gridcolor": "white",
            "gridwidth": 2,
            "linecolor": "white",
            "showbackground": true,
            "ticks": "",
            "zerolinecolor": "white"
           },
           "yaxis": {
            "backgroundcolor": "#E5ECF6",
            "gridcolor": "white",
            "gridwidth": 2,
            "linecolor": "white",
            "showbackground": true,
            "ticks": "",
            "zerolinecolor": "white"
           },
           "zaxis": {
            "backgroundcolor": "#E5ECF6",
            "gridcolor": "white",
            "gridwidth": 2,
            "linecolor": "white",
            "showbackground": true,
            "ticks": "",
            "zerolinecolor": "white"
           }
          },
          "shapedefaults": {
           "line": {
            "color": "#2a3f5f"
           }
          },
          "ternary": {
           "aaxis": {
            "gridcolor": "white",
            "linecolor": "white",
            "ticks": ""
           },
           "baxis": {
            "gridcolor": "white",
            "linecolor": "white",
            "ticks": ""
           },
           "bgcolor": "#E5ECF6",
           "caxis": {
            "gridcolor": "white",
            "linecolor": "white",
            "ticks": ""
           }
          },
          "title": {
           "x": 0.05
          },
          "xaxis": {
           "automargin": true,
           "gridcolor": "white",
           "linecolor": "white",
           "ticks": "",
           "title": {
            "standoff": 15
           },
           "zerolinecolor": "white",
           "zerolinewidth": 2
          },
          "yaxis": {
           "automargin": true,
           "gridcolor": "white",
           "linecolor": "white",
           "ticks": "",
           "title": {
            "standoff": 15
           },
           "zerolinecolor": "white",
           "zerolinewidth": 2
          }
         }
        },
        "title": {
         "text": "Pearson correlation: 0.953"
        },
        "width": 2000,
        "xaxis": {
         "anchor": "y",
         "autorange": true,
         "domain": [
          0,
          0.7363
         ],
         "range": [
          -21.486986307618018,
          545.566986307618
         ],
         "title": {
          "text": "PARP9 [TPM]"
         },
         "type": "linear"
        },
        "xaxis2": {
         "anchor": "y2",
         "autorange": true,
         "domain": [
          0.7413,
          1
         ],
         "matches": "x2",
         "range": [
          -0.5,
          1.5
         ],
         "showgrid": false,
         "showline": false,
         "showticklabels": false,
         "ticks": "",
         "type": "category"
        },
        "xaxis3": {
         "anchor": "y3",
         "autorange": true,
         "domain": [
          0,
          0.7363
         ],
         "matches": "x",
         "range": [
          -21.486986307618018,
          545.566986307618
         ],
         "showgrid": true,
         "showticklabels": false,
         "type": "linear"
        },
        "xaxis4": {
         "anchor": "y4",
         "domain": [
          0.7413,
          1
         ],
         "matches": "x2",
         "showgrid": false,
         "showline": false,
         "showticklabels": false,
         "ticks": ""
        },
        "yaxis": {
         "anchor": "x",
         "autorange": true,
         "domain": [
          0,
          0.7326
         ],
         "range": [
          -9.004302830035101,
          164.92430283003512
         ],
         "title": {
          "text": "DTX3L [TPM]"
         },
         "type": "linear"
        },
        "yaxis2": {
         "anchor": "x2",
         "autorange": true,
         "domain": [
          0,
          0.7326
         ],
         "matches": "y",
         "range": [
          -9.004302830035101,
          164.92430283003512
         ],
         "showgrid": true,
         "showticklabels": false,
         "type": "linear"
        },
        "yaxis3": {
         "anchor": "x3",
         "autorange": true,
         "domain": [
          0.7426,
          1
         ],
         "matches": "y3",
         "range": [
          -0.5,
          1.5
         ],
         "showgrid": false,
         "showline": false,
         "showticklabels": false,
         "ticks": "",
         "type": "category"
        },
        "yaxis4": {
         "anchor": "x4",
         "domain": [
          0.7426,
          1
         ],
         "matches": "y3",
         "showgrid": true,
         "showline": false,
         "showticklabels": false,
         "ticks": ""
        }
       }
      },
      "image/png": "[encoded data removed]",
      "text/html": [
       "<div>                            <div id=\"97585cd7-0d69-44b2-bcfd-21e2d21d3b82\" class=\"plotly-graph-div\" style=\"height:800px; width:2000px;\"></div>            <script type=\"text/javascript\">                require([\"plotly\"], function(Plotly) {                    window.PLOTLYENV=window.PLOTLYENV || {};                                    if (document.getElementById(\"97585cd7-0d69-44b2-bcfd-21e2d21d3b82\")) {                    Plotly.newPlot(                        \"97585cd7-0d69-44b2-bcfd-21e2d21d3b82\",                        [{\"hovertemplate\": \"TYPE=COVID-19 USA<br>PARP9 [TPM]=%{x}<br>DTX3L [TPM]=%{y}<extra></extra>\", \"legendgroup\": \"COVID-19 USA\", \"marker\": {\"color\": \"#636efa\", \"size\": 12, \"symbol\": \"circle\"}, \"mode\": \"markers\", \"name\": \"COVID-19 USA\", \"orientation\": \"v\", \"showlegend\": true, \"type\": \"scatter\", \"x\": [402.93, 112.39, 431.47, 100.88, 398.58, 80.66, 97.7, 114.95, 157.65, 112.05, 102.0, 148.05, 279.11, 331.12, 122.61, 102.89, 113.57, 110.05, 142.73, 171.6, 189.63, 111.06, 190.66, 123.81, 88.19, 246.92, 238.08, 230.18, 76.33, 65.41, 298.12, 34.21, 175.61, 107.03, 182.23, 154.33, 180.07, 255.79, 63.01, 283.56, 78.3, 172.54, 69.49, 177.28, 186.42, 60.38, 168.32, 43.55, 40.23, 10.44, 83.04, 384.17, 361.18, 214.16, 431.63, 65.25, 16.35, 178.24, 57.89, 289.25, 240.81, 396.82, 156.55, 324.29, 173.23, 39.62, 21.27, 213.37, 513.64, 121.91, 137.01, 419.66, 120.13, 490.48, 53.63, 303.13, 185.51, 86.9, 288.01, 84.86, 283.25, 139.2, 53.86, 149.8, 115.5, 150.11, 59.8, 46.21, 128.33, 83.59, 83.48, 130.84, 17.48, 137.31, 21.2, 36.33, 121.77, 40.41, 347.5, 254.58], \"xaxis\": \"x\", \"y\": [145.23, 39.9, 122.19, 40.19, 95.64, 31.54, 43.95, 32.4, 44.15, 33.43, 41.88, 41.47, 68.76, 62.89, 35.75, 42.92, 44.85, 41.12, 51.29, 50.47, 41.52, 21.45, 39.06, 33.68, 33.98, 53.28, 54.75, 54.12, 17.54, 18.17, 67.05, 10.93, 52.54, 39.8, 46.13, 39.23, 45.7, 47.88, 15.53, 64.59, 19.4, 42.32, 16.66, 57.11, 48.36, 17.79, 52.52, 16.4, 16.37, 2.39, 32.76, 107.41, 115.17, 55.89, 89.7, 32.01, 13.65, 67.71, 20.42, 74.2, 65.34, 98.58, 52.16, 90.15, 64.88, 10.74, 9.64, 69.98, 153.53, 26.78, 44.62, 148.7, 31.72, 135.34, 13.61, 68.54, 56.51, 29.7, 87.47, 30.38, 79.64, 29.72, 18.39, 41.21, 33.95, 44.27, 16.89, 19.91, 29.52, 26.25, 32.43, 42.0, 18.35, 26.65, 9.34, 13.27, 41.12, 17.17, 90.89, 71.75], \"yaxis\": \"y\"}, {\"alignmentgroup\": \"True\", \"hovertemplate\": \"TYPE=COVID-19 USA<br>PARP9 [TPM]=%{x}<extra></extra>\", \"legendgroup\": \"COVID-19 USA\", \"marker\": {\"color\": \"#636efa\", \"size\": 12, \"symbol\": \"circle\"}, \"name\": \"COVID-19 USA\", \"notched\": true, \"offsetgroup\": \"COVID-19 USA\", \"showlegend\": false, \"type\": \"box\", \"x\": [402.93, 112.39, 431.47, 100.88, 398.58, 80.66, 97.7, 114.95, 157.65, 112.05, 102.0, 148.05, 279.11, 331.12, 122.61, 102.89, 113.57, 110.05, 142.73, 171.6, 189.63, 111.06, 190.66, 123.81, 88.19, 246.92, 238.08, 230.18, 76.33, 65.41, 298.12, 34.21, 175.61, 107.03, 182.23, 154.33, 180.07, 255.79, 63.01, 283.56, 78.3, 172.54, 69.49, 177.28, 186.42, 60.38, 168.32, 43.55, 40.23, 10.44, 83.04, 384.17, 361.18, 214.16, 431.63, 65.25, 16.35, 178.24, 57.89, 289.25, 240.81, 396.82, 156.55, 324.29, 173.23, 39.62, 21.27, 213.37, 513.64, 121.91, 137.01, 419.66, 120.13, 490.48, 53.63, 303.13, 185.51, 86.9, 288.01, 84.86, 283.25, 139.2, 53.86, 149.8, 115.5, 150.11, 59.8, 46.21, 128.33, 83.59, 83.48, 130.84, 17.48, 137.31, 21.2, 36.33, 121.77, 40.41, 347.5, 254.58], \"xaxis\": \"x3\", \"yaxis\": \"y3\"}, {\"alignmentgroup\": \"True\", \"hovertemplate\": \"TYPE=COVID-19 USA<br>DTX3L [TPM]=%{y}<extra></extra>\", \"legendgroup\": \"COVID-19 USA\", \"marker\": {\"color\": \"#636efa\", \"size\": 12, \"symbol\": \"circle\"}, \"name\": \"COVID-19 USA\", \"notched\": true, \"offsetgroup\": \"COVID-19 USA\", \"showlegend\": false, \"type\": \"box\", \"xaxis\": \"x2\", \"y\": [145.23, 39.9, 122.19, 40.19, 95.64, 31.54, 43.95, 32.4, 44.15, 33.43, 41.88, 41.47, 68.76, 62.89, 35.75, 42.92, 44.85, 41.12, 51.29, 50.47, 41.52, 21.45, 39.06, 33.68, 33.98, 53.28, 54.75, 54.12, 17.54, 18.17, 67.05, 10.93, 52.54, 39.8, 46.13, 39.23, 45.7, 47.88, 15.53, 64.59, 19.4, 42.32, 16.66, 57.11, 48.36, 17.79, 52.52, 16.4, 16.37, 2.39, 32.76, 107.41, 115.17, 55.89, 89.7, 32.01, 13.65, 67.71, 20.42, 74.2, 65.34, 98.58, 52.16, 90.15, 64.88, 10.74, 9.64, 69.98, 153.53, 26.78, 44.62, 148.7, 31.72, 135.34, 13.61, 68.54, 56.51, 29.7, 87.47, 30.38, 79.64, 29.72, 18.39, 41.21, 33.95, 44.27, 16.89, 19.91, 29.52, 26.25, 32.43, 42.0, 18.35, 26.65, 9.34, 13.27, 41.12, 17.17, 90.89, 71.75], \"yaxis\": \"y2\"}, {\"hovertemplate\": \"TYPE=non-COVID-19 USA<br>PARP9 [TPM]=%{x}<br>DTX3L [TPM]=%{y}<extra></extra>\", \"legendgroup\": \"non-COVID-19 USA\", \"marker\": {\"color\": \"#EF553B\", \"size\": 12, \"symbol\": \"circle\"}, \"mode\": \"markers\", \"name\": \"non-COVID-19 USA\", \"orientation\": \"v\", \"showlegend\": true, \"type\": \"scatter\", \"x\": [24.27, 55.89, 52.59, 103.87, 68.17, 34.71, 56.53, 66.26, 139.23, 60.92, 152.77, 148.92, 68.09, 95.12, 60.24, 34.36, 123.49, 53.01, 42.54, 108.83, 26.37, 13.07, 82.05, 62.55, 15.18, 11.99], \"xaxis\": \"x\", \"y\": [13.67, 14.15, 12.55, 30.23, 22.81, 14.87, 18.7, 21.17, 42.96, 18.94, 36.39, 34.78, 20.06, 19.5, 26.56, 11.14, 38.89, 15.46, 11.61, 23.68, 14.55, 7.99, 23.73, 24.23, 14.29, 3.87], \"yaxis\": \"y\"}, {\"alignmentgroup\": \"True\", \"hovertemplate\": \"TYPE=non-COVID-19 USA<br>PARP9 [TPM]=%{x}<extra></extra>\", \"legendgroup\": \"non-COVID-19 USA\", \"marker\": {\"color\": \"#EF553B\", \"size\": 12, \"symbol\": \"circle\"}, \"name\": \"non-COVID-19 USA\", \"notched\": true, \"offsetgroup\": \"non-COVID-19 USA\", \"showlegend\": false, \"type\": \"box\", \"x\": [24.27, 55.89, 52.59, 103.87, 68.17, 34.71, 56.53, 66.26, 139.23, 60.92, 152.77, 148.92, 68.09, 95.12, 60.24, 34.36, 123.49, 53.01, 42.54, 108.83, 26.37, 13.07, 82.05, 62.55, 15.18, 11.99], \"xaxis\": \"x3\", \"yaxis\": \"y3\"}, {\"alignmentgroup\": \"True\", \"hovertemplate\": \"TYPE=non-COVID-19 USA<br>DTX3L [TPM]=%{y}<extra></extra>\", \"legendgroup\": \"non-COVID-19 USA\", \"marker\": {\"color\": \"#EF553B\", \"size\": 12, \"symbol\": \"circle\"}, \"name\": \"non-COVID-19 USA\", \"notched\": true, \"offsetgroup\": \"non-COVID-19 USA\", \"showlegend\": false, \"type\": \"box\", \"xaxis\": \"x2\", \"y\": [13.67, 14.15, 12.55, 30.23, 22.81, 14.87, 18.7, 21.17, 42.96, 18.94, 36.39, 34.78, 20.06, 19.5, 26.56, 11.14, 38.89, 15.46, 11.61, 23.68, 14.55, 7.99, 23.73, 24.23, 14.29, 3.87], \"yaxis\": \"y2\"}],                        {\"font\": {\"size\": 24}, \"height\": 800, \"legend\": {\"font\": {\"size\": 23}, \"title\": {\"text\": \"\"}, \"tracegroupgap\": 0}, \"margin\": {\"t\": 60}, \"showlegend\": true, \"template\": {\"data\": {\"bar\": [{\"error_x\": {\"color\": \"#2a3f5f\"}, \"error_y\": {\"color\": \"#2a3f5f\"}, \"marker\": {\"line\": {\"color\": \"#E5ECF6\", \"width\": 0.5}}, \"type\": \"bar\"}], \"barpolar\": [{\"marker\": {\"line\": {\"color\": \"#E5ECF6\", \"width\": 0.5}}, \"type\": \"barpolar\"}], \"carpet\": [{\"aaxis\": {\"endlinecolor\": \"#2a3f5f\", \"gridcolor\": \"white\", \"linecolor\": \"white\", \"minorgridcolor\": \"white\", \"startlinecolor\": \"#2a3f5f\"}, \"baxis\": {\"endlinecolor\": \"#2a3f5f\", \"gridcolor\": \"white\", \"linecolor\": \"white\", \"minorgridcolor\": \"white\", \"startlinecolor\": \"#2a3f5f\"}, \"type\": \"carpet\"}], \"choropleth\": [{\"colorbar\": {\"outlinewidth\": 0, \"ticks\": \"\"}, \"type\": \"choropleth\"}], \"contour\": [{\"colorbar\": {\"outlinewidth\": 0, \"ticks\": \"\"}, \"colorscale\": [[0.0, \"#0d0887\"], [0.1111111111111111, \"#46039f\"], [0.2222222222222222, \"#7201a8\"], [0.3333333333333333, \"#9c179e\"], [0.4444444444444444, \"#bd3786\"], [0.5555555555555556, \"#d8576b\"], [0.6666666666666666, \"#ed7953\"], [0.7777777777777778, \"#fb9f3a\"], [0.8888888888888888, \"#fdca26\"], [1.0, \"#f0f921\"]], \"type\": \"contour\"}], \"contourcarpet\": [{\"colorbar\": {\"outlinewidth\": 0, \"ticks\": \"\"}, \"type\": \"contourcarpet\"}], \"heatmap\": [{\"colorbar\": {\"outlinewidth\": 0, \"ticks\": \"\"}, \"colorscale\": [[0.0, \"#0d0887\"], [0.1111111111111111, \"#46039f\"], [0.2222222222222222, \"#7201a8\"], [0.3333333333333333, \"#9c179e\"], [0.4444444444444444, \"#bd3786\"], [0.5555555555555556, \"#d8576b\"], [0.6666666666666666, \"#ed7953\"], [0.7777777777777778, \"#fb9f3a\"], [0.8888888888888888, \"#fdca26\"], [1.0, \"#f0f921\"]], \"type\": \"heatmap\"}], \"heatmapgl\": [{\"colorbar\": {\"outlinewidth\": 0, \"ticks\": \"\"}, \"colorscale\": [[0.0, \"#0d0887\"], [0.1111111111111111, \"#46039f\"], [0.2222222222222222, \"#7201a8\"], [0.3333333333333333, \"#9c179e\"], [0.4444444444444444, \"#bd3786\"], [0.5555555555555556, \"#d8576b\"], [0.6666666666666666, \"#ed7953\"], [0.7777777777777778, \"#fb9f3a\"], [0.8888888888888888, \"#fdca26\"], [1.0, \"#f0f921\"]], \"type\": \"heatmapgl\"}], \"histogram\": [{\"marker\": {\"colorbar\": {\"outlinewidth\": 0, \"ticks\": \"\"}}, \"type\": \"histogram\"}], \"histogram2d\": [{\"colorbar\": {\"outlinewidth\": 0, \"ticks\": \"\"}, \"colorscale\": [[0.0, \"#0d0887\"], [0.1111111111111111, \"#46039f\"], [0.2222222222222222, \"#7201a8\"], [0.3333333333333333, \"#9c179e\"], [0.4444444444444444, \"#bd3786\"], [0.5555555555555556, \"#d8576b\"], [0.6666666666666666, \"#ed7953\"], [0.7777777777777778, \"#fb9f3a\"], [0.8888888888888888, \"#fdca26\"], [1.0, \"#f0f921\"]], \"type\": \"histogram2d\"}], \"histogram2dcontour\": [{\"colorbar\": {\"outlinewidth\": 0, \"ticks\": \"\"}, \"colorscale\": [[0.0, \"#0d0887\"], [0.1111111111111111, \"#46039f\"], [0.2222222222222222, \"#7201a8\"], [0.3333333333333333, \"#9c179e\"], [0.4444444444444444, \"#bd3786\"], [0.5555555555555556, \"#d8576b\"], [0.6666666666666666, \"#ed7953\"], [0.7777777777777778, \"#fb9f3a\"], [0.8888888888888888, \"#fdca26\"], [1.0, \"#f0f921\"]], \"type\": \"histogram2dcontour\"}], \"mesh3d\": [{\"colorbar\": {\"outlinewidth\": 0, \"ticks\": \"\"}, \"type\": \"mesh3d\"}], \"parcoords\": [{\"line\": {\"colorbar\": {\"outlinewidth\": 0, \"ticks\": \"\"}}, \"type\": \"parcoords\"}], \"pie\": [{\"automargin\": true, \"type\": \"pie\"}], \"scatter\": [{\"marker\": {\"colorbar\": {\"outlinewidth\": 0, \"ticks\": \"\"}}, \"type\": \"scatter\"}], \"scatter3d\": [{\"line\": {\"colorbar\": {\"outlinewidth\": 0, \"ticks\": \"\"}}, \"marker\": {\"colorbar\": {\"outlinewidth\": 0, \"ticks\": \"\"}}, \"type\": \"scatter3d\"}], \"scattercarpet\": [{\"marker\": {\"colorbar\": {\"outlinewidth\": 0, \"ticks\": \"\"}}, \"type\": \"scattercarpet\"}], \"scattergeo\": [{\"marker\": {\"colorbar\": {\"outlinewidth\": 0, \"ticks\": \"\"}}, \"type\": \"scattergeo\"}], \"scattergl\": [{\"marker\": {\"colorbar\": {\"outlinewidth\": 0, \"ticks\": \"\"}}, \"type\": \"scattergl\"}], \"scattermapbox\": [{\"marker\": {\"colorbar\": {\"outlinewidth\": 0, \"ticks\": \"\"}}, \"type\": \"scattermapbox\"}], \"scatterpolar\": [{\"marker\": {\"colorbar\": {\"outlinewidth\": 0, \"ticks\": \"\"}}, \"type\": \"scatterpolar\"}], \"scatterpolargl\": [{\"marker\": {\"colorbar\": {\"outlinewidth\": 0, \"ticks\": \"\"}}, \"type\": \"scatterpolargl\"}], \"scatterternary\": [{\"marker\": {\"colorbar\": {\"outlinewidth\": 0, \"ticks\": \"\"}}, \"type\": \"scatterternary\"}], \"surface\": [{\"colorbar\": {\"outlinewidth\": 0, \"ticks\": \"\"}, \"colorscale\": [[0.0, \"#0d0887\"], [0.1111111111111111, \"#46039f\"], [0.2222222222222222, \"#7201a8\"], [0.3333333333333333, \"#9c179e\"], [0.4444444444444444, \"#bd3786\"], [0.5555555555555556, \"#d8576b\"], [0.6666666666666666, \"#ed7953\"], [0.7777777777777778, \"#fb9f3a\"], [0.8888888888888888, \"#fdca26\"], [1.0, \"#f0f921\"]], \"type\": \"surface\"}], \"table\": [{\"cells\": {\"fill\": {\"color\": \"#EBF0F8\"}, \"line\": {\"color\": \"white\"}}, \"header\": {\"fill\": {\"color\": \"#C8D4E3\"}, \"line\": {\"color\": \"white\"}}, \"type\": \"table\"}]}, \"layout\": {\"annotationdefaults\": {\"arrowcolor\": \"#2a3f5f\", \"arrowhead\": 0, \"arrowwidth\": 1}, \"coloraxis\": {\"colorbar\": {\"outlinewidth\": 0, \"ticks\": \"\"}}, \"colorscale\": {\"diverging\": [[0, \"#8e0152\"], [0.1, \"#c51b7d\"], [0.2, \"#de77ae\"], [0.3, \"#f1b6da\"], [0.4, \"#fde0ef\"], [0.5, \"#f7f7f7\"], [0.6, \"#e6f5d0\"], [0.7, \"#b8e186\"], [0.8, \"#7fbc41\"], [0.9, \"#4d9221\"], [1, \"#276419\"]], \"sequential\": [[0.0, \"#0d0887\"], [0.1111111111111111, \"#46039f\"], [0.2222222222222222, \"#7201a8\"], [0.3333333333333333, \"#9c179e\"], [0.4444444444444444, \"#bd3786\"], [0.5555555555555556, \"#d8576b\"], [0.6666666666666666, \"#ed7953\"], [0.7777777777777778, \"#fb9f3a\"], [0.8888888888888888, \"#fdca26\"], [1.0, \"#f0f921\"]], \"sequentialminus\": [[0.0, \"#0d0887\"], [0.1111111111111111, \"#46039f\"], [0.2222222222222222, \"#7201a8\"], [0.3333333333333333, \"#9c179e\"], [0.4444444444444444, \"#bd3786\"], [0.5555555555555556, \"#d8576b\"], [0.6666666666666666, \"#ed7953\"], [0.7777777777777778, \"#fb9f3a\"], [0.8888888888888888, \"#fdca26\"], [1.0, \"#f0f921\"]]}, \"colorway\": [\"#636efa\", \"#EF553B\", \"#00cc96\", \"#ab63fa\", \"#FFA15A\", \"#19d3f3\", \"#FF6692\", \"#B6E880\", \"#FF97FF\", \"#FECB52\"], \"font\": {\"color\": \"#2a3f5f\"}, \"geo\": {\"bgcolor\": \"white\", \"lakecolor\": \"white\", \"landcolor\": \"#E5ECF6\", \"showlakes\": true, \"showland\": true, \"subunitcolor\": \"white\"}, \"hoverlabel\": {\"align\": \"left\"}, \"hovermode\": \"closest\", \"mapbox\": {\"style\": \"light\"}, \"paper_bgcolor\": \"white\", \"plot_bgcolor\": \"#E5ECF6\", \"polar\": {\"angularaxis\": {\"gridcolor\": \"white\", \"linecolor\": \"white\", \"ticks\": \"\"}, \"bgcolor\": \"#E5ECF6\", \"radialaxis\": {\"gridcolor\": \"white\", \"linecolor\": \"white\", \"ticks\": \"\"}}, \"scene\": {\"xaxis\": {\"backgroundcolor\": \"#E5ECF6\", \"gridcolor\": \"white\", \"gridwidth\": 2, \"linecolor\": \"white\", \"showbackground\": true, \"ticks\": \"\", \"zerolinecolor\": \"white\"}, \"yaxis\": {\"backgroundcolor\": \"#E5ECF6\", \"gridcolor\": \"white\", \"gridwidth\": 2, \"linecolor\": \"white\", \"showbackground\": true, \"ticks\": \"\", \"zerolinecolor\": \"white\"}, \"zaxis\": {\"backgroundcolor\": \"#E5ECF6\", \"gridcolor\": \"white\", \"gridwidth\": 2, \"linecolor\": \"white\", \"showbackground\": true, \"ticks\": \"\", \"zerolinecolor\": \"white\"}}, \"shapedefaults\": {\"line\": {\"color\": \"#2a3f5f\"}}, \"ternary\": {\"aaxis\": {\"gridcolor\": \"white\", \"linecolor\": \"white\", \"ticks\": \"\"}, \"baxis\": {\"gridcolor\": \"white\", \"linecolor\": \"white\", \"ticks\": \"\"}, \"bgcolor\": \"#E5ECF6\", \"caxis\": {\"gridcolor\": \"white\", \"linecolor\": \"white\", \"ticks\": \"\"}}, \"title\": {\"x\": 0.05}, \"xaxis\": {\"automargin\": true, \"gridcolor\": \"white\", \"linecolor\": \"white\", \"ticks\": \"\", \"title\": {\"standoff\": 15}, \"zerolinecolor\": \"white\", \"zerolinewidth\": 2}, \"yaxis\": {\"automargin\": true, \"gridcolor\": \"white\", \"linecolor\": \"white\", \"ticks\": \"\", \"title\": {\"standoff\": 15}, \"zerolinecolor\": \"white\", \"zerolinewidth\": 2}}}, \"title\": {\"text\": \"Pearson correlation: 0.953\"}, \"width\": 2000, \"xaxis\": {\"anchor\": \"y\", \"domain\": [0.0, 0.7363], \"title\": {\"text\": \"PARP9 [TPM]\"}}, \"xaxis2\": {\"anchor\": \"y2\", \"domain\": [0.7413, 1.0], \"matches\": \"x2\", \"showgrid\": false, \"showline\": false, \"showticklabels\": false, \"ticks\": \"\"}, \"xaxis3\": {\"anchor\": \"y3\", \"domain\": [0.0, 0.7363], \"matches\": \"x\", \"showgrid\": true, \"showticklabels\": false}, \"xaxis4\": {\"anchor\": \"y4\", \"domain\": [0.7413, 1.0], \"matches\": \"x2\", \"showgrid\": false, \"showline\": false, \"showticklabels\": false, \"ticks\": \"\"}, \"yaxis\": {\"anchor\": \"x\", \"domain\": [0.0, 0.7326], \"title\": {\"text\": \"DTX3L [TPM]\"}}, \"yaxis2\": {\"anchor\": \"x2\", \"domain\": [0.0, 0.7326], \"matches\": \"y\", \"showgrid\": true, \"showticklabels\": false}, \"yaxis3\": {\"anchor\": \"x3\", \"domain\": [0.7426, 1.0], \"matches\": \"y3\", \"showgrid\": false, \"showline\": false, \"showticklabels\": false, \"ticks\": \"\"}, \"yaxis4\": {\"anchor\": \"x4\", \"domain\": [0.7426, 1.0], \"matches\": \"y3\", \"showgrid\": true, \"showline\": false, \"showticklabels\": false, \"ticks\": \"\"}},                        {\"responsive\": true}                    ).then(function(){\n",
       "                            \n",
       "var gd = document.getElementById('97585cd7-0d69-44b2-bcfd-21e2d21d3b82');\n",
       "var x = new MutationObserver(function (mutations, observer) {{\n",
       "        var display = window.getComputedStyle(gd).display;\n",
       "        if (!display || display === 'none') {{\n",
       "            console.log([gd, 'removed!']);\n",
       "            Plotly.purge(gd);\n",
       "            observer.disconnect();\n",
       "        }}\n",
       "}});\n",
       "\n",
       "// Listen for the removal of the full notebook cells\n",
       "var notebookContainer = gd.closest('#notebook-container');\n",
       "if (notebookContainer) {{\n",
       "    x.observe(notebookContainer, {childList: true});\n",
       "}}\n",
       "\n",
       "// Listen for the clearing of the current output cell\n",
       "var outputEl = gd.closest('.output');\n",
       "if (outputEl) {{\n",
       "    x.observe(outputEl, {childList: true});\n",
       "}}\n",
       "\n",
       "                        })                };                });            </script>        </div>"
      ]
     },
     "metadata": {},
     "output_type": "display_data"
    }
   ],
   "source": [
    "df = expression_data\n",
    "\n",
    "X = expression_data.iloc[:, 0].values.reshape(-1, 1)\n",
    "y = expression_data.iloc[:, 1].values.reshape(-1, 1)\n",
    "\n",
    "# Correlation\n",
    "coef, pval = sts.pearsonr(X.flatten(), y.flatten())\n",
    "\n",
    "fig = px.scatter(\n",
    "    df,\n",
    "    x=\"PARP9\",\n",
    "    y=\"DTX3L\",\n",
    "    color=\"TYPE\",\n",
    "    marginal_x=\"box\",\n",
    "    marginal_y=\"box\",\n",
    "    labels={\"DTX3L\": \"DTX3L [TPM]\", \"PARP9\": \"PARP9 [TPM]\"},\n",
    ")\n",
    "\n",
    "fig.update_layout(\n",
    "    title=f\"Pearson correlation: {round(coef, 3)}\",\n",
    "    showlegend=True,\n",
    ")\n",
    "\n",
    "fig.update_layout(\n",
    "    legend=dict(font=dict(size=23), title=\"\"),\n",
    "    font=dict(size=24),\n",
    "    width=2000,\n",
    "    height=800,\n",
    ")\n",
    "\n",
    "fig.update_traces(marker=dict(size=12))\n",
    "\n",
    "fig.write_image(f\"../Plots/PARP9_DTX3L_Correlation.jpg\")\n",
    "fig.show()"
   ]
  },
  {
   "cell_type": "code",
   "execution_count": 27,
   "metadata": {},
   "outputs": [
    {
     "data": {
      "text/html": [
       "<div>\n",
       "<style scoped>\n",
       "    .dataframe tbody tr th:only-of-type {\n",
       "        vertical-align: middle;\n",
       "    }\n",
       "\n",
       "    .dataframe tbody tr th {\n",
       "        vertical-align: top;\n",
       "    }\n",
       "\n",
       "    .dataframe thead th {\n",
       "        text-align: right;\n",
       "    }\n",
       "</style>\n",
       "<table border=\"1\" class=\"dataframe\">\n",
       "  <thead>\n",
       "    <tr style=\"text-align: right;\">\n",
       "      <th></th>\n",
       "      <th>PARP9</th>\n",
       "      <th>DTX3L</th>\n",
       "      <th>AIM2</th>\n",
       "    </tr>\n",
       "  </thead>\n",
       "  <tbody>\n",
       "    <tr>\n",
       "      <th>C1</th>\n",
       "      <td>2.264765</td>\n",
       "      <td>3.361594</td>\n",
       "      <td>1.017514</td>\n",
       "    </tr>\n",
       "    <tr>\n",
       "      <th>C2</th>\n",
       "      <td>-0.308322</td>\n",
       "      <td>-0.079247</td>\n",
       "      <td>-0.351898</td>\n",
       "    </tr>\n",
       "    <tr>\n",
       "      <th>C3</th>\n",
       "      <td>2.517522</td>\n",
       "      <td>2.608941</td>\n",
       "      <td>2.160378</td>\n",
       "    </tr>\n",
       "    <tr>\n",
       "      <th>C4</th>\n",
       "      <td>-0.410258</td>\n",
       "      <td>-0.069773</td>\n",
       "      <td>-0.753366</td>\n",
       "    </tr>\n",
       "    <tr>\n",
       "      <th>C5</th>\n",
       "      <td>2.226241</td>\n",
       "      <td>1.741626</td>\n",
       "      <td>4.674925</td>\n",
       "    </tr>\n",
       "    <tr>\n",
       "      <th>...</th>\n",
       "      <td>...</td>\n",
       "      <td>...</td>\n",
       "      <td>...</td>\n",
       "    </tr>\n",
       "    <tr>\n",
       "      <th>NC22</th>\n",
       "      <td>-1.187923</td>\n",
       "      <td>-1.121658</td>\n",
       "      <td>-0.980741</td>\n",
       "    </tr>\n",
       "    <tr>\n",
       "      <th>NC23</th>\n",
       "      <td>-0.577020</td>\n",
       "      <td>-0.607476</td>\n",
       "      <td>0.177611</td>\n",
       "    </tr>\n",
       "    <tr>\n",
       "      <th>NC24</th>\n",
       "      <td>-0.749717</td>\n",
       "      <td>-0.591142</td>\n",
       "      <td>-0.788474</td>\n",
       "    </tr>\n",
       "    <tr>\n",
       "      <th>NC25</th>\n",
       "      <td>-1.169236</td>\n",
       "      <td>-0.915855</td>\n",
       "      <td>-1.004904</td>\n",
       "    </tr>\n",
       "    <tr>\n",
       "      <th>NC26</th>\n",
       "      <td>-1.197487</td>\n",
       "      <td>-1.256247</td>\n",
       "      <td>-1.004078</td>\n",
       "    </tr>\n",
       "  </tbody>\n",
       "</table>\n",
       "<p>126 rows × 3 columns</p>\n",
       "</div>"
      ],
      "text/plain": [
       "         PARP9     DTX3L      AIM2\n",
       "C1    2.264765  3.361594  1.017514\n",
       "C2   -0.308322 -0.079247 -0.351898\n",
       "C3    2.517522  2.608941  2.160378\n",
       "C4   -0.410258 -0.069773 -0.753366\n",
       "C5    2.226241  1.741626  4.674925\n",
       "...        ...       ...       ...\n",
       "NC22 -1.187923 -1.121658 -0.980741\n",
       "NC23 -0.577020 -0.607476  0.177611\n",
       "NC24 -0.749717 -0.591142 -0.788474\n",
       "NC25 -1.169236 -0.915855 -1.004904\n",
       "NC26 -1.197487 -1.256247 -1.004078\n",
       "\n",
       "[126 rows x 3 columns]"
      ]
     },
     "execution_count": 27,
     "metadata": {},
     "output_type": "execute_result"
    }
   ],
   "source": [
    "scl = StandardScaler()\n",
    "scaled_expression_data = pd.DataFrame(\n",
    "    scl.fit_transform(expression_data.drop(\"TYPE\", axis=1)),\n",
    "    columns=genes,\n",
    "    index=expression_data.index,\n",
    ")\n",
    "\n",
    "scaled_expression_data"
   ]
  },
  {
   "cell_type": "code",
   "execution_count": 28,
   "metadata": {},
   "outputs": [
    {
     "data": {
      "application/vnd.plotly.v1+json": {
       "config": {
        "plotlyServerURL": "https://plot.ly"
       },
       "data": [
        {
         "hovertemplate": "Status=COVID-19 USA<br>PARP9=%{x}<br>AIM2=%{y}<br>DTX3L=%{z}<extra></extra>",
         "legendgroup": "COVID-19 USA",
         "marker": {
          "color": "#636efa",
          "symbol": "circle"
         },
         "mode": "markers",
         "name": "COVID-19 USA",
         "scene": "scene",
         "showlegend": true,
         "type": "scatter3d",
         "x": [
          2.2647650839224163,
          -0.308322433331933,
          2.5175217361645834,
          -0.4102575793483079,
          2.226240506583473,
          -0.5893304422893244,
          -0.43842037381677634,
          -0.2856504981623483,
          0.09251029548658378,
          -0.31133354972164345,
          -0.40033860771161456,
          0.007490538600641267,
          1.1681873445872697,
          1.6287995899662147,
          -0.21781181714710662,
          -0.3924565677503136,
          -0.2978720882147026,
          -0.3290459990728815,
          -0.039624576673652094,
          0.21605462971146897,
          0.37573236061287985,
          -0.32010121215050624,
          0.38485427202876743,
          -0.20718434753636378,
          -0.5226430704819132,
          0.8831054722790933,
          0.8048164461466214,
          0.7348522712092311,
          -0.6276778951347548,
          -0.7243878685925145,
          1.3365441756707872,
          -1.0007020784718277,
          0.2515680906607014,
          -0.3557917975932509,
          0.31019629801329907,
          0.06310762956352871,
          0.29106685271396204,
          0.961660185151834,
          -0.7456428078140002,
          1.207597544393774,
          -0.6102311325237852,
          0.22437948090655083,
          -0.6882544719159889,
          0.26635798586898507,
          0.34730387940414276,
          -0.7689346787108781,
          0.18700621277543858,
          -0.9179849400015462,
          -0.9473876059246014,
          -1.2112145390112918,
          -0.5682526275613511,
          2.0986223090078036,
          1.8950177037153224,
          0.5929755519058143,
          2.518938732112682,
          -0.7258048645406134,
          -1.1588742511783834,
          0.27485996155757936,
          -0.7909866781531694,
          1.2579894627980464,
          0.8289939395110613,
          2.210653551154384,
          0.08276844834340291,
          1.568311575431737,
          0.23049027593272792,
          -0.9527899029767288,
          -1.1153016257743378,
          0.5859791344120754,
          3.2452377177601974,
          -0.22401117442003998,
          -0.09028218181819286,
          2.4129297227455226,
          -0.23977525434264182,
          3.0401275542728614,
          -0.8287141952713065,
          1.3809138612956382,
          0.33924471494932945,
          -0.5340676003134617,
          1.2470077442002787,
          -0.5521342986517245,
          1.2048521147443323,
          -0.07088704977858723,
          -0.8266772635959141,
          0.022988931782974547,
          -0.28077957459075786,
          0.02573436143241646,
          -0.7740712890227371,
          -0.8944273823643994,
          -0.16715421200256575,
          -0.5633817039897606,
          -0.5643558887040787,
          -0.14492508806676208,
          -1.148866717294934,
          -0.08762531441550706,
          -1.1159215615016311,
          -0.9819268821595154,
          -0.22525104587462663,
          -0.9457934854829899,
          1.773864550152854,
          0.9509441532943351
         ],
         "y": [
          1.0175142305418288,
          -0.3518978639016553,
          2.160377528784966,
          -0.7533662867033644,
          4.674924604933943,
          -0.7938435556689688,
          -0.6825310660135566,
          0.02107125728141406,
          0.22882703574773053,
          -0.1862714878281106,
          -0.7424209027483795,
          0.9142558913438583,
          0.20858840126492836,
          1.107762019000855,
          0.22882703574773053,
          -0.7114434009889883,
          -0.2802365764982638,
          -0.5313608574277279,
          -0.30171431105144164,
          -0.42066791780750357,
          -0.3454958468713811,
          0.6554904933137444,
          0.7013371959176435,
          -0.4020814167518689,
          -0.2325312237888014,
          -0.7380840525020649,
          0.47086458282777327,
          -0.3461153969065689,
          -0.2918015104884364,
          -0.7170193513056788,
          0.11090601238364839,
          -0.859515859398878,
          -0.2244770733313597,
          -0.7246604684063286,
          0.028918891060459723,
          -0.2001081052806387,
          -0.11151245024878004,
          0.7120760631942323,
          -0.31534441182557366,
          0.04833145882967827,
          -0.20857528909487233,
          -0.17305442041077038,
          -0.5852617104890685,
          1.0974361850810581,
          1.146380637860896,
          -0.6523796309677493,
          0.36801927698659487,
          -0.8372120581321164,
          -0.7161932845920951,
          -0.9704153156974984,
          -0.5410671413123371,
          2.518270932445132,
          1.349386532724106,
          0.19661043391796384,
          1.0309378146375652,
          -0.7709202043670194,
          -0.9342748969782088,
          -0.65692299789246,
          -0.8566246259013348,
          0.412420362841722,
          0.010538906683221116,
          2.488739047434512,
          0.15468754820358782,
          1.1174683028854644,
          -0.2147707894467505,
          0.353563109498879,
          -0.6926503832549578,
          0.12247094637382099,
          1.671346034343378,
          1.3904833517248982,
          -0.27899747642788814,
          1.1719887059819927,
          0.12267746305221702,
          1.818385909361288,
          -0.5575884755840125,
          1.0984687684730376,
          0.7019567459528311,
          -0.4886119049997681,
          2.5566830346267766,
          -0.6651836650282976,
          0.4933749007729309,
          0.7118695465158363,
          -0.7857894052115271,
          -0.2996491442674822,
          -0.7329211355421663,
          -0.8392772249160758,
          -0.6907917331493942,
          -0.838657674880888,
          -0.7638986373015575,
          -0.5038941392010677,
          -0.85992889275567,
          -0.4915031384973113,
          -1.0321638025378845,
          0.3227921244178836,
          -0.9421225307572544,
          -0.16479375327493276,
          -0.35499561407759433,
          -0.8339077912777815,
          1.9199921151320911,
          4.425658974110042
         ],
         "z": [
          3.3615940765757353,
          -0.07924658222834544,
          2.6089408080022425,
          -0.06977308188605758,
          1.7416255180445064,
          -0.35234473002671357,
          0.05305575013808904,
          -0.32425090142544605,
          0.05958919865001158,
          -0.29060364158904417,
          -0.01456544196031074,
          -0.027959011409752363,
          0.8635300380420979,
          0.6717733242171671,
          -0.21481563885074106,
          0.019408490301687183,
          0.08245626844174106,
          -0.0393925463056171,
          0.29283331052565137,
          0.26604617162676836,
          -0.026325649281771554,
          -0.681957207453213,
          -0.10668706597842058,
          -0.28243683094914085,
          -0.27263665818125693,
          0.35784112321928213,
          0.40586196978191386,
          0.3852816069693573,
          -0.8096861258613014,
          -0.7891057630487448,
          0.8076690532651587,
          -1.025616599180346,
          0.33366736372516814,
          -0.08251330648430683,
          0.12427033891804627,
          -0.10113363474328647,
          0.11022342461741251,
          0.18143801339736976,
          -0.8753472834061243,
          0.7273076365685099,
          -0.7489250547004205,
          -0.0001918552340809127,
          -0.8384332993137612,
          0.4829566622226015,
          0.1971182898259841,
          -0.8015193152213981,
          0.333014018873976,
          -0.8469267823792607,
          -0.847906799656049,
          -1.3045948506394447,
          -0.3124906941039852,
          2.126118962971156,
          2.3796167652337568,
          0.4431026262998731,
          1.5475820972404029,
          -0.3369911260236953,
          -0.9367616994181975,
          0.8292294333545035,
          -0.7156044672896147,
          1.041239837566395,
          0.75180806848822,
          1.8376672111697698,
          0.321253811552515,
          1.562282356392229,
          0.7367811369107976,
          -1.0318233752666726,
          -1.0677573420822473,
          0.9033840739648262,
          3.6327321898205267,
          -0.5078408046104733,
          0.07494280265302986,
          3.4749494082575936,
          -0.3464646263659832,
          3.038515047661159,
          -0.9380683891205821,
          0.856343244678983,
          0.46335631668683336,
          -0.41245245633640226,
          1.4747341463324648,
          -0.3902387313958651,
          1.2189496370906918,
          -0.41179911148521,
          -0.7819189696856299,
          -0.036452494475251784,
          -0.27361667545804513,
          0.06350926775716534,
          -0.8309198335250501,
          -0.7322647609950176,
          -0.41833255999713265,
          -0.5251544431670685,
          -0.3232708841486576,
          -0.010645372853157215,
          -0.7832256593880145,
          -0.5120875461432232,
          -1.0775575148501315,
          -0.9491752515908507,
          -0.0393925463056171,
          -0.8217730056083583,
          1.5864561158863426,
          0.9612050932953419
         ]
        },
        {
         "hovertemplate": "Status=non-COVID-19 USA<br>PARP9=%{x}<br>AIM2=%{y}<br>DTX3L=%{z}<extra></extra>",
         "legendgroup": "non-COVID-19 USA",
         "marker": {
          "color": "#EF553B",
          "symbol": "circle"
         },
         "mode": "markers",
         "name": "non-COVID-19 USA",
         "scene": "scene",
         "showlegend": true,
         "type": "scatter3d",
         "x": [
          -1.0887329517474809,
          -0.8086991275044074,
          -0.8379246689339501,
          -0.38377746756820696,
          -0.6999446884878059,
          -0.9962739661340182,
          -0.8030311437120112,
          -0.7168600776182382,
          -0.07062136303831866,
          -0.7641523173860437,
          0.04929191906956302,
          0.015195454068429601,
          -0.7006531864618554,
          -0.46126943347987337,
          -0.7701745501654647,
          -0.9993736447704848,
          -0.21001833943256193,
          -0.8342050545701903,
          -0.9269297269239214,
          -0.3398505931771367,
          -1.0701348799286807,
          -1.1879226681144137,
          -0.577020289990214,
          -0.7497166711647848,
          -1.1692360340488577,
          -1.1974873907640822
         ],
         "y": [
          -0.9995341673513259,
          -0.7727788544725828,
          -0.29717094412673095,
          -0.3060511612977564,
          -0.2878776935989136,
          -0.8574506926149186,
          -0.782691655035588,
          -0.35809336425353344,
          -0.42211353455627515,
          -0.19019530471763357,
          -0.384320982409818,
          0.8262797863471877,
          -0.24430267445737003,
          -0.15198971921438448,
          -0.8634396762884008,
          -0.1253490677013081,
          -0.06525271428808924,
          -0.7721593044373951,
          -0.8322556578506138,
          0.5266240859946774,
          -0.9024713285052337,
          -0.9807411496172954,
          0.17761089950553724,
          -0.7884741220306744,
          -1.0049036009896204,
          -1.0040775342760366
         ],
         "z": [
          -0.9361083545670053,
          -0.9204280781383909,
          -0.9726956662337722,
          -0.3951388177798071,
          -0.6375297575721387,
          -0.8969076634954692,
          -0.7717921244921498,
          -0.6911040353699046,
          0.02071518000407169,
          -0.7639519862778426,
          -0.19390860361258846,
          -0.24650286413356604,
          -0.7273646746110756,
          -0.7456583304444591,
          -0.5150275979735884,
          -1.0187564782428271,
          -0.11224049721355492,
          -0.8776339903852972,
          -1.003402874239809,
          -0.609109256545275,
          -0.9073611811145454,
          -1.1216582923056093,
          -0.6074758944172943,
          -0.5911422731374876,
          -0.915854664180045,
          -1.2562473316512168
         ]
        }
       ],
       "layout": {
        "autosize": true,
        "legend": {
         "title": {
          "text": "Status"
         },
         "tracegroupgap": 0
        },
        "margin": {
         "t": 60
        },
        "scene": {
         "aspectmode": "auto",
         "aspectratio": {
          "x": 0.8899330594379298,
          "y": 1.1396793579975686,
          "z": 0.9859615464040332
         },
         "domain": {
          "x": [
           0,
           1
          ],
          "y": [
           0,
           1
          ]
         },
         "xaxis": {
          "title": {
           "text": "PARP9"
          },
          "type": "linear"
         },
         "yaxis": {
          "title": {
           "text": "AIM2"
          },
          "type": "linear"
         },
         "zaxis": {
          "title": {
           "text": "DTX3L"
          },
          "type": "linear"
         }
        },
        "template": {
         "data": {
          "bar": [
           {
            "error_x": {
             "color": "#2a3f5f"
            },
            "error_y": {
             "color": "#2a3f5f"
            },
            "marker": {
             "line": {
              "color": "#E5ECF6",
              "width": 0.5
             }
            },
            "type": "bar"
           }
          ],
          "barpolar": [
           {
            "marker": {
             "line": {
              "color": "#E5ECF6",
              "width": 0.5
             }
            },
            "type": "barpolar"
           }
          ],
          "carpet": [
           {
            "aaxis": {
             "endlinecolor": "#2a3f5f",
             "gridcolor": "white",
             "linecolor": "white",
             "minorgridcolor": "white",
             "startlinecolor": "#2a3f5f"
            },
            "baxis": {
             "endlinecolor": "#2a3f5f",
             "gridcolor": "white",
             "linecolor": "white",
             "minorgridcolor": "white",
             "startlinecolor": "#2a3f5f"
            },
            "type": "carpet"
           }
          ],
          "choropleth": [
           {
            "colorbar": {
             "outlinewidth": 0,
             "ticks": ""
            },
            "type": "choropleth"
           }
          ],
          "contour": [
           {
            "colorbar": {
             "outlinewidth": 0,
             "ticks": ""
            },
            "colorscale": [
             [
              0,
              "#0d0887"
             ],
             [
              0.1111111111111111,
              "#46039f"
             ],
             [
              0.2222222222222222,
              "#7201a8"
             ],
             [
              0.3333333333333333,
              "#9c179e"
             ],
             [
              0.4444444444444444,
              "#bd3786"
             ],
             [
              0.5555555555555556,
              "#d8576b"
             ],
             [
              0.6666666666666666,
              "#ed7953"
             ],
             [
              0.7777777777777778,
              "#fb9f3a"
             ],
             [
              0.8888888888888888,
              "#fdca26"
             ],
             [
              1,
              "#f0f921"
             ]
            ],
            "type": "contour"
           }
          ],
          "contourcarpet": [
           {
            "colorbar": {
             "outlinewidth": 0,
             "ticks": ""
            },
            "type": "contourcarpet"
           }
          ],
          "heatmap": [
           {
            "colorbar": {
             "outlinewidth": 0,
             "ticks": ""
            },
            "colorscale": [
             [
              0,
              "#0d0887"
             ],
             [
              0.1111111111111111,
              "#46039f"
             ],
             [
              0.2222222222222222,
              "#7201a8"
             ],
             [
              0.3333333333333333,
              "#9c179e"
             ],
             [
              0.4444444444444444,
              "#bd3786"
             ],
             [
              0.5555555555555556,
              "#d8576b"
             ],
             [
              0.6666666666666666,
              "#ed7953"
             ],
             [
              0.7777777777777778,
              "#fb9f3a"
             ],
             [
              0.8888888888888888,
              "#fdca26"
             ],
             [
              1,
              "#f0f921"
             ]
            ],
            "type": "heatmap"
           }
          ],
          "heatmapgl": [
           {
            "colorbar": {
             "outlinewidth": 0,
             "ticks": ""
            },
            "colorscale": [
             [
              0,
              "#0d0887"
             ],
             [
              0.1111111111111111,
              "#46039f"
             ],
             [
              0.2222222222222222,
              "#7201a8"
             ],
             [
              0.3333333333333333,
              "#9c179e"
             ],
             [
              0.4444444444444444,
              "#bd3786"
             ],
             [
              0.5555555555555556,
              "#d8576b"
             ],
             [
              0.6666666666666666,
              "#ed7953"
             ],
             [
              0.7777777777777778,
              "#fb9f3a"
             ],
             [
              0.8888888888888888,
              "#fdca26"
             ],
             [
              1,
              "#f0f921"
             ]
            ],
            "type": "heatmapgl"
           }
          ],
          "histogram": [
           {
            "marker": {
             "colorbar": {
              "outlinewidth": 0,
              "ticks": ""
             }
            },
            "type": "histogram"
           }
          ],
          "histogram2d": [
           {
            "colorbar": {
             "outlinewidth": 0,
             "ticks": ""
            },
            "colorscale": [
             [
              0,
              "#0d0887"
             ],
             [
              0.1111111111111111,
              "#46039f"
             ],
             [
              0.2222222222222222,
              "#7201a8"
             ],
             [
              0.3333333333333333,
              "#9c179e"
             ],
             [
              0.4444444444444444,
              "#bd3786"
             ],
             [
              0.5555555555555556,
              "#d8576b"
             ],
             [
              0.6666666666666666,
              "#ed7953"
             ],
             [
              0.7777777777777778,
              "#fb9f3a"
             ],
             [
              0.8888888888888888,
              "#fdca26"
             ],
             [
              1,
              "#f0f921"
             ]
            ],
            "type": "histogram2d"
           }
          ],
          "histogram2dcontour": [
           {
            "colorbar": {
             "outlinewidth": 0,
             "ticks": ""
            },
            "colorscale": [
             [
              0,
              "#0d0887"
             ],
             [
              0.1111111111111111,
              "#46039f"
             ],
             [
              0.2222222222222222,
              "#7201a8"
             ],
             [
              0.3333333333333333,
              "#9c179e"
             ],
             [
              0.4444444444444444,
              "#bd3786"
             ],
             [
              0.5555555555555556,
              "#d8576b"
             ],
             [
              0.6666666666666666,
              "#ed7953"
             ],
             [
              0.7777777777777778,
              "#fb9f3a"
             ],
             [
              0.8888888888888888,
              "#fdca26"
             ],
             [
              1,
              "#f0f921"
             ]
            ],
            "type": "histogram2dcontour"
           }
          ],
          "mesh3d": [
           {
            "colorbar": {
             "outlinewidth": 0,
             "ticks": ""
            },
            "type": "mesh3d"
           }
          ],
          "parcoords": [
           {
            "line": {
             "colorbar": {
              "outlinewidth": 0,
              "ticks": ""
             }
            },
            "type": "parcoords"
           }
          ],
          "pie": [
           {
            "automargin": true,
            "type": "pie"
           }
          ],
          "scatter": [
           {
            "marker": {
             "colorbar": {
              "outlinewidth": 0,
              "ticks": ""
             }
            },
            "type": "scatter"
           }
          ],
          "scatter3d": [
           {
            "line": {
             "colorbar": {
              "outlinewidth": 0,
              "ticks": ""
             }
            },
            "marker": {
             "colorbar": {
              "outlinewidth": 0,
              "ticks": ""
             }
            },
            "type": "scatter3d"
           }
          ],
          "scattercarpet": [
           {
            "marker": {
             "colorbar": {
              "outlinewidth": 0,
              "ticks": ""
             }
            },
            "type": "scattercarpet"
           }
          ],
          "scattergeo": [
           {
            "marker": {
             "colorbar": {
              "outlinewidth": 0,
              "ticks": ""
             }
            },
            "type": "scattergeo"
           }
          ],
          "scattergl": [
           {
            "marker": {
             "colorbar": {
              "outlinewidth": 0,
              "ticks": ""
             }
            },
            "type": "scattergl"
           }
          ],
          "scattermapbox": [
           {
            "marker": {
             "colorbar": {
              "outlinewidth": 0,
              "ticks": ""
             }
            },
            "type": "scattermapbox"
           }
          ],
          "scatterpolar": [
           {
            "marker": {
             "colorbar": {
              "outlinewidth": 0,
              "ticks": ""
             }
            },
            "type": "scatterpolar"
           }
          ],
          "scatterpolargl": [
           {
            "marker": {
             "colorbar": {
              "outlinewidth": 0,
              "ticks": ""
             }
            },
            "type": "scatterpolargl"
           }
          ],
          "scatterternary": [
           {
            "marker": {
             "colorbar": {
              "outlinewidth": 0,
              "ticks": ""
             }
            },
            "type": "scatterternary"
           }
          ],
          "surface": [
           {
            "colorbar": {
             "outlinewidth": 0,
             "ticks": ""
            },
            "colorscale": [
             [
              0,
              "#0d0887"
             ],
             [
              0.1111111111111111,
              "#46039f"
             ],
             [
              0.2222222222222222,
              "#7201a8"
             ],
             [
              0.3333333333333333,
              "#9c179e"
             ],
             [
              0.4444444444444444,
              "#bd3786"
             ],
             [
              0.5555555555555556,
              "#d8576b"
             ],
             [
              0.6666666666666666,
              "#ed7953"
             ],
             [
              0.7777777777777778,
              "#fb9f3a"
             ],
             [
              0.8888888888888888,
              "#fdca26"
             ],
             [
              1,
              "#f0f921"
             ]
            ],
            "type": "surface"
           }
          ],
          "table": [
           {
            "cells": {
             "fill": {
              "color": "#EBF0F8"
             },
             "line": {
              "color": "white"
             }
            },
            "header": {
             "fill": {
              "color": "#C8D4E3"
             },
             "line": {
              "color": "white"
             }
            },
            "type": "table"
           }
          ]
         },
         "layout": {
          "annotationdefaults": {
           "arrowcolor": "#2a3f5f",
           "arrowhead": 0,
           "arrowwidth": 1
          },
          "coloraxis": {
           "colorbar": {
            "outlinewidth": 0,
            "ticks": ""
           }
          },
          "colorscale": {
           "diverging": [
            [
             0,
             "#8e0152"
            ],
            [
             0.1,
             "#c51b7d"
            ],
            [
             0.2,
             "#de77ae"
            ],
            [
             0.3,
             "#f1b6da"
            ],
            [
             0.4,
             "#fde0ef"
            ],
            [
             0.5,
             "#f7f7f7"
            ],
            [
             0.6,
             "#e6f5d0"
            ],
            [
             0.7,
             "#b8e186"
            ],
            [
             0.8,
             "#7fbc41"
            ],
            [
             0.9,
             "#4d9221"
            ],
            [
             1,
             "#276419"
            ]
           ],
           "sequential": [
            [
             0,
             "#0d0887"
            ],
            [
             0.1111111111111111,
             "#46039f"
            ],
            [
             0.2222222222222222,
             "#7201a8"
            ],
            [
             0.3333333333333333,
             "#9c179e"
            ],
            [
             0.4444444444444444,
             "#bd3786"
            ],
            [
             0.5555555555555556,
             "#d8576b"
            ],
            [
             0.6666666666666666,
             "#ed7953"
            ],
            [
             0.7777777777777778,
             "#fb9f3a"
            ],
            [
             0.8888888888888888,
             "#fdca26"
            ],
            [
             1,
             "#f0f921"
            ]
           ],
           "sequentialminus": [
            [
             0,
             "#0d0887"
            ],
            [
             0.1111111111111111,
             "#46039f"
            ],
            [
             0.2222222222222222,
             "#7201a8"
            ],
            [
             0.3333333333333333,
             "#9c179e"
            ],
            [
             0.4444444444444444,
             "#bd3786"
            ],
            [
             0.5555555555555556,
             "#d8576b"
            ],
            [
             0.6666666666666666,
             "#ed7953"
            ],
            [
             0.7777777777777778,
             "#fb9f3a"
            ],
            [
             0.8888888888888888,
             "#fdca26"
            ],
            [
             1,
             "#f0f921"
            ]
           ]
          },
          "colorway": [
           "#636efa",
           "#EF553B",
           "#00cc96",
           "#ab63fa",
           "#FFA15A",
           "#19d3f3",
           "#FF6692",
           "#B6E880",
           "#FF97FF",
           "#FECB52"
          ],
          "font": {
           "color": "#2a3f5f"
          },
          "geo": {
           "bgcolor": "white",
           "lakecolor": "white",
           "landcolor": "#E5ECF6",
           "showlakes": true,
           "showland": true,
           "subunitcolor": "white"
          },
          "hoverlabel": {
           "align": "left"
          },
          "hovermode": "closest",
          "mapbox": {
           "style": "light"
          },
          "paper_bgcolor": "white",
          "plot_bgcolor": "#E5ECF6",
          "polar": {
           "angularaxis": {
            "gridcolor": "white",
            "linecolor": "white",
            "ticks": ""
           },
           "bgcolor": "#E5ECF6",
           "radialaxis": {
            "gridcolor": "white",
            "linecolor": "white",
            "ticks": ""
           }
          },
          "scene": {
           "xaxis": {
            "backgroundcolor": "#E5ECF6",
            "gridcolor": "white",
            "gridwidth": 2,
            "linecolor": "white",
            "showbackground": true,
            "ticks": "",
            "zerolinecolor": "white"
           },
           "yaxis": {
            "backgroundcolor": "#E5ECF6",
            "gridcolor": "white",
            "gridwidth": 2,
            "linecolor": "white",
            "showbackground": true,
            "ticks": "",
            "zerolinecolor": "white"
           },
           "zaxis": {
            "backgroundcolor": "#E5ECF6",
            "gridcolor": "white",
            "gridwidth": 2,
            "linecolor": "white",
            "showbackground": true,
            "ticks": "",
            "zerolinecolor": "white"
           }
          },
          "shapedefaults": {
           "line": {
            "color": "#2a3f5f"
           }
          },
          "ternary": {
           "aaxis": {
            "gridcolor": "white",
            "linecolor": "white",
            "ticks": ""
           },
           "baxis": {
            "gridcolor": "white",
            "linecolor": "white",
            "ticks": ""
           },
           "bgcolor": "#E5ECF6",
           "caxis": {
            "gridcolor": "white",
            "linecolor": "white",
            "ticks": ""
           }
          },
          "title": {
           "x": 0.05
          },
          "xaxis": {
           "automargin": true,
           "gridcolor": "white",
           "linecolor": "white",
           "ticks": "",
           "title": {
            "standoff": 15
           },
           "zerolinecolor": "white",
           "zerolinewidth": 2
          },
          "yaxis": {
           "automargin": true,
           "gridcolor": "white",
           "linecolor": "white",
           "ticks": "",
           "title": {
            "standoff": 15
           },
           "zerolinecolor": "white",
           "zerolinewidth": 2
          }
         }
        }
       }
      },
      "image/png": "[encoded data removed]",
      "text/html": [
       "<div>                            <div id=\"cd2e3313-800b-4397-8d9b-08cf5dea734e\" class=\"plotly-graph-div\" style=\"height:525px; width:100%;\"></div>            <script type=\"text/javascript\">                require([\"plotly\"], function(Plotly) {                    window.PLOTLYENV=window.PLOTLYENV || {};                                    if (document.getElementById(\"cd2e3313-800b-4397-8d9b-08cf5dea734e\")) {                    Plotly.newPlot(                        \"cd2e3313-800b-4397-8d9b-08cf5dea734e\",                        [{\"hovertemplate\": \"Status=COVID-19 USA<br>PARP9=%{x}<br>AIM2=%{y}<br>DTX3L=%{z}<extra></extra>\", \"legendgroup\": \"COVID-19 USA\", \"marker\": {\"color\": \"#636efa\", \"symbol\": \"circle\"}, \"mode\": \"markers\", \"name\": \"COVID-19 USA\", \"scene\": \"scene\", \"showlegend\": true, \"type\": \"scatter3d\", \"x\": [2.2647650839224163, -0.308322433331933, 2.5175217361645834, -0.4102575793483079, 2.226240506583473, -0.5893304422893244, -0.43842037381677634, -0.2856504981623483, 0.09251029548658378, -0.31133354972164345, -0.40033860771161456, 0.007490538600641267, 1.1681873445872697, 1.6287995899662147, -0.21781181714710662, -0.3924565677503136, -0.2978720882147026, -0.3290459990728815, -0.039624576673652094, 0.21605462971146897, 0.37573236061287985, -0.32010121215050624, 0.38485427202876743, -0.20718434753636378, -0.5226430704819132, 0.8831054722790933, 0.8048164461466214, 0.7348522712092311, -0.6276778951347548, -0.7243878685925145, 1.3365441756707872, -1.0007020784718277, 0.2515680906607014, -0.3557917975932509, 0.31019629801329907, 0.06310762956352871, 0.29106685271396204, 0.961660185151834, -0.7456428078140002, 1.207597544393774, -0.6102311325237852, 0.22437948090655083, -0.6882544719159889, 0.26635798586898507, 0.34730387940414276, -0.7689346787108781, 0.18700621277543858, -0.9179849400015462, -0.9473876059246014, -1.2112145390112918, -0.5682526275613511, 2.0986223090078036, 1.8950177037153224, 0.5929755519058143, 2.518938732112682, -0.7258048645406134, -1.1588742511783834, 0.27485996155757936, -0.7909866781531694, 1.2579894627980464, 0.8289939395110613, 2.210653551154384, 0.08276844834340291, 1.568311575431737, 0.23049027593272792, -0.9527899029767288, -1.1153016257743378, 0.5859791344120754, 3.2452377177601974, -0.22401117442003998, -0.09028218181819286, 2.4129297227455226, -0.23977525434264182, 3.0401275542728614, -0.8287141952713065, 1.3809138612956382, 0.33924471494932945, -0.5340676003134617, 1.2470077442002787, -0.5521342986517245, 1.2048521147443323, -0.07088704977858723, -0.8266772635959141, 0.022988931782974547, -0.28077957459075786, 0.02573436143241646, -0.7740712890227371, -0.8944273823643994, -0.16715421200256575, -0.5633817039897606, -0.5643558887040787, -0.14492508806676208, -1.148866717294934, -0.08762531441550706, -1.1159215615016311, -0.9819268821595154, -0.22525104587462663, -0.9457934854829899, 1.773864550152854, 0.9509441532943351], \"y\": [1.0175142305418288, -0.3518978639016553, 2.160377528784966, -0.7533662867033644, 4.674924604933943, -0.7938435556689688, -0.6825310660135566, 0.02107125728141406, 0.22882703574773053, -0.1862714878281106, -0.7424209027483795, 0.9142558913438583, 0.20858840126492836, 1.107762019000855, 0.22882703574773053, -0.7114434009889883, -0.2802365764982638, -0.5313608574277279, -0.30171431105144164, -0.42066791780750357, -0.3454958468713811, 0.6554904933137444, 0.7013371959176435, -0.4020814167518689, -0.2325312237888014, -0.7380840525020649, 0.47086458282777327, -0.3461153969065689, -0.2918015104884364, -0.7170193513056788, 0.11090601238364839, -0.859515859398878, -0.2244770733313597, -0.7246604684063286, 0.028918891060459723, -0.2001081052806387, -0.11151245024878004, 0.7120760631942323, -0.31534441182557366, 0.04833145882967827, -0.20857528909487233, -0.17305442041077038, -0.5852617104890685, 1.0974361850810581, 1.146380637860896, -0.6523796309677493, 0.36801927698659487, -0.8372120581321164, -0.7161932845920951, -0.9704153156974984, -0.5410671413123371, 2.518270932445132, 1.349386532724106, 0.19661043391796384, 1.0309378146375652, -0.7709202043670194, -0.9342748969782088, -0.65692299789246, -0.8566246259013348, 0.412420362841722, 0.010538906683221116, 2.488739047434512, 0.15468754820358782, 1.1174683028854644, -0.2147707894467505, 0.353563109498879, -0.6926503832549578, 0.12247094637382099, 1.671346034343378, 1.3904833517248982, -0.27899747642788814, 1.1719887059819927, 0.12267746305221702, 1.818385909361288, -0.5575884755840125, 1.0984687684730376, 0.7019567459528311, -0.4886119049997681, 2.5566830346267766, -0.6651836650282976, 0.4933749007729309, 0.7118695465158363, -0.7857894052115271, -0.2996491442674822, -0.7329211355421663, -0.8392772249160758, -0.6907917331493942, -0.838657674880888, -0.7638986373015575, -0.5038941392010677, -0.85992889275567, -0.4915031384973113, -1.0321638025378845, 0.3227921244178836, -0.9421225307572544, -0.16479375327493276, -0.35499561407759433, -0.8339077912777815, 1.9199921151320911, 4.425658974110042], \"z\": [3.3615940765757353, -0.07924658222834544, 2.6089408080022425, -0.06977308188605758, 1.7416255180445064, -0.35234473002671357, 0.05305575013808904, -0.32425090142544605, 0.05958919865001158, -0.29060364158904417, -0.01456544196031074, -0.027959011409752363, 0.8635300380420979, 0.6717733242171671, -0.21481563885074106, 0.019408490301687183, 0.08245626844174106, -0.0393925463056171, 0.29283331052565137, 0.26604617162676836, -0.026325649281771554, -0.681957207453213, -0.10668706597842058, -0.28243683094914085, -0.27263665818125693, 0.35784112321928213, 0.40586196978191386, 0.3852816069693573, -0.8096861258613014, -0.7891057630487448, 0.8076690532651587, -1.025616599180346, 0.33366736372516814, -0.08251330648430683, 0.12427033891804627, -0.10113363474328647, 0.11022342461741251, 0.18143801339736976, -0.8753472834061243, 0.7273076365685099, -0.7489250547004205, -0.0001918552340809127, -0.8384332993137612, 0.4829566622226015, 0.1971182898259841, -0.8015193152213981, 0.333014018873976, -0.8469267823792607, -0.847906799656049, -1.3045948506394447, -0.3124906941039852, 2.126118962971156, 2.3796167652337568, 0.4431026262998731, 1.5475820972404029, -0.3369911260236953, -0.9367616994181975, 0.8292294333545035, -0.7156044672896147, 1.041239837566395, 0.75180806848822, 1.8376672111697698, 0.321253811552515, 1.562282356392229, 0.7367811369107976, -1.0318233752666726, -1.0677573420822473, 0.9033840739648262, 3.6327321898205267, -0.5078408046104733, 0.07494280265302986, 3.4749494082575936, -0.3464646263659832, 3.038515047661159, -0.9380683891205821, 0.856343244678983, 0.46335631668683336, -0.41245245633640226, 1.4747341463324648, -0.3902387313958651, 1.2189496370906918, -0.41179911148521, -0.7819189696856299, -0.036452494475251784, -0.27361667545804513, 0.06350926775716534, -0.8309198335250501, -0.7322647609950176, -0.41833255999713265, -0.5251544431670685, -0.3232708841486576, -0.010645372853157215, -0.7832256593880145, -0.5120875461432232, -1.0775575148501315, -0.9491752515908507, -0.0393925463056171, -0.8217730056083583, 1.5864561158863426, 0.9612050932953419]}, {\"hovertemplate\": \"Status=non-COVID-19 USA<br>PARP9=%{x}<br>AIM2=%{y}<br>DTX3L=%{z}<extra></extra>\", \"legendgroup\": \"non-COVID-19 USA\", \"marker\": {\"color\": \"#EF553B\", \"symbol\": \"circle\"}, \"mode\": \"markers\", \"name\": \"non-COVID-19 USA\", \"scene\": \"scene\", \"showlegend\": true, \"type\": \"scatter3d\", \"x\": [-1.0887329517474809, -0.8086991275044074, -0.8379246689339501, -0.38377746756820696, -0.6999446884878059, -0.9962739661340182, -0.8030311437120112, -0.7168600776182382, -0.07062136303831866, -0.7641523173860437, 0.04929191906956302, 0.015195454068429601, -0.7006531864618554, -0.46126943347987337, -0.7701745501654647, -0.9993736447704848, -0.21001833943256193, -0.8342050545701903, -0.9269297269239214, -0.3398505931771367, -1.0701348799286807, -1.1879226681144137, -0.577020289990214, -0.7497166711647848, -1.1692360340488577, -1.1974873907640822], \"y\": [-0.9995341673513259, -0.7727788544725828, -0.29717094412673095, -0.3060511612977564, -0.2878776935989136, -0.8574506926149186, -0.782691655035588, -0.35809336425353344, -0.42211353455627515, -0.19019530471763357, -0.384320982409818, 0.8262797863471877, -0.24430267445737003, -0.15198971921438448, -0.8634396762884008, -0.1253490677013081, -0.06525271428808924, -0.7721593044373951, -0.8322556578506138, 0.5266240859946774, -0.9024713285052337, -0.9807411496172954, 0.17761089950553724, -0.7884741220306744, -1.0049036009896204, -1.0040775342760366], \"z\": [-0.9361083545670053, -0.9204280781383909, -0.9726956662337722, -0.3951388177798071, -0.6375297575721387, -0.8969076634954692, -0.7717921244921498, -0.6911040353699046, 0.02071518000407169, -0.7639519862778426, -0.19390860361258846, -0.24650286413356604, -0.7273646746110756, -0.7456583304444591, -0.5150275979735884, -1.0187564782428271, -0.11224049721355492, -0.8776339903852972, -1.003402874239809, -0.609109256545275, -0.9073611811145454, -1.1216582923056093, -0.6074758944172943, -0.5911422731374876, -0.915854664180045, -1.2562473316512168]}],                        {\"legend\": {\"title\": {\"text\": \"Status\"}, \"tracegroupgap\": 0}, \"margin\": {\"t\": 60}, \"scene\": {\"domain\": {\"x\": [0.0, 1.0], \"y\": [0.0, 1.0]}, \"xaxis\": {\"title\": {\"text\": \"PARP9\"}}, \"yaxis\": {\"title\": {\"text\": \"AIM2\"}}, \"zaxis\": {\"title\": {\"text\": \"DTX3L\"}}}, \"template\": {\"data\": {\"bar\": [{\"error_x\": {\"color\": \"#2a3f5f\"}, \"error_y\": {\"color\": \"#2a3f5f\"}, \"marker\": {\"line\": {\"color\": \"#E5ECF6\", \"width\": 0.5}}, \"type\": \"bar\"}], \"barpolar\": [{\"marker\": {\"line\": {\"color\": \"#E5ECF6\", \"width\": 0.5}}, \"type\": \"barpolar\"}], \"carpet\": [{\"aaxis\": {\"endlinecolor\": \"#2a3f5f\", \"gridcolor\": \"white\", \"linecolor\": \"white\", \"minorgridcolor\": \"white\", \"startlinecolor\": \"#2a3f5f\"}, \"baxis\": {\"endlinecolor\": \"#2a3f5f\", \"gridcolor\": \"white\", \"linecolor\": \"white\", \"minorgridcolor\": \"white\", \"startlinecolor\": \"#2a3f5f\"}, \"type\": \"carpet\"}], \"choropleth\": [{\"colorbar\": {\"outlinewidth\": 0, \"ticks\": \"\"}, \"type\": \"choropleth\"}], \"contour\": [{\"colorbar\": {\"outlinewidth\": 0, \"ticks\": \"\"}, \"colorscale\": [[0.0, \"#0d0887\"], [0.1111111111111111, \"#46039f\"], [0.2222222222222222, \"#7201a8\"], [0.3333333333333333, \"#9c179e\"], [0.4444444444444444, \"#bd3786\"], [0.5555555555555556, \"#d8576b\"], [0.6666666666666666, \"#ed7953\"], [0.7777777777777778, \"#fb9f3a\"], [0.8888888888888888, \"#fdca26\"], [1.0, \"#f0f921\"]], \"type\": \"contour\"}], \"contourcarpet\": [{\"colorbar\": {\"outlinewidth\": 0, \"ticks\": \"\"}, \"type\": \"contourcarpet\"}], \"heatmap\": [{\"colorbar\": {\"outlinewidth\": 0, \"ticks\": \"\"}, \"colorscale\": [[0.0, \"#0d0887\"], [0.1111111111111111, \"#46039f\"], [0.2222222222222222, \"#7201a8\"], [0.3333333333333333, \"#9c179e\"], [0.4444444444444444, \"#bd3786\"], [0.5555555555555556, \"#d8576b\"], [0.6666666666666666, \"#ed7953\"], [0.7777777777777778, \"#fb9f3a\"], [0.8888888888888888, \"#fdca26\"], [1.0, \"#f0f921\"]], \"type\": \"heatmap\"}], \"heatmapgl\": [{\"colorbar\": {\"outlinewidth\": 0, \"ticks\": \"\"}, \"colorscale\": [[0.0, \"#0d0887\"], [0.1111111111111111, \"#46039f\"], [0.2222222222222222, \"#7201a8\"], [0.3333333333333333, \"#9c179e\"], [0.4444444444444444, \"#bd3786\"], [0.5555555555555556, \"#d8576b\"], [0.6666666666666666, \"#ed7953\"], [0.7777777777777778, \"#fb9f3a\"], [0.8888888888888888, \"#fdca26\"], [1.0, \"#f0f921\"]], \"type\": \"heatmapgl\"}], \"histogram\": [{\"marker\": {\"colorbar\": {\"outlinewidth\": 0, \"ticks\": \"\"}}, \"type\": \"histogram\"}], \"histogram2d\": [{\"colorbar\": {\"outlinewidth\": 0, \"ticks\": \"\"}, \"colorscale\": [[0.0, \"#0d0887\"], [0.1111111111111111, \"#46039f\"], [0.2222222222222222, \"#7201a8\"], [0.3333333333333333, \"#9c179e\"], [0.4444444444444444, \"#bd3786\"], [0.5555555555555556, \"#d8576b\"], [0.6666666666666666, \"#ed7953\"], [0.7777777777777778, \"#fb9f3a\"], [0.8888888888888888, \"#fdca26\"], [1.0, \"#f0f921\"]], \"type\": \"histogram2d\"}], \"histogram2dcontour\": [{\"colorbar\": {\"outlinewidth\": 0, \"ticks\": \"\"}, \"colorscale\": [[0.0, \"#0d0887\"], [0.1111111111111111, \"#46039f\"], [0.2222222222222222, \"#7201a8\"], [0.3333333333333333, \"#9c179e\"], [0.4444444444444444, \"#bd3786\"], [0.5555555555555556, \"#d8576b\"], [0.6666666666666666, \"#ed7953\"], [0.7777777777777778, \"#fb9f3a\"], [0.8888888888888888, \"#fdca26\"], [1.0, \"#f0f921\"]], \"type\": \"histogram2dcontour\"}], \"mesh3d\": [{\"colorbar\": {\"outlinewidth\": 0, \"ticks\": \"\"}, \"type\": \"mesh3d\"}], \"parcoords\": [{\"line\": {\"colorbar\": {\"outlinewidth\": 0, \"ticks\": \"\"}}, \"type\": \"parcoords\"}], \"pie\": [{\"automargin\": true, \"type\": \"pie\"}], \"scatter\": [{\"marker\": {\"colorbar\": {\"outlinewidth\": 0, \"ticks\": \"\"}}, \"type\": \"scatter\"}], \"scatter3d\": [{\"line\": {\"colorbar\": {\"outlinewidth\": 0, \"ticks\": \"\"}}, \"marker\": {\"colorbar\": {\"outlinewidth\": 0, \"ticks\": \"\"}}, \"type\": \"scatter3d\"}], \"scattercarpet\": [{\"marker\": {\"colorbar\": {\"outlinewidth\": 0, \"ticks\": \"\"}}, \"type\": \"scattercarpet\"}], \"scattergeo\": [{\"marker\": {\"colorbar\": {\"outlinewidth\": 0, \"ticks\": \"\"}}, \"type\": \"scattergeo\"}], \"scattergl\": [{\"marker\": {\"colorbar\": {\"outlinewidth\": 0, \"ticks\": \"\"}}, \"type\": \"scattergl\"}], \"scattermapbox\": [{\"marker\": {\"colorbar\": {\"outlinewidth\": 0, \"ticks\": \"\"}}, \"type\": \"scattermapbox\"}], \"scatterpolar\": [{\"marker\": {\"colorbar\": {\"outlinewidth\": 0, \"ticks\": \"\"}}, \"type\": \"scatterpolar\"}], \"scatterpolargl\": [{\"marker\": {\"colorbar\": {\"outlinewidth\": 0, \"ticks\": \"\"}}, \"type\": \"scatterpolargl\"}], \"scatterternary\": [{\"marker\": {\"colorbar\": {\"outlinewidth\": 0, \"ticks\": \"\"}}, \"type\": \"scatterternary\"}], \"surface\": [{\"colorbar\": {\"outlinewidth\": 0, \"ticks\": \"\"}, \"colorscale\": [[0.0, \"#0d0887\"], [0.1111111111111111, \"#46039f\"], [0.2222222222222222, \"#7201a8\"], [0.3333333333333333, \"#9c179e\"], [0.4444444444444444, \"#bd3786\"], [0.5555555555555556, \"#d8576b\"], [0.6666666666666666, \"#ed7953\"], [0.7777777777777778, \"#fb9f3a\"], [0.8888888888888888, \"#fdca26\"], [1.0, \"#f0f921\"]], \"type\": \"surface\"}], \"table\": [{\"cells\": {\"fill\": {\"color\": \"#EBF0F8\"}, \"line\": {\"color\": \"white\"}}, \"header\": {\"fill\": {\"color\": \"#C8D4E3\"}, \"line\": {\"color\": \"white\"}}, \"type\": \"table\"}]}, \"layout\": {\"annotationdefaults\": {\"arrowcolor\": \"#2a3f5f\", \"arrowhead\": 0, \"arrowwidth\": 1}, \"coloraxis\": {\"colorbar\": {\"outlinewidth\": 0, \"ticks\": \"\"}}, \"colorscale\": {\"diverging\": [[0, \"#8e0152\"], [0.1, \"#c51b7d\"], [0.2, \"#de77ae\"], [0.3, \"#f1b6da\"], [0.4, \"#fde0ef\"], [0.5, \"#f7f7f7\"], [0.6, \"#e6f5d0\"], [0.7, \"#b8e186\"], [0.8, \"#7fbc41\"], [0.9, \"#4d9221\"], [1, \"#276419\"]], \"sequential\": [[0.0, \"#0d0887\"], [0.1111111111111111, \"#46039f\"], [0.2222222222222222, \"#7201a8\"], [0.3333333333333333, \"#9c179e\"], [0.4444444444444444, \"#bd3786\"], [0.5555555555555556, \"#d8576b\"], [0.6666666666666666, \"#ed7953\"], [0.7777777777777778, \"#fb9f3a\"], [0.8888888888888888, \"#fdca26\"], [1.0, \"#f0f921\"]], \"sequentialminus\": [[0.0, \"#0d0887\"], [0.1111111111111111, \"#46039f\"], [0.2222222222222222, \"#7201a8\"], [0.3333333333333333, \"#9c179e\"], [0.4444444444444444, \"#bd3786\"], [0.5555555555555556, \"#d8576b\"], [0.6666666666666666, \"#ed7953\"], [0.7777777777777778, \"#fb9f3a\"], [0.8888888888888888, \"#fdca26\"], [1.0, \"#f0f921\"]]}, \"colorway\": [\"#636efa\", \"#EF553B\", \"#00cc96\", \"#ab63fa\", \"#FFA15A\", \"#19d3f3\", \"#FF6692\", \"#B6E880\", \"#FF97FF\", \"#FECB52\"], \"font\": {\"color\": \"#2a3f5f\"}, \"geo\": {\"bgcolor\": \"white\", \"lakecolor\": \"white\", \"landcolor\": \"#E5ECF6\", \"showlakes\": true, \"showland\": true, \"subunitcolor\": \"white\"}, \"hoverlabel\": {\"align\": \"left\"}, \"hovermode\": \"closest\", \"mapbox\": {\"style\": \"light\"}, \"paper_bgcolor\": \"white\", \"plot_bgcolor\": \"#E5ECF6\", \"polar\": {\"angularaxis\": {\"gridcolor\": \"white\", \"linecolor\": \"white\", \"ticks\": \"\"}, \"bgcolor\": \"#E5ECF6\", \"radialaxis\": {\"gridcolor\": \"white\", \"linecolor\": \"white\", \"ticks\": \"\"}}, \"scene\": {\"xaxis\": {\"backgroundcolor\": \"#E5ECF6\", \"gridcolor\": \"white\", \"gridwidth\": 2, \"linecolor\": \"white\", \"showbackground\": true, \"ticks\": \"\", \"zerolinecolor\": \"white\"}, \"yaxis\": {\"backgroundcolor\": \"#E5ECF6\", \"gridcolor\": \"white\", \"gridwidth\": 2, \"linecolor\": \"white\", \"showbackground\": true, \"ticks\": \"\", \"zerolinecolor\": \"white\"}, \"zaxis\": {\"backgroundcolor\": \"#E5ECF6\", \"gridcolor\": \"white\", \"gridwidth\": 2, \"linecolor\": \"white\", \"showbackground\": true, \"ticks\": \"\", \"zerolinecolor\": \"white\"}}, \"shapedefaults\": {\"line\": {\"color\": \"#2a3f5f\"}}, \"ternary\": {\"aaxis\": {\"gridcolor\": \"white\", \"linecolor\": \"white\", \"ticks\": \"\"}, \"baxis\": {\"gridcolor\": \"white\", \"linecolor\": \"white\", \"ticks\": \"\"}, \"bgcolor\": \"#E5ECF6\", \"caxis\": {\"gridcolor\": \"white\", \"linecolor\": \"white\", \"ticks\": \"\"}}, \"title\": {\"x\": 0.05}, \"xaxis\": {\"automargin\": true, \"gridcolor\": \"white\", \"linecolor\": \"white\", \"ticks\": \"\", \"title\": {\"standoff\": 15}, \"zerolinecolor\": \"white\", \"zerolinewidth\": 2}, \"yaxis\": {\"automargin\": true, \"gridcolor\": \"white\", \"linecolor\": \"white\", \"ticks\": \"\", \"title\": {\"standoff\": 15}, \"zerolinecolor\": \"white\", \"zerolinewidth\": 2}}}},                        {\"responsive\": true}                    ).then(function(){\n",
       "                            \n",
       "var gd = document.getElementById('cd2e3313-800b-4397-8d9b-08cf5dea734e');\n",
       "var x = new MutationObserver(function (mutations, observer) {{\n",
       "        var display = window.getComputedStyle(gd).display;\n",
       "        if (!display || display === 'none') {{\n",
       "            console.log([gd, 'removed!']);\n",
       "            Plotly.purge(gd);\n",
       "            observer.disconnect();\n",
       "        }}\n",
       "}});\n",
       "\n",
       "// Listen for the removal of the full notebook cells\n",
       "var notebookContainer = gd.closest('#notebook-container');\n",
       "if (notebookContainer) {{\n",
       "    x.observe(notebookContainer, {childList: true});\n",
       "}}\n",
       "\n",
       "// Listen for the clearing of the current output cell\n",
       "var outputEl = gd.closest('.output');\n",
       "if (outputEl) {{\n",
       "    x.observe(outputEl, {childList: true});\n",
       "}}\n",
       "\n",
       "                        })                };                });            </script>        </div>"
      ]
     },
     "metadata": {},
     "output_type": "display_data"
    }
   ],
   "source": [
    "scaled_expression_data[\"Status\"] = expression_data[\"TYPE\"]\n",
    "px.scatter_3d(scaled_expression_data, x=\"PARP9\", z=\"DTX3L\", y=\"AIM2\", color=\"Status\")"
   ]
  },
  {
   "cell_type": "code",
   "execution_count": 29,
   "metadata": {},
   "outputs": [
    {
     "data": {
      "image/png": "[encoded data removed]",
      "text/plain": [
       "<Figure size 720x720 with 5 Axes>"
      ]
     },
     "metadata": {},
     "output_type": "display_data"
    }
   ],
   "source": [
    "pal = sns.color_palette(\"Accent\", expression_data[\"TYPE\"].nunique())\n",
    "lut = dict(zip(map(str, expression_data[\"TYPE\"].unique()[::-1]), pal))\n",
    "colors = expression_data[\"TYPE\"].map(lut)\n",
    "colors.name = \"\"\n",
    "\n",
    "sns.set(font_scale=2)\n",
    "\n",
    "fig = sns.clustermap(\n",
    "    scaled_expression_data.drop(\"Status\", axis=1).T,\n",
    "    method=\"ward\",\n",
    "    cmap=\"vlag\",\n",
    "    col_colors=colors,\n",
    ")\n",
    "\n",
    "fig.savefig(\"../Plots/ClusterMapsExpression/Clustermap_AIM2_PARP_DTX3L_USA.jpg\")\n",
    "plt.show()"
   ]
  },
  {
   "cell_type": "code",
   "execution_count": 30,
   "metadata": {},
   "outputs": [
    {
     "data": {
      "text/html": [
       "<div>\n",
       "<style scoped>\n",
       "    .dataframe tbody tr th:only-of-type {\n",
       "        vertical-align: middle;\n",
       "    }\n",
       "\n",
       "    .dataframe tbody tr th {\n",
       "        vertical-align: top;\n",
       "    }\n",
       "\n",
       "    .dataframe thead th {\n",
       "        text-align: right;\n",
       "    }\n",
       "</style>\n",
       "<table border=\"1\" class=\"dataframe\">\n",
       "  <thead>\n",
       "    <tr style=\"text-align: right;\">\n",
       "      <th></th>\n",
       "      <th>PARP9</th>\n",
       "      <th>DTX3L</th>\n",
       "      <th>AIM2</th>\n",
       "      <th>Status</th>\n",
       "    </tr>\n",
       "  </thead>\n",
       "  <tbody>\n",
       "    <tr>\n",
       "      <th>C1</th>\n",
       "      <td>2.264765</td>\n",
       "      <td>3.361594</td>\n",
       "      <td>1.017514</td>\n",
       "      <td>COVID-19 USA</td>\n",
       "    </tr>\n",
       "    <tr>\n",
       "      <th>C2</th>\n",
       "      <td>-0.308322</td>\n",
       "      <td>-0.079247</td>\n",
       "      <td>-0.351898</td>\n",
       "      <td>COVID-19 USA</td>\n",
       "    </tr>\n",
       "    <tr>\n",
       "      <th>C3</th>\n",
       "      <td>2.517522</td>\n",
       "      <td>2.608941</td>\n",
       "      <td>2.160378</td>\n",
       "      <td>COVID-19 USA</td>\n",
       "    </tr>\n",
       "    <tr>\n",
       "      <th>C4</th>\n",
       "      <td>-0.410258</td>\n",
       "      <td>-0.069773</td>\n",
       "      <td>-0.753366</td>\n",
       "      <td>COVID-19 USA</td>\n",
       "    </tr>\n",
       "    <tr>\n",
       "      <th>C5</th>\n",
       "      <td>2.226241</td>\n",
       "      <td>1.741626</td>\n",
       "      <td>4.674925</td>\n",
       "      <td>COVID-19 USA</td>\n",
       "    </tr>\n",
       "    <tr>\n",
       "      <th>...</th>\n",
       "      <td>...</td>\n",
       "      <td>...</td>\n",
       "      <td>...</td>\n",
       "      <td>...</td>\n",
       "    </tr>\n",
       "    <tr>\n",
       "      <th>NC22</th>\n",
       "      <td>-1.187923</td>\n",
       "      <td>-1.121658</td>\n",
       "      <td>-0.980741</td>\n",
       "      <td>non-COVID-19 USA</td>\n",
       "    </tr>\n",
       "    <tr>\n",
       "      <th>NC23</th>\n",
       "      <td>-0.577020</td>\n",
       "      <td>-0.607476</td>\n",
       "      <td>0.177611</td>\n",
       "      <td>non-COVID-19 USA</td>\n",
       "    </tr>\n",
       "    <tr>\n",
       "      <th>NC24</th>\n",
       "      <td>-0.749717</td>\n",
       "      <td>-0.591142</td>\n",
       "      <td>-0.788474</td>\n",
       "      <td>non-COVID-19 USA</td>\n",
       "    </tr>\n",
       "    <tr>\n",
       "      <th>NC25</th>\n",
       "      <td>-1.169236</td>\n",
       "      <td>-0.915855</td>\n",
       "      <td>-1.004904</td>\n",
       "      <td>non-COVID-19 USA</td>\n",
       "    </tr>\n",
       "    <tr>\n",
       "      <th>NC26</th>\n",
       "      <td>-1.197487</td>\n",
       "      <td>-1.256247</td>\n",
       "      <td>-1.004078</td>\n",
       "      <td>non-COVID-19 USA</td>\n",
       "    </tr>\n",
       "  </tbody>\n",
       "</table>\n",
       "<p>126 rows × 4 columns</p>\n",
       "</div>"
      ],
      "text/plain": [
       "         PARP9     DTX3L      AIM2            Status\n",
       "C1    2.264765  3.361594  1.017514      COVID-19 USA\n",
       "C2   -0.308322 -0.079247 -0.351898      COVID-19 USA\n",
       "C3    2.517522  2.608941  2.160378      COVID-19 USA\n",
       "C4   -0.410258 -0.069773 -0.753366      COVID-19 USA\n",
       "C5    2.226241  1.741626  4.674925      COVID-19 USA\n",
       "...        ...       ...       ...               ...\n",
       "NC22 -1.187923 -1.121658 -0.980741  non-COVID-19 USA\n",
       "NC23 -0.577020 -0.607476  0.177611  non-COVID-19 USA\n",
       "NC24 -0.749717 -0.591142 -0.788474  non-COVID-19 USA\n",
       "NC25 -1.169236 -0.915855 -1.004904  non-COVID-19 USA\n",
       "NC26 -1.197487 -1.256247 -1.004078  non-COVID-19 USA\n",
       "\n",
       "[126 rows x 4 columns]"
      ]
     },
     "execution_count": 30,
     "metadata": {},
     "output_type": "execute_result"
    }
   ],
   "source": [
    "scaled_expression_data"
   ]
  },
  {
   "cell_type": "code",
   "execution_count": 31,
   "metadata": {},
   "outputs": [
    {
     "data": {
      "image/png": "[encoded data removed]",
      "text/plain": [
       "<Figure size 1872x720 with 1 Axes>"
      ]
     },
     "metadata": {},
     "output_type": "display_data"
    }
   ],
   "source": [
    "fig = plt.figure(figsize=(26, 10))\n",
    "\n",
    "Z = linkage(scaled_expression_data.drop(\"Status\", axis=1), \"ward\")\n",
    "dn = dendrogram(\n",
    "    Z,\n",
    "    labels=scaled_expression_data.index,\n",
    "    color_threshold=10,\n",
    "    above_threshold_color=\"00000\",\n",
    "    truncate_mode=None,\n",
    ")\n",
    "\n",
    "plt.show()"
   ]
  },
  {
   "cell_type": "code",
   "execution_count": 16,
   "metadata": {},
   "outputs": [
    {
     "data": {
      "text/html": [
       "<div>\n",
       "<style scoped>\n",
       "    .dataframe tbody tr th:only-of-type {\n",
       "        vertical-align: middle;\n",
       "    }\n",
       "\n",
       "    .dataframe tbody tr th {\n",
       "        vertical-align: top;\n",
       "    }\n",
       "\n",
       "    .dataframe thead th {\n",
       "        text-align: right;\n",
       "    }\n",
       "</style>\n",
       "<table border=\"1\" class=\"dataframe\">\n",
       "  <thead>\n",
       "    <tr style=\"text-align: right;\">\n",
       "      <th></th>\n",
       "      <th>Cluster</th>\n",
       "    </tr>\n",
       "  </thead>\n",
       "  <tbody>\n",
       "    <tr>\n",
       "      <th>C1</th>\n",
       "      <td>1</td>\n",
       "    </tr>\n",
       "    <tr>\n",
       "      <th>C2</th>\n",
       "      <td>3</td>\n",
       "    </tr>\n",
       "    <tr>\n",
       "      <th>C3</th>\n",
       "      <td>1</td>\n",
       "    </tr>\n",
       "    <tr>\n",
       "      <th>C4</th>\n",
       "      <td>3</td>\n",
       "    </tr>\n",
       "    <tr>\n",
       "      <th>C5</th>\n",
       "      <td>1</td>\n",
       "    </tr>\n",
       "    <tr>\n",
       "      <th>...</th>\n",
       "      <td>...</td>\n",
       "    </tr>\n",
       "    <tr>\n",
       "      <th>NC22</th>\n",
       "      <td>3</td>\n",
       "    </tr>\n",
       "    <tr>\n",
       "      <th>NC23</th>\n",
       "      <td>3</td>\n",
       "    </tr>\n",
       "    <tr>\n",
       "      <th>NC24</th>\n",
       "      <td>3</td>\n",
       "    </tr>\n",
       "    <tr>\n",
       "      <th>NC25</th>\n",
       "      <td>3</td>\n",
       "    </tr>\n",
       "    <tr>\n",
       "      <th>NC26</th>\n",
       "      <td>3</td>\n",
       "    </tr>\n",
       "  </tbody>\n",
       "</table>\n",
       "<p>126 rows × 1 columns</p>\n",
       "</div>"
      ],
      "text/plain": [
       "      Cluster\n",
       "C1          1\n",
       "C2          3\n",
       "C3          1\n",
       "C4          3\n",
       "C5          1\n",
       "...       ...\n",
       "NC22        3\n",
       "NC23        3\n",
       "NC24        3\n",
       "NC25        3\n",
       "NC26        3\n",
       "\n",
       "[126 rows x 1 columns]"
      ]
     },
     "execution_count": 16,
     "metadata": {},
     "output_type": "execute_result"
    }
   ],
   "source": [
    "cls_ = fcluster(Z, t=10, criterion=\"distance\")\n",
    "cls_ = pd.DataFrame(cls_, index=scaled_expression_data.index, columns=[\"Cluster\"])\n",
    "cls_"
   ]
  },
  {
   "cell_type": "code",
   "execution_count": 35,
   "metadata": {},
   "outputs": [
    {
     "data": {
      "text/html": [
       "<div>\n",
       "<style scoped>\n",
       "    .dataframe tbody tr th:only-of-type {\n",
       "        vertical-align: middle;\n",
       "    }\n",
       "\n",
       "    .dataframe tbody tr th {\n",
       "        vertical-align: top;\n",
       "    }\n",
       "\n",
       "    .dataframe thead th {\n",
       "        text-align: right;\n",
       "    }\n",
       "</style>\n",
       "<table border=\"1\" class=\"dataframe\">\n",
       "  <thead>\n",
       "    <tr style=\"text-align: right;\">\n",
       "      <th></th>\n",
       "      <th>Covid (1=yes)</th>\n",
       "      <th>Diagnosis</th>\n",
       "      <th>ICU (1=yes)</th>\n",
       "      <th>Sex</th>\n",
       "      <th>Age</th>\n",
       "      <th>Ethnicity</th>\n",
       "      <th>BMI</th>\n",
       "      <th>WHO ordinal at day 28</th>\n",
       "      <th>Charlson</th>\n",
       "      <th>APACHEII</th>\n",
       "      <th>...</th>\n",
       "      <th>Rheumatic disease</th>\n",
       "      <th>PUD</th>\n",
       "      <th>Liver disese</th>\n",
       "      <th>DM</th>\n",
       "      <th>Hemiplegia</th>\n",
       "      <th>Renal disease</th>\n",
       "      <th>Cancer (solid)</th>\n",
       "      <th>HIV/AIDS</th>\n",
       "      <th>Leukemia/lymphoma</th>\n",
       "      <th>Smoking 1=y (current or former);0=never;?=unknown</th>\n",
       "    </tr>\n",
       "    <tr>\n",
       "      <th>Albany_sampleID</th>\n",
       "      <th></th>\n",
       "      <th></th>\n",
       "      <th></th>\n",
       "      <th></th>\n",
       "      <th></th>\n",
       "      <th></th>\n",
       "      <th></th>\n",
       "      <th></th>\n",
       "      <th></th>\n",
       "      <th></th>\n",
       "      <th></th>\n",
       "      <th></th>\n",
       "      <th></th>\n",
       "      <th></th>\n",
       "      <th></th>\n",
       "      <th></th>\n",
       "      <th></th>\n",
       "      <th></th>\n",
       "      <th></th>\n",
       "      <th></th>\n",
       "      <th></th>\n",
       "    </tr>\n",
       "  </thead>\n",
       "  <tbody>\n",
       "    <tr>\n",
       "      <th>C1</th>\n",
       "      <td>1</td>\n",
       "      <td>COVID-19</td>\n",
       "      <td>0</td>\n",
       "      <td>M</td>\n",
       "      <td>39</td>\n",
       "      <td>W</td>\n",
       "      <td>31.60</td>\n",
       "      <td>8</td>\n",
       "      <td>0</td>\n",
       "      <td>15.0</td>\n",
       "      <td>...</td>\n",
       "      <td>0</td>\n",
       "      <td>0</td>\n",
       "      <td>0</td>\n",
       "      <td>0</td>\n",
       "      <td>0</td>\n",
       "      <td>0</td>\n",
       "      <td>0</td>\n",
       "      <td>0</td>\n",
       "      <td>0</td>\n",
       "      <td>0</td>\n",
       "    </tr>\n",
       "    <tr>\n",
       "      <th>C2</th>\n",
       "      <td>1</td>\n",
       "      <td>COVID-19</td>\n",
       "      <td>0</td>\n",
       "      <td>M</td>\n",
       "      <td>63</td>\n",
       "      <td>H</td>\n",
       "      <td>28.70</td>\n",
       "      <td>0</td>\n",
       "      <td>2</td>\n",
       "      <td>NaN</td>\n",
       "      <td>...</td>\n",
       "      <td>0</td>\n",
       "      <td>0</td>\n",
       "      <td>0</td>\n",
       "      <td>0</td>\n",
       "      <td>0</td>\n",
       "      <td>0</td>\n",
       "      <td>0</td>\n",
       "      <td>0</td>\n",
       "      <td>0</td>\n",
       "      <td>1</td>\n",
       "    </tr>\n",
       "    <tr>\n",
       "      <th>C3</th>\n",
       "      <td>1</td>\n",
       "      <td>COVID-19</td>\n",
       "      <td>0</td>\n",
       "      <td>M</td>\n",
       "      <td>33</td>\n",
       "      <td>W</td>\n",
       "      <td>29.41</td>\n",
       "      <td>3</td>\n",
       "      <td>2</td>\n",
       "      <td>NaN</td>\n",
       "      <td>...</td>\n",
       "      <td>0</td>\n",
       "      <td>0</td>\n",
       "      <td>0</td>\n",
       "      <td>1</td>\n",
       "      <td>0</td>\n",
       "      <td>0</td>\n",
       "      <td>0</td>\n",
       "      <td>0</td>\n",
       "      <td>0</td>\n",
       "      <td>0</td>\n",
       "    </tr>\n",
       "    <tr>\n",
       "      <th>C4</th>\n",
       "      <td>1</td>\n",
       "      <td>COVID-19</td>\n",
       "      <td>0</td>\n",
       "      <td>M</td>\n",
       "      <td>49</td>\n",
       "      <td>W</td>\n",
       "      <td>27.55</td>\n",
       "      <td>0</td>\n",
       "      <td>1</td>\n",
       "      <td>NaN</td>\n",
       "      <td>...</td>\n",
       "      <td>0</td>\n",
       "      <td>0</td>\n",
       "      <td>0</td>\n",
       "      <td>0</td>\n",
       "      <td>0</td>\n",
       "      <td>0</td>\n",
       "      <td>0</td>\n",
       "      <td>0</td>\n",
       "      <td>0</td>\n",
       "      <td>0</td>\n",
       "    </tr>\n",
       "    <tr>\n",
       "      <th>C5</th>\n",
       "      <td>1</td>\n",
       "      <td>COVID-19</td>\n",
       "      <td>0</td>\n",
       "      <td>M</td>\n",
       "      <td>49</td>\n",
       "      <td>H</td>\n",
       "      <td>30.40</td>\n",
       "      <td>0</td>\n",
       "      <td>1</td>\n",
       "      <td>19.0</td>\n",
       "      <td>...</td>\n",
       "      <td>0</td>\n",
       "      <td>0</td>\n",
       "      <td>0</td>\n",
       "      <td>0</td>\n",
       "      <td>0</td>\n",
       "      <td>0</td>\n",
       "      <td>0</td>\n",
       "      <td>0</td>\n",
       "      <td>0</td>\n",
       "      <td>0</td>\n",
       "    </tr>\n",
       "    <tr>\n",
       "      <th>...</th>\n",
       "      <td>...</td>\n",
       "      <td>...</td>\n",
       "      <td>...</td>\n",
       "      <td>...</td>\n",
       "      <td>...</td>\n",
       "      <td>...</td>\n",
       "      <td>...</td>\n",
       "      <td>...</td>\n",
       "      <td>...</td>\n",
       "      <td>...</td>\n",
       "      <td>...</td>\n",
       "      <td>...</td>\n",
       "      <td>...</td>\n",
       "      <td>...</td>\n",
       "      <td>...</td>\n",
       "      <td>...</td>\n",
       "      <td>...</td>\n",
       "      <td>...</td>\n",
       "      <td>...</td>\n",
       "      <td>...</td>\n",
       "      <td>...</td>\n",
       "    </tr>\n",
       "    <tr>\n",
       "      <th>NC22</th>\n",
       "      <td>0</td>\n",
       "      <td>pneumonia</td>\n",
       "      <td>0</td>\n",
       "      <td>M</td>\n",
       "      <td>63</td>\n",
       "      <td>AA</td>\n",
       "      <td>25.40</td>\n",
       "      <td>0</td>\n",
       "      <td>2</td>\n",
       "      <td>4.0</td>\n",
       "      <td>...</td>\n",
       "      <td>0</td>\n",
       "      <td>0</td>\n",
       "      <td>0</td>\n",
       "      <td>0</td>\n",
       "      <td>0</td>\n",
       "      <td>0</td>\n",
       "      <td>0</td>\n",
       "      <td>0</td>\n",
       "      <td>0</td>\n",
       "      <td>0</td>\n",
       "    </tr>\n",
       "    <tr>\n",
       "      <th>NC23</th>\n",
       "      <td>0</td>\n",
       "      <td>pneumonia</td>\n",
       "      <td>0</td>\n",
       "      <td>F</td>\n",
       "      <td>42</td>\n",
       "      <td>W</td>\n",
       "      <td>27.46</td>\n",
       "      <td>0</td>\n",
       "      <td>2</td>\n",
       "      <td>NaN</td>\n",
       "      <td>...</td>\n",
       "      <td>0</td>\n",
       "      <td>0</td>\n",
       "      <td>0</td>\n",
       "      <td>0</td>\n",
       "      <td>0</td>\n",
       "      <td>1</td>\n",
       "      <td>0</td>\n",
       "      <td>0</td>\n",
       "      <td>0</td>\n",
       "      <td>0</td>\n",
       "    </tr>\n",
       "    <tr>\n",
       "      <th>NC24</th>\n",
       "      <td>0</td>\n",
       "      <td>pneumonia</td>\n",
       "      <td>0</td>\n",
       "      <td>F</td>\n",
       "      <td>32</td>\n",
       "      <td>W</td>\n",
       "      <td>18.50</td>\n",
       "      <td>0</td>\n",
       "      <td>0</td>\n",
       "      <td>NaN</td>\n",
       "      <td>...</td>\n",
       "      <td>0</td>\n",
       "      <td>0</td>\n",
       "      <td>0</td>\n",
       "      <td>0</td>\n",
       "      <td>0</td>\n",
       "      <td>0</td>\n",
       "      <td>0</td>\n",
       "      <td>0</td>\n",
       "      <td>0</td>\n",
       "      <td>0</td>\n",
       "    </tr>\n",
       "    <tr>\n",
       "      <th>NC25</th>\n",
       "      <td>0</td>\n",
       "      <td>pneumonia</td>\n",
       "      <td>0</td>\n",
       "      <td>M</td>\n",
       "      <td>62</td>\n",
       "      <td>W</td>\n",
       "      <td>17.90</td>\n",
       "      <td>0</td>\n",
       "      <td>8</td>\n",
       "      <td>NaN</td>\n",
       "      <td>...</td>\n",
       "      <td>0</td>\n",
       "      <td>0</td>\n",
       "      <td>0</td>\n",
       "      <td>0</td>\n",
       "      <td>0</td>\n",
       "      <td>0</td>\n",
       "      <td>0</td>\n",
       "      <td>0</td>\n",
       "      <td>0</td>\n",
       "      <td>1</td>\n",
       "    </tr>\n",
       "    <tr>\n",
       "      <th>NC26</th>\n",
       "      <td>0</td>\n",
       "      <td>pneumonia</td>\n",
       "      <td>1</td>\n",
       "      <td>M</td>\n",
       "      <td>36</td>\n",
       "      <td>W</td>\n",
       "      <td>19.10</td>\n",
       "      <td>9</td>\n",
       "      <td>3</td>\n",
       "      <td>40.0</td>\n",
       "      <td>...</td>\n",
       "      <td>0</td>\n",
       "      <td>0</td>\n",
       "      <td>1</td>\n",
       "      <td>0</td>\n",
       "      <td>0</td>\n",
       "      <td>0</td>\n",
       "      <td>0</td>\n",
       "      <td>0</td>\n",
       "      <td>0</td>\n",
       "      <td>1</td>\n",
       "    </tr>\n",
       "  </tbody>\n",
       "</table>\n",
       "<p>128 rows × 53 columns</p>\n",
       "</div>"
      ],
      "text/plain": [
       "                 Covid (1=yes)  Diagnosis  ICU (1=yes) Sex  Age Ethnicity  \\\n",
       "Albany_sampleID                                                             \n",
       "C1                           1   COVID-19            0   M   39         W   \n",
       "C2                           1   COVID-19            0   M   63         H   \n",
       "C3                           1   COVID-19            0   M   33         W   \n",
       "C4                           1   COVID-19            0   M   49         W   \n",
       "C5                           1   COVID-19            0   M   49         H   \n",
       "...                        ...        ...          ...  ..  ...       ...   \n",
       "NC22                         0  pneumonia            0   M   63        AA   \n",
       "NC23                         0  pneumonia            0   F   42         W   \n",
       "NC24                         0  pneumonia            0   F   32         W   \n",
       "NC25                         0  pneumonia            0   M   62         W   \n",
       "NC26                         0  pneumonia            1   M   36         W   \n",
       "\n",
       "                   BMI  WHO ordinal at day 28  Charlson  APACHEII  ...  \\\n",
       "Albany_sampleID                                                    ...   \n",
       "C1               31.60                      8         0      15.0  ...   \n",
       "C2               28.70                      0         2       NaN  ...   \n",
       "C3               29.41                      3         2       NaN  ...   \n",
       "C4               27.55                      0         1       NaN  ...   \n",
       "C5               30.40                      0         1      19.0  ...   \n",
       "...                ...                    ...       ...       ...  ...   \n",
       "NC22             25.40                      0         2       4.0  ...   \n",
       "NC23             27.46                      0         2       NaN  ...   \n",
       "NC24             18.50                      0         0       NaN  ...   \n",
       "NC25             17.90                      0         8       NaN  ...   \n",
       "NC26             19.10                      9         3      40.0  ...   \n",
       "\n",
       "                 Rheumatic disease  PUD  Liver disese  DM  Hemiplegia  \\\n",
       "Albany_sampleID                                                         \n",
       "C1                               0    0             0   0           0   \n",
       "C2                               0    0             0   0           0   \n",
       "C3                               0    0             0   1           0   \n",
       "C4                               0    0             0   0           0   \n",
       "C5                               0    0             0   0           0   \n",
       "...                            ...  ...           ...  ..         ...   \n",
       "NC22                             0    0             0   0           0   \n",
       "NC23                             0    0             0   0           0   \n",
       "NC24                             0    0             0   0           0   \n",
       "NC25                             0    0             0   0           0   \n",
       "NC26                             0    0             1   0           0   \n",
       "\n",
       "                 Renal disease Cancer (solid)  HIV/AIDS  Leukemia/lymphoma  \\\n",
       "Albany_sampleID                                                              \n",
       "C1                           0              0         0                  0   \n",
       "C2                           0              0         0                  0   \n",
       "C3                           0              0         0                  0   \n",
       "C4                           0              0         0                  0   \n",
       "C5                           0              0         0                  0   \n",
       "...                        ...            ...       ...                ...   \n",
       "NC22                         0              0         0                  0   \n",
       "NC23                         1              0         0                  0   \n",
       "NC24                         0              0         0                  0   \n",
       "NC25                         0              0         0                  0   \n",
       "NC26                         0              0         0                  0   \n",
       "\n",
       "                 Smoking 1=y (current or former);0=never;?=unknown  \n",
       "Albany_sampleID                                                     \n",
       "C1                                                               0  \n",
       "C2                                                               1  \n",
       "C3                                                               0  \n",
       "C4                                                               0  \n",
       "C5                                                               0  \n",
       "...                                                            ...  \n",
       "NC22                                                             0  \n",
       "NC23                                                             0  \n",
       "NC24                                                             0  \n",
       "NC25                                                             1  \n",
       "NC26                                                             1  \n",
       "\n",
       "[128 rows x 53 columns]"
      ]
     },
     "execution_count": 35,
     "metadata": {},
     "output_type": "execute_result"
    }
   ],
   "source": [
    "pd.read_csv(\"../data/raw/Annotations/Clinical_GSE174818.csv\", index_col=0)"
   ]
  },
  {
   "cell_type": "code",
   "execution_count": 36,
   "metadata": {},
   "outputs": [
    {
     "data": {
      "text/html": [
       "<div>\n",
       "<style scoped>\n",
       "    .dataframe tbody tr th:only-of-type {\n",
       "        vertical-align: middle;\n",
       "    }\n",
       "\n",
       "    .dataframe tbody tr th {\n",
       "        vertical-align: top;\n",
       "    }\n",
       "\n",
       "    .dataframe thead th {\n",
       "        text-align: right;\n",
       "    }\n",
       "</style>\n",
       "<table border=\"1\" class=\"dataframe\">\n",
       "  <thead>\n",
       "    <tr style=\"text-align: right;\">\n",
       "      <th>Covid (1=yes)</th>\n",
       "      <th>0</th>\n",
       "      <th>1</th>\n",
       "      <th>All</th>\n",
       "    </tr>\n",
       "    <tr>\n",
       "      <th>Cluster</th>\n",
       "      <th></th>\n",
       "      <th></th>\n",
       "      <th></th>\n",
       "    </tr>\n",
       "  </thead>\n",
       "  <tbody>\n",
       "    <tr>\n",
       "      <th>1</th>\n",
       "      <td>0</td>\n",
       "      <td>14</td>\n",
       "      <td>14</td>\n",
       "    </tr>\n",
       "    <tr>\n",
       "      <th>2</th>\n",
       "      <td>0</td>\n",
       "      <td>29</td>\n",
       "      <td>29</td>\n",
       "    </tr>\n",
       "    <tr>\n",
       "      <th>3</th>\n",
       "      <td>26</td>\n",
       "      <td>57</td>\n",
       "      <td>83</td>\n",
       "    </tr>\n",
       "    <tr>\n",
       "      <th>All</th>\n",
       "      <td>26</td>\n",
       "      <td>100</td>\n",
       "      <td>126</td>\n",
       "    </tr>\n",
       "  </tbody>\n",
       "</table>\n",
       "</div>"
      ],
      "text/plain": [
       "Covid (1=yes)   0    1  All\n",
       "Cluster                    \n",
       "1               0   14   14\n",
       "2               0   29   29\n",
       "3              26   57   83\n",
       "All            26  100  126"
      ]
     },
     "metadata": {},
     "output_type": "display_data"
    },
    {
     "data": {
      "text/html": [
       "<div>\n",
       "<style scoped>\n",
       "    .dataframe tbody tr th:only-of-type {\n",
       "        vertical-align: middle;\n",
       "    }\n",
       "\n",
       "    .dataframe tbody tr th {\n",
       "        vertical-align: top;\n",
       "    }\n",
       "\n",
       "    .dataframe thead th {\n",
       "        text-align: right;\n",
       "    }\n",
       "</style>\n",
       "<table border=\"1\" class=\"dataframe\">\n",
       "  <thead>\n",
       "    <tr style=\"text-align: right;\">\n",
       "      <th></th>\n",
       "      <th>Cluster</th>\n",
       "      <th>ICU (1=yes)</th>\n",
       "      <th>Covid (1=yes)</th>\n",
       "    </tr>\n",
       "    <tr>\n",
       "      <th>Albany_sampleID</th>\n",
       "      <th></th>\n",
       "      <th></th>\n",
       "      <th></th>\n",
       "    </tr>\n",
       "  </thead>\n",
       "  <tbody>\n",
       "    <tr>\n",
       "      <th>C82</th>\n",
       "      <td>3</td>\n",
       "      <td>0</td>\n",
       "      <td>1</td>\n",
       "    </tr>\n",
       "    <tr>\n",
       "      <th>C13</th>\n",
       "      <td>2</td>\n",
       "      <td>0</td>\n",
       "      <td>1</td>\n",
       "    </tr>\n",
       "    <tr>\n",
       "      <th>C35</th>\n",
       "      <td>2</td>\n",
       "      <td>0</td>\n",
       "      <td>1</td>\n",
       "    </tr>\n",
       "    <tr>\n",
       "      <th>C48</th>\n",
       "      <td>3</td>\n",
       "      <td>1</td>\n",
       "      <td>1</td>\n",
       "    </tr>\n",
       "    <tr>\n",
       "      <th>C78</th>\n",
       "      <td>2</td>\n",
       "      <td>0</td>\n",
       "      <td>1</td>\n",
       "    </tr>\n",
       "    <tr>\n",
       "      <th>...</th>\n",
       "      <td>...</td>\n",
       "      <td>...</td>\n",
       "      <td>...</td>\n",
       "    </tr>\n",
       "    <tr>\n",
       "      <th>C100</th>\n",
       "      <td>3</td>\n",
       "      <td>0</td>\n",
       "      <td>1</td>\n",
       "    </tr>\n",
       "    <tr>\n",
       "      <th>C19</th>\n",
       "      <td>2</td>\n",
       "      <td>0</td>\n",
       "      <td>1</td>\n",
       "    </tr>\n",
       "    <tr>\n",
       "      <th>C52</th>\n",
       "      <td>1</td>\n",
       "      <td>0</td>\n",
       "      <td>1</td>\n",
       "    </tr>\n",
       "    <tr>\n",
       "      <th>C17</th>\n",
       "      <td>3</td>\n",
       "      <td>0</td>\n",
       "      <td>1</td>\n",
       "    </tr>\n",
       "    <tr>\n",
       "      <th>C85</th>\n",
       "      <td>3</td>\n",
       "      <td>1</td>\n",
       "      <td>1</td>\n",
       "    </tr>\n",
       "  </tbody>\n",
       "</table>\n",
       "<p>100 rows × 3 columns</p>\n",
       "</div>"
      ],
      "text/plain": [
       "                 Cluster  ICU (1=yes)  Covid (1=yes)\n",
       "Albany_sampleID                                     \n",
       "C82                    3            0              1\n",
       "C13                    2            0              1\n",
       "C35                    2            0              1\n",
       "C48                    3            1              1\n",
       "C78                    2            0              1\n",
       "...                  ...          ...            ...\n",
       "C100                   3            0              1\n",
       "C19                    2            0              1\n",
       "C52                    1            0              1\n",
       "C17                    3            0              1\n",
       "C85                    3            1              1\n",
       "\n",
       "[100 rows x 3 columns]"
      ]
     },
     "execution_count": 38,
     "metadata": {},
     "output_type": "execute_result"
    }
   ],
   "source": [
    "clinical = pd.read_csv(\"../data/raw/Annotations/Clinical_GSE174818.csv\", index_col=0)\n",
    "ins = set.intersection(set(clinical.index), set(cls_.index))\n",
    "\n",
    "clinical = pd.concat(\n",
    "    (cls_.loc[ins], clinical.loc[ins, [\"ICU (1=yes)\", \"Covid (1=yes)\"]]), axis=1\n",
    ")\n",
    "\n",
    "display(pd.crosstab(clinical[\"Cluster\"], clinical[\"Covid (1=yes)\"], margins=True))\n",
    "\n",
    "clinical = clinical.loc[[name for name in clinical.index if name.startswith(\"C\")]]\n",
    "clinical"
   ]
  },
  {
   "cell_type": "code",
   "execution_count": 41,
   "metadata": {},
   "outputs": [
    {
     "data": {
      "text/html": [
       "<div>\n",
       "<style scoped>\n",
       "    .dataframe tbody tr th:only-of-type {\n",
       "        vertical-align: middle;\n",
       "    }\n",
       "\n",
       "    .dataframe tbody tr th {\n",
       "        vertical-align: top;\n",
       "    }\n",
       "\n",
       "    .dataframe thead th {\n",
       "        text-align: right;\n",
       "    }\n",
       "</style>\n",
       "<table border=\"1\" class=\"dataframe\">\n",
       "  <thead>\n",
       "    <tr style=\"text-align: right;\">\n",
       "      <th>ICU (1=yes)</th>\n",
       "      <th>0</th>\n",
       "      <th>1</th>\n",
       "      <th>All</th>\n",
       "    </tr>\n",
       "    <tr>\n",
       "      <th>Cluster</th>\n",
       "      <th></th>\n",
       "      <th></th>\n",
       "      <th></th>\n",
       "    </tr>\n",
       "  </thead>\n",
       "  <tbody>\n",
       "    <tr>\n",
       "      <th>1</th>\n",
       "      <td>12</td>\n",
       "      <td>2</td>\n",
       "      <td>14</td>\n",
       "    </tr>\n",
       "    <tr>\n",
       "      <th>2</th>\n",
       "      <td>11</td>\n",
       "      <td>18</td>\n",
       "      <td>29</td>\n",
       "    </tr>\n",
       "    <tr>\n",
       "      <th>3</th>\n",
       "      <td>27</td>\n",
       "      <td>30</td>\n",
       "      <td>57</td>\n",
       "    </tr>\n",
       "    <tr>\n",
       "      <th>All</th>\n",
       "      <td>50</td>\n",
       "      <td>50</td>\n",
       "      <td>100</td>\n",
       "    </tr>\n",
       "  </tbody>\n",
       "</table>\n",
       "</div>"
      ],
      "text/plain": [
       "ICU (1=yes)   0   1  All\n",
       "Cluster                 \n",
       "1            12   2   14\n",
       "2            11  18   29\n",
       "3            27  30   57\n",
       "All          50  50  100"
      ]
     },
     "execution_count": 41,
     "metadata": {},
     "output_type": "execute_result"
    }
   ],
   "source": [
    "cross_table = pd.crosstab(clinical[\"Cluster\"], clinical[\"ICU (1=yes)\"], margins=True)\n",
    "cross_table"
   ]
  },
  {
   "cell_type": "code",
   "execution_count": 34,
   "metadata": {},
   "outputs": [
    {
     "data": {
      "text/plain": [
       "0.011162408542920136"
      ]
     },
     "execution_count": 34,
     "metadata": {},
     "output_type": "execute_result"
    }
   ],
   "source": [
    "_, pval, _, _ = sts.chi2_contingency(\n",
    "    pd.crosstab(clinical[\"Cluster\"], clinical[\"ICU (1=yes)\"])\n",
    ")\n",
    "\n",
    "pval"
   ]
  },
  {
   "cell_type": "code",
   "execution_count": 23,
   "metadata": {},
   "outputs": [],
   "source": [
    "cross_table.to_csv(\"../Plots/ClusterMapsExpression/crsTable_ICU_AIM_PARP_DTX3l.csv\")"
   ]
  }
 ],
 "metadata": {
  "kernelspec": {
   "display_name": "Python 3",
   "language": "python",
   "name": "python3"
  },
  "language_info": {
   "codemirror_mode": {
    "name": "ipython",
    "version": 3
   },
   "file_extension": ".py",
   "mimetype": "text/x-python",
   "name": "python",
   "nbconvert_exporter": "python",
   "pygments_lexer": "ipython3",
   "version": "3.8.10"
  }
 },
 "nbformat": 4,
 "nbformat_minor": 4
}
