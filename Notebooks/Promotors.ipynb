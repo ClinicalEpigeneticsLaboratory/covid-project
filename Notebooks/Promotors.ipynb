{
 "cells": [
  {
   "cell_type": "code",
   "execution_count": null,
   "id": "43db3110-812a-4338-92aa-9212423646ea",
   "metadata": {},
   "outputs": [],
   "source": [
    "import pandas as pd\n",
    "\n",
    "import plotly.express as px\n",
    "from src.figures import clustermap\n",
    "from src.col_palette import pal"
   ]
  },
  {
   "cell_type": "code",
   "execution_count": null,
   "id": "313cc2e0-9b5a-4667-ae75-9c9c12dc5f8e",
   "metadata": {},
   "outputs": [],
   "source": []
  },
  {
   "cell_type": "code",
   "execution_count": null,
   "id": "9803c4e2-8374-4b9b-8fc3-e796967a7454",
   "metadata": {},
   "outputs": [],
   "source": [
    "samplesheet = pd.read_csv(\"../data/raw/SampleSheet.csv\", index_col=0)\n",
    "samplesheet = samplesheet[samplesheet.ICU.isin([\"non-ICU\", \"ICU\"])]\n",
    "samplesheet = samplesheet[samplesheet.Status.str.contains(\"COVID\")]\n",
    "samplesheet = samplesheet[~samplesheet.Status.str.contains(\"PL\")]"
   ]
  },
  {
   "cell_type": "code",
   "execution_count": null,
   "id": "96f724c3-1842-45a4-ba42-d3bc0fd17dda",
   "metadata": {},
   "outputs": [],
   "source": [
    "mynorm = pd.read_parquet(\"../data/processed/CorrectedMyNorms/mynorm.parquet\")"
   ]
  },
  {
   "cell_type": "code",
   "execution_count": null,
   "id": "acfca24c-670e-466e-95b2-9a912fff4af1",
   "metadata": {},
   "outputs": [],
   "source": []
  },
  {
   "cell_type": "code",
   "execution_count": null,
   "id": "789c1ef4-ddec-4449-ad80-9838a509494a",
   "metadata": {},
   "outputs": [],
   "source": [
    "for gene in genes:\n",
    "\n",
    "\n",
    "    if len(promotor) > 0:\n",
    "        print(f\"Number of probes in promotor: {len(promotor)}\")\n",
    "\n",
    "        promotor_average_methylation = mynorm.loc[promotor, :].mean()\n",
    "        promotor_average_methylation.name = gene\n",
    "\n",
    "        promotor_average_methylation = pd.concat(\n",
    "            (promotor_average_methylation, samplesheet[[\"Status\", \"ICU\"]]), axis=1\n",
    "        ).dropna()\n",
    "\n",
    "        fig = px.box(promotor_average_methylation, x=\"Status\", y=gene, color=\"ICU\")\n",
    "        fig.show()"
   ]
  }
 ],
 "metadata": {
  "kernelspec": {
   "display_name": "Python 3 (ipykernel)",
   "language": "python",
   "name": "python3"
  },
  "language_info": {
   "codemirror_mode": {
    "name": "ipython",
    "version": 3
   },
   "file_extension": ".py",
   "mimetype": "text/x-python",
   "name": "python",
   "nbconvert_exporter": "python",
   "pygments_lexer": "ipython3"
  }
 },
 "nbformat": 4,
 "nbformat_minor": 5
}
