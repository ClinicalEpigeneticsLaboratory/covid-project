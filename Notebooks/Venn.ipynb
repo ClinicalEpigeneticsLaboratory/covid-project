{
 "cells": [
  {
   "cell_type": "code",
   "execution_count": null,
   "id": "c0f78a02-7cb6-49b1-b395-7c915e3b64df",
   "metadata": {},
   "outputs": [],
   "source": [
    "import os\n",
    "from venn import venn\n",
    "from IPython.display import display\n",
    "import matplotlib.pyplot as plt"
   ]
  },
  {
   "cell_type": "code",
   "execution_count": null,
   "id": "5798b71e-ac33-4e97-b10b-4c7313c70ef5",
   "metadata": {},
   "outputs": [],
   "source": [
    "# comparison of COVID-19 specific pattern with DMPS identifed in other studies"
   ]
  },
  {
   "cell_type": "code",
   "execution_count": null,
   "id": "69eaeef1-c835-479b-9313-647207c390b7",
   "metadata": {},
   "outputs": [],
   "source": [
    "dmps = pd.read_csv(\"../Files/COVSpecificDMPs.csv\", index_col=0)\n",
    "pattern = set(dmps.index)\n",
    "len(pattern)"
   ]
  },
  {
   "cell_type": "code",
   "execution_count": null,
   "id": "6db1be51-fa5f-4bd5-b922-0e8afe5468de",
   "metadata": {},
   "outputs": [],
   "source": [
    "def find_intersection(\n",
    "    setb, setb_name, path, seta_name=\"COVID-19 specific DMPs\", seta=pattern, annots=dmps\n",
    ") -> pd.DataFrame:\n",
    "\n",
    "    seta, setb = set(seta), set(setb)\n",
    "\n",
    "    fig = plt.figure(figsize=(14, 14))\n",
    "    ax = fig.add_subplot()\n",
    "\n",
    "    venn(\n",
    "        {\n",
    "            seta_name: seta,\n",
    "            setb_name: setb,\n",
    "        },\n",
    "        ax=ax,\n",
    "        fontsize=20,\n",
    "    )\n",
    "    fig.savefig(path)\n",
    "\n",
    "    print(\"Intersection\")\n",
    "    intersection = set.intersection(seta, setb)\n",
    "    display(annots.loc[intersection])\n",
    "\n",
    "\n",
    "#     print(\"Left diff\")\n",
    "#     ld = seta.difference(setb)\n",
    "#     display(annots.loc[ld])"
   ]
  },
  {
   "cell_type": "code",
   "execution_count": null,
   "id": "2b1029b4-0114-451a-8e3c-20c77cf66dd9",
   "metadata": {},
   "outputs": [],
   "source": [
    "# Spain epicovid pattern\n",
    "es_epicovid = set(\n",
    "    pd.read_excel(\"../data/additional/mmc4.xls\", index_col=0, skiprows=1).index\n",
    ")\n",
    "len(es_epicovid)"
   ]
  },
  {
   "cell_type": "code",
   "execution_count": null,
   "id": "1022d0d8-a0cf-43bc-a0d1-30fecf64c48b",
   "metadata": {},
   "outputs": [],
   "source": [
    "find_intersection(es_epicovid, \"de Moura et al.\", \"../Plots/ES_VENN.png\")"
   ]
  },
  {
   "cell_type": "code",
   "execution_count": null,
   "id": "d22dd1a1-edf1-429c-baf5-7c877fde41c8",
   "metadata": {},
   "outputs": [],
   "source": [
    "# USA 1\n",
    "epic = pd.read_parquet(os.environ.get(\"POETRY_EPIC\"))\n",
    "usa1 = pd.read_excel(\n",
    "    \"../data/Annotations/GSE174818_supplement.xlsx\",\n",
    "    index_col=0,\n",
    "    sheet_name=\"Table S8. CovidGRAM RFE CpGs\",\n",
    "    skiprows=1,\n",
    ")\n",
    "usa1 = set(usa1.index)\n",
    "len(usa1)"
   ]
  },
  {
   "cell_type": "code",
   "execution_count": null,
   "id": "9219428b-e2fb-4ca8-9695-53c9d832f5af",
   "metadata": {},
   "outputs": [],
   "source": [
    "find_intersection(usa1, \"Balnis et al.\", \"../Plots/USA1_venn.png\")"
   ]
  },
  {
   "cell_type": "code",
   "execution_count": null,
   "id": "b062f8c7-7db2-47e1-ba1f-279bcc663d66",
   "metadata": {},
   "outputs": [],
   "source": [
    "# USA 2 -> severity score\n",
    "usa2_1 = set(\n",
    "    pd.read_excel(\n",
    "        \"../data/additional/43856_2021_42_MOESM2_ESM.xlsx\", index_col=0, skiprows=1\n",
    "    ).index\n",
    ")\n",
    "print(len(usa2_1))\n",
    "\n",
    "usa2_2 = set(\n",
    "    pd.read_excel(\n",
    "        \"../data/additional/43856_2021_42_MOESM3_ESM.xlsx\", index_col=0, skiprows=1\n",
    "    ).index\n",
    ")\n",
    "print(len(usa2_2))\n",
    "\n",
    "usa2 = set.intersection(usa2_1, usa2_2)\n",
    "len(usa2)"
   ]
  },
  {
   "cell_type": "code",
   "execution_count": null,
   "id": "26b5176c-9d54-4442-950e-8c4d6c720a90",
   "metadata": {},
   "outputs": [],
   "source": [
    "find_intersection(usa2, \"Konigsberg et al.\", \"../Plots/USA2_venn.png\")"
   ]
  }
 ],
 "metadata": {
  "kernelspec": {
   "display_name": "Python 3 (ipykernel)",
   "language": "python",
   "name": "python3"
  },
  "language_info": {
   "codemirror_mode": {
    "name": "ipython",
    "version": 3
   },
   "file_extension": ".py",
   "mimetype": "text/x-python",
   "name": "python",
   "nbconvert_exporter": "python",
   "pygments_lexer": "ipython3"
  }
 },
 "nbformat": 4,
 "nbformat_minor": 5
}
