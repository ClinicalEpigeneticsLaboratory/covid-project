{
 "cells": [
  {
   "cell_type": "code",
   "execution_count": 1,
   "metadata": {},
   "outputs": [],
   "source": [
    "%load_ext lab_black"
   ]
  },
  {
   "cell_type": "code",
   "execution_count": 2,
   "metadata": {},
   "outputs": [],
   "source": [
    "import pandas as pd\n",
    "\n",
    "import matplotlib.pyplot as plt\n",
    "from venn import venn"
   ]
  },
  {
   "cell_type": "code",
   "execution_count": 11,
   "metadata": {},
   "outputs": [],
   "source": [
    "# Reactome"
   ]
  },
  {
   "cell_type": "code",
   "execution_count": 12,
   "metadata": {},
   "outputs": [],
   "source": [
    "nonCoV = set(\n",
    "    pd.read_csv(\"../FA/NonCov_report_Reactome_.csv\", index_col=0)[\"Description\"]\n",
    ")\n",
    "\n",
    "covSpain = set(\n",
    "    pd.read_csv(\"../FA/CoVSpain_report_Reactome_.csv\", index_col=0)[\"Description\"]\n",
    ")\n",
    "\n",
    "covUSA = set(\n",
    "    pd.read_csv(\"../FA/USACoV_report_Reactome_.csv\", index_col=0)[\"Description\"]\n",
    ")\n",
    "covPL = set(\n",
    "    pd.read_csv(\"../FA/PUMCoV_report_Reactome_.csv\", index_col=0)[\"Description\"]\n",
    ")"
   ]
  },
  {
   "cell_type": "code",
   "execution_count": 13,
   "metadata": {},
   "outputs": [
    {
     "data": {
      "text/plain": [
       "<AxesSubplot:>"
      ]
     },
     "execution_count": 13,
     "metadata": {},
     "output_type": "execute_result"
    },
    {
     "data": {
      "image/png": "[encoded data removed]",
      "text/plain": [
       "<Figure size 576x576 with 1 Axes>"
      ]
     },
     "metadata": {},
     "output_type": "display_data"
    }
   ],
   "source": [
    "venn(\n",
    "    {\n",
    "        \"CoV Spain\": covSpain,\n",
    "        \"CoV PUM\": covPL,\n",
    "        \"CoV USA\": covUSA,\n",
    "    }\n",
    ")"
   ]
  },
  {
   "cell_type": "code",
   "execution_count": 14,
   "metadata": {},
   "outputs": [
    {
     "data": {
      "text/html": [
       "<div>\n",
       "<style scoped>\n",
       "    .dataframe tbody tr th:only-of-type {\n",
       "        vertical-align: middle;\n",
       "    }\n",
       "\n",
       "    .dataframe tbody tr th {\n",
       "        vertical-align: top;\n",
       "    }\n",
       "\n",
       "    .dataframe thead th {\n",
       "        text-align: right;\n",
       "    }\n",
       "</style>\n",
       "<table border=\"1\" class=\"dataframe\">\n",
       "  <thead>\n",
       "    <tr style=\"text-align: right;\">\n",
       "      <th></th>\n",
       "      <th>0</th>\n",
       "    </tr>\n",
       "  </thead>\n",
       "  <tbody>\n",
       "    <tr>\n",
       "      <th>0</th>\n",
       "      <td>Homo sapiens: Beta-catenin independent WNT sig...</td>\n",
       "    </tr>\n",
       "    <tr>\n",
       "      <th>1</th>\n",
       "      <td>Homo sapiens: Cyclin A:Cdk2-associated events ...</td>\n",
       "    </tr>\n",
       "    <tr>\n",
       "      <th>2</th>\n",
       "      <td>Homo sapiens: Hedgehog ligand biogenesis</td>\n",
       "    </tr>\n",
       "    <tr>\n",
       "      <th>3</th>\n",
       "      <td>Homo sapiens: G1/S DNA Damage Checkpoints</td>\n",
       "    </tr>\n",
       "    <tr>\n",
       "      <th>4</th>\n",
       "      <td>Homo sapiens: Hh mutants that don't undergo au...</td>\n",
       "    </tr>\n",
       "    <tr>\n",
       "      <th>...</th>\n",
       "      <td>...</td>\n",
       "    </tr>\n",
       "    <tr>\n",
       "      <th>81</th>\n",
       "      <td>Homo sapiens: DNA Replication Pre-Initiation</td>\n",
       "    </tr>\n",
       "    <tr>\n",
       "      <th>82</th>\n",
       "      <td>Homo sapiens: Transcriptional regulation by RUNX2</td>\n",
       "    </tr>\n",
       "    <tr>\n",
       "      <th>83</th>\n",
       "      <td>Homo sapiens: Ub-specific processing proteases</td>\n",
       "    </tr>\n",
       "    <tr>\n",
       "      <th>84</th>\n",
       "      <td>Homo sapiens: Downstream signaling events of B...</td>\n",
       "    </tr>\n",
       "    <tr>\n",
       "      <th>85</th>\n",
       "      <td>Homo sapiens: Orc1 removal from chromatin</td>\n",
       "    </tr>\n",
       "  </tbody>\n",
       "</table>\n",
       "<p>86 rows × 1 columns</p>\n",
       "</div>"
      ],
      "text/plain": [
       "                                                    0\n",
       "0   Homo sapiens: Beta-catenin independent WNT sig...\n",
       "1   Homo sapiens: Cyclin A:Cdk2-associated events ...\n",
       "2            Homo sapiens: Hedgehog ligand biogenesis\n",
       "3           Homo sapiens: G1/S DNA Damage Checkpoints\n",
       "4   Homo sapiens: Hh mutants that don't undergo au...\n",
       "..                                                ...\n",
       "81       Homo sapiens: DNA Replication Pre-Initiation\n",
       "82  Homo sapiens: Transcriptional regulation by RUNX2\n",
       "83     Homo sapiens: Ub-specific processing proteases\n",
       "84  Homo sapiens: Downstream signaling events of B...\n",
       "85          Homo sapiens: Orc1 removal from chromatin\n",
       "\n",
       "[86 rows x 1 columns]"
      ]
     },
     "execution_count": 14,
     "metadata": {},
     "output_type": "execute_result"
    }
   ],
   "source": [
    "pd.DataFrame(set.intersection(covSpain, covPL, covUSA))"
   ]
  },
  {
   "cell_type": "code",
   "execution_count": 15,
   "metadata": {},
   "outputs": [],
   "source": [
    "pd.DataFrame(set.intersection(covSpain, covPL, covUSA)).to_excel(\"../FA/Intersection/Reactome.xls\")"
   ]
  }
 ],
 "metadata": {
  "kernelspec": {
   "display_name": "Python 3",
   "language": "python",
   "name": "python3"
  },
  "language_info": {
   "codemirror_mode": {
    "name": "ipython",
    "version": 3
   },
   "file_extension": ".py",
   "mimetype": "text/x-python",
   "name": "python",
   "nbconvert_exporter": "python",
   "pygments_lexer": "ipython3",
   "version": "3.8.10"
  }
 },
 "nbformat": 4,
 "nbformat_minor": 4
}
