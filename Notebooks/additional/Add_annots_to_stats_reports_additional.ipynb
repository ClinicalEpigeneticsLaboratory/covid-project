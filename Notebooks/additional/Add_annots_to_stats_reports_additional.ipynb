{
 "cells": [
  {
   "cell_type": "code",
   "execution_count": null,
   "id": "eea4a0c9-e264-4824-a84b-9dcdcdf00558",
   "metadata": {},
   "outputs": [],
   "source": [
    "from glob import glob\n",
    "import pandas as pd"
   ]
  },
  {
   "cell_type": "code",
   "execution_count": null,
   "id": "59182c38-72c2-4115-acb0-855dc7735582",
   "metadata": {},
   "outputs": [],
   "source": [
    "epic = pd.read_csv(\n",
    "    \"../data/additional/EPIC/MethylationEPIC_v-1-0_B4.csv\",\n",
    "    index_col=0,\n",
    "    low_memory=False,\n",
    ")[[\"UCSC_RefGene_Name\", \"UCSC_RefGene_Group\", \"Relation_to_UCSC_CpG_Island\"]]"
   ]
  },
  {
   "cell_type": "code",
   "execution_count": null,
   "id": "c8bd2aea-be37-4675-8099-7d11ad665a7d",
   "metadata": {},
   "outputs": [],
   "source": [
    "files = glob(\"statistics/output_2/*.csv\")\n",
    "files"
   ]
  },
  {
   "cell_type": "code",
   "execution_count": null,
   "id": "b2dec10f-7ff9-46cd-9713-54bb3de30529",
   "metadata": {},
   "outputs": [],
   "source": [
    "for file in files:\n",
    "    report = pd.read_csv(file, index_col=0)\n",
    "    report = pd.concat((report, epic.loc[report.index]), axis=1)\n",
    "    report.to_csv(file)"
   ]
  }
 ],
 "metadata": {
  "kernelspec": {
   "display_name": "Python 3 (ipykernel)",
   "language": "python",
   "name": "python3"
  },
  "language_info": {
   "codemirror_mode": {
    "name": "ipython",
    "version": 3
   },
   "file_extension": ".py",
   "mimetype": "text/x-python",
   "name": "python",
   "nbconvert_exporter": "python",
   "pygments_lexer": "ipython3"
  }
 },
 "nbformat": 4,
 "nbformat_minor": 5
}
