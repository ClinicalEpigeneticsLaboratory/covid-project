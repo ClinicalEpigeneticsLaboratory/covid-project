{
 "cells": [
  {
   "cell_type": "code",
   "execution_count": null,
   "id": "cf6438c5-6a20-4a05-a1a1-e5c144d8cad3",
   "metadata": {},
   "outputs": [],
   "source": [
    "import pandas as pd\n",
    "import os"
   ]
  },
  {
   "cell_type": "code",
   "execution_count": null,
   "id": "6d284e39-de24-487c-a0f8-b75a13ccd566",
   "metadata": {},
   "outputs": [],
   "source": [
    "dmps = pd.read_csv(\"../Files/DMPs_COV_vs_HC.csv\", index_col=0)"
   ]
  },
  {
   "cell_type": "code",
   "execution_count": null,
   "id": "4dffcd0e-cc47-4771-b83f-bef03dddb67d",
   "metadata": {},
   "outputs": [],
   "source": [
    "dmps = dmps[[\"CHR\", \"MAPINFO\"]]\n",
    "dmps[\"Start\"] = dmps[\"MAPINFO\"] - 1\n",
    "dmps[[\"Start\", \"MAPINFO\"]] = dmps[[\"Start\", \"MAPINFO\"]].astype(int)\n",
    "dmps[\"CHR\"] = dmps[\"CHR\"].map(lambda x: f\"chr{x}\")\n",
    "dmps = dmps.reset_index()\n",
    "dmps = dmps[[\"CHR\", \"Start\", \"MAPINFO\", \"IlmnID\"]]\n",
    "dmps"
   ]
  },
  {
   "cell_type": "code",
   "execution_count": null,
   "id": "fe8a6035-d6eb-40c1-967c-babfd141cf4f",
   "metadata": {},
   "outputs": [],
   "source": [
    "dmps.to_csv(\"../Files/DMPs_COV_vs_HC.bed\", sep=\"\\t\", header=None, index=None)"
   ]
  },
  {
   "cell_type": "code",
   "execution_count": null,
   "id": "c19613c6-c8b2-4232-9629-114fb389fff3",
   "metadata": {},
   "outputs": [],
   "source": [
    "# BG"
   ]
  },
  {
   "cell_type": "code",
   "execution_count": null,
   "id": "da8e784f-7839-49c3-9ddd-fb1d1136aed7",
   "metadata": {},
   "outputs": [],
   "source": [
    "mynorm = pd.read_parquet(\n",
    "    \"../data/processed/CorrectedMyNorms/mynorm_All_1175.gzip\"\n",
    ").index"
   ]
  },
  {
   "cell_type": "code",
   "execution_count": null,
   "id": "58e5b67b-34b0-45f9-b326-729c06836828",
   "metadata": {},
   "outputs": [],
   "source": [
    "epic = pd.read_parquet(os.environ.get(\"POETRY_EPIC\")).loc[mynorm, :]\n",
    "epic"
   ]
  },
  {
   "cell_type": "code",
   "execution_count": null,
   "id": "3f4b0bca-31bc-43ce-8ad0-50a3307debbf",
   "metadata": {},
   "outputs": [],
   "source": [
    "epic = epic[[\"CHR\", \"MAPINFO\"]]\n",
    "epic[\"Start\"] = epic[\"MAPINFO\"] - 1\n",
    "\n",
    "epic[\"CHR\"] = epic[\"CHR\"].map(lambda x: f\"chr{x}\")\n",
    "epic = epic.reset_index()\n",
    "epic = epic[[\"CHR\", \"Start\", \"MAPINFO\", \"index\"]].dropna()\n",
    "epic[[\"Start\", \"MAPINFO\"]] = epic[[\"Start\", \"MAPINFO\"]].astype(int)\n",
    "\n",
    "epic"
   ]
  },
  {
   "cell_type": "code",
   "execution_count": null,
   "id": "1f9ae5ba-44c3-481a-8bc8-7877adbfb23d",
   "metadata": {},
   "outputs": [],
   "source": [
    "epic.to_csv(\"../Files/EPIC.bed\", sep=\"\\t\", header=None, index=None)"
   ]
  }
 ],
 "metadata": {
  "kernelspec": {
   "display_name": "Python 3 (ipykernel)",
   "language": "python",
   "name": "python3"
  },
  "language_info": {
   "codemirror_mode": {
    "name": "ipython",
    "version": 3
   },
   "file_extension": ".py",
   "mimetype": "text/x-python",
   "name": "python",
   "nbconvert_exporter": "python",
   "pygments_lexer": "ipython3"
  }
 },
 "nbformat": 4,
 "nbformat_minor": 5
}
