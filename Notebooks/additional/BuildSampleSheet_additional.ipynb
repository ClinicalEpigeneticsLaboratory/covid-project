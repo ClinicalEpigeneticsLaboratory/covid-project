{
 "cells": [
  {
   "cell_type": "code",
   "execution_count": null,
   "id": "cb5ebf05-7916-49ec-ad92-be3ed28ff512",
   "metadata": {},
   "outputs": [],
   "source": [
    "import pandas as pd\n",
    "import numpy as np"
   ]
  },
  {
   "cell_type": "code",
   "execution_count": null,
   "id": "6c412a05-f17a-4f17-ac1d-4a923e2618b5",
   "metadata": {},
   "outputs": [],
   "source": [
    "# usa2 = pd.read_csv(\"../data/Annotations/GSE167202.csv\", index_col=0)\n",
    "# usa2[(usa2[\"covid_status\"] == \"negative\") & (usa2[\"ed_disposition\"] != \"Discharged\")] # negative but addmited to hospital ?\n",
    "# usa2[(usa2[\"covid_status\"].str.strip() == \"positive\") & (usa2[\"ed_disposition\"].str.strip() == \"Discharged\")] # positive but not addmited to hospital"
   ]
  },
  {
   "cell_type": "code",
   "execution_count": null,
   "id": "f9f51a68-6613-45b9-b2e9-79052f617fe4",
   "metadata": {},
   "outputs": [],
   "source": [
    "df = pd.read_csv(\"../../data/raw/SampleSheetALL.csv\", index_col=0)"
   ]
  },
  {
   "cell_type": "code",
   "execution_count": null,
   "id": "42f57180-8f97-448f-89bf-615db53f78bf",
   "metadata": {},
   "outputs": [],
   "source": [
    "usa2 = pd.read_csv(\"../../data/Annotations/GSE167202.csv\", index_col=0)\n",
    "usa2.covid_status.unique()"
   ]
  },
  {
   "cell_type": "code",
   "execution_count": null,
   "id": "ef9be9e5-9a58-4b75-8b3b-8ca5ea13d764",
   "metadata": {},
   "outputs": [],
   "source": [
    "to_drop = usa2[\n",
    "    (usa2[\"covid_status\"].str.strip() == \"negative\")\n",
    "    & (usa2[\"ed_disposition\"].str.strip() != \"Discharged\")\n",
    "].index  # negative but not discharged patients are removed!"
   ]
  },
  {
   "cell_type": "code",
   "execution_count": null,
   "id": "43b46109-d407-4c9c-a6a1-ab93c3d38f64",
   "metadata": {},
   "outputs": [],
   "source": [
    "def descrbe(df):\n",
    "    print(df.head())\n",
    "    print(f\"Shape: {df.shape}\")\n",
    "    print(\"\\n\")\n",
    "    print(f\"Is nan?: {df.isna().sum().any()}\")\n",
    "    print(\"\\n\")\n",
    "    print(df.isna().sum())\n",
    "\n",
    "    if df.ICU.isna().any():\n",
    "        print(df[df.ICU.isna()])\n",
    "\n",
    "    print(\"*\" * 75)"
   ]
  },
  {
   "cell_type": "code",
   "execution_count": null,
   "id": "f3a77b4f-2603-4e7b-9af8-f8125c05e9af",
   "metadata": {},
   "outputs": [],
   "source": [
    "usa2 = pd.read_csv(\"../../data/Annotations/GSE167202.csv\", index_col=0)\n",
    "usa2 = usa2.drop(to_drop)\n",
    "usa2[\"ed_disposition\"].value_counts(dropna=False)"
   ]
  },
  {
   "cell_type": "code",
   "execution_count": null,
   "id": "0131c6cf-40a7-41fb-914c-1bb306b6be96",
   "metadata": {},
   "outputs": [],
   "source": [
    "# external annots\n",
    "\n",
    "# PUM\n",
    "pl = pd.read_csv(\"../../data/Annotations/PL-PUM.csv\", index_col=0)\n",
    "pl[\"Sample_Group\"] = \"COVID-19 PL\"\n",
    "pl[\"Status\"] = \"COVID-19 PL\"\n",
    "\n",
    "pl_annots = pd.read_csv(\n",
    "    \"../../data/raw/InitialData/Covid19-2-PUM/Annotations.csv\", index_col=1\n",
    ")[[\"P_e_ (M/K)\", \"Wiek\"]]\n",
    "pl = pd.concat((pl, pl_annots), axis=1)\n",
    "pl[\"ICU\"] = \"non-ICU\"\n",
    "pl = pl[[\"Sample_Group\", \"Status\", \"P_e_ (M/K)\", \"Wiek\", \"ICU\"]]\n",
    "pl.columns = [\"Sample_Group\", \"Status\", \"Sex\", \"Age\", \"ICU\"]\n",
    "\n",
    "# ES\n",
    "es = pd.read_csv(\"../../data/Annotations/GSE168739.csv\", index_col=0)\n",
    "es[\"Sample_Group\"] = \"COVID-19 ES\"\n",
    "es[\"Status\"] = \"COVID-19 ES\"\n",
    "es = es[[\"age\", \"gender\", \"Sample_Group\", \"Status\"]]\n",
    "es.columns = [\"Age\", \"Sex\", \"Sample_Group\", \"Status\"]\n",
    "\n",
    "epicovid = pd.read_excel(\n",
    "    \"../../data/Annotations/EPICOVID_GROUPS.xlsx\",\n",
    "    index_col=0,\n",
    "    skiprows=0,\n",
    ")\n",
    "mapper = pd.read_csv(\"../../data/Annotations/GSE168739.csv\", index_col=0).description\n",
    "mapper = dict(zip(mapper.values, mapper.index))\n",
    "epicovid.index = epicovid.index.map(mapper)\n",
    "epicovid = epicovid[\n",
    "    [\"GROUP (G1: ICU; G2: Hospitalization with O2 support; G3: Mild, home)\"]\n",
    "]\n",
    "epicovid.columns = [\"ICU\"]\n",
    "epicovid.ICU = epicovid.ICU.map({\"G1\": \"ICU\", \"G2\": \"non-ICU\", \"G3\": \"Home\"})\n",
    "es = pd.concat((es, epicovid), axis=1)\n",
    "\n",
    "# USA 1\n",
    "usa = pd.read_csv(\"../../data/Annotations/GSE174818.csv\", index_col=0)\n",
    "id_converter = dict(zip(usa[\"title\"], usa.index))\n",
    "usa = usa[[\"Sex\", \"age\", \"covid status\"]]\n",
    "\n",
    "usa_icu = pd.read_excel(\n",
    "    \"../../data/Annotations/GSE174818_supplement.xlsx\", index_col=0, skiprows=1\n",
    ")[\"ICU (1=yes)\"]\n",
    "\n",
    "usa_icu.index = usa_icu.index.map(id_converter)\n",
    "usa_icu = usa_icu.loc[~usa_icu.index.isna()]\n",
    "usa_icu = usa_icu.replace({1: \"ICU\", 0: \"non-ICU\"})\n",
    "\n",
    "usa = pd.concat((usa, usa_icu), axis=1)\n",
    "usa.columns = [\"Sex\", \"Age\", \"Status\", \"ICU\"]\n",
    "usa[\"Sample_Group\"] = \"COVID-19 USA\"\n",
    "\n",
    "usa[\"Status\"] = usa[\"Status\"].map(\n",
    "    {1: \"COVID-19 USA 1\", 0: \"Other respiratory infections USA 1\"}\n",
    ")\n",
    "\n",
    "# USA 2\n",
    "usa2 = pd.read_csv(\"../../data/Annotations/GSE167202.csv\", index_col=0)\n",
    "usa2 = usa2.drop(to_drop)\n",
    "\n",
    "usa2 = usa2[[\"covid_status\", \"Sex\", \"age\", \"ed_disposition\"]]\n",
    "usa2.columns = [\"Status\", \"Sex\", \"Age\", \"ICU\"]\n",
    "usa2[\"Sample_Group\"] = \"COVID-19 USA 2\"\n",
    "\n",
    "usa2[\"ICU\"] = (\n",
    "    usa2[\"ICU\"]\n",
    "    .str.strip()\n",
    "    .replace(\n",
    "        {\n",
    "            \"Floor Admission\": \"non-ICU\",\n",
    "            \"Discharged\": \"Home\",\n",
    "            \"ICU\": \"ICU\",\n",
    "            \"NA\": np.NaN,\n",
    "            \"Death\": \"ICU\",\n",
    "        }\n",
    "    )\n",
    ")\n",
    "\n",
    "\n",
    "usa2[\"Status\"] = (\n",
    "    usa2[\"Status\"]\n",
    "    .str.strip()\n",
    "    .map(\n",
    "        {\n",
    "            \"negative\": \"Healthy controls\",\n",
    "            \"positive\": \"COVID-19 USA 2\",\n",
    "            \"other infection\": \"Other respiratory infections USA 2\",\n",
    "        }\n",
    "    )\n",
    ")\n",
    "\n",
    "usa2.loc[usa2.Status == \"Healthy controls\", \"ICU\"] = \"Healthy controls\"\n",
    "usa2[\"Sex\"] = usa2[\"Sex\"].str.strip()\n",
    "\n",
    "# hb controls\n",
    "hb = pd.read_csv(\"../../data/Annotations/Sample_sheet_healthy_blood.csv\", index_col=0)\n",
    "hb = hb[[\"Age\", \"Sex\"]]\n",
    "hb[\"Sample_Group\"] = \"Healthy controls\"\n",
    "hb[\"ICU\"] = \"Healthy controls\"\n",
    "hb[\"Status\"] = \"Healthy controls\""
   ]
  },
  {
   "cell_type": "code",
   "execution_count": null,
   "id": "5bebca38-e331-4cd0-b9c7-2f6c0ed3dd9a",
   "metadata": {},
   "outputs": [],
   "source": [
    "descrbe(usa2)\n",
    "\n",
    "descrbe(pl)\n",
    "descrbe(es)\n",
    "descrbe(usa)\n",
    "descrbe(hb)"
   ]
  },
  {
   "cell_type": "code",
   "execution_count": null,
   "id": "1f5bc5a3-b468-497a-ae0b-703ce0c95071",
   "metadata": {},
   "outputs": [],
   "source": [
    "# concate\n",
    "df = pd.concat((pl, es, usa, usa2, hb))\n",
    "df"
   ]
  },
  {
   "cell_type": "code",
   "execution_count": null,
   "id": "2c11a640-1db8-4dc6-a52b-1775dc860605",
   "metadata": {},
   "outputs": [],
   "source": [
    "df.ICU.value_counts(dropna=False)"
   ]
  },
  {
   "cell_type": "code",
   "execution_count": null,
   "id": "e32087e5-07d8-4112-ae92-2d965f0fded7",
   "metadata": {},
   "outputs": [],
   "source": [
    "df.ICU[df.ICU.isna()]"
   ]
  },
  {
   "cell_type": "code",
   "execution_count": null,
   "id": "9f339d80-2a2a-4d23-a526-6849ec8b4cc7",
   "metadata": {},
   "outputs": [],
   "source": [
    "df.Sex.unique()"
   ]
  },
  {
   "cell_type": "code",
   "execution_count": null,
   "id": "ac30d539-990c-4801-8036-076eafa57bd4",
   "metadata": {},
   "outputs": [],
   "source": [
    "df.Sex = df.Sex.str.strip().map(\n",
    "    {\"K\": \"F\", \"M\": \"M\", \"F\": \"F\", \"Male\": \"M\", \"Female\": \"F\"}\n",
    ")\n",
    "df.Sex.unique()"
   ]
  },
  {
   "cell_type": "code",
   "execution_count": null,
   "id": "e9e5c148-585c-425a-b338-c21f5c353dd8",
   "metadata": {},
   "outputs": [],
   "source": [
    "df.Status.value_counts()"
   ]
  },
  {
   "cell_type": "code",
   "execution_count": null,
   "id": "dbed1ffa-1f34-412e-8494-0e2dbb7fcc71",
   "metadata": {},
   "outputs": [],
   "source": [
    "df.Status.isna().any()"
   ]
  },
  {
   "cell_type": "code",
   "execution_count": null,
   "id": "f217a5cd-0371-4ff5-b359-82cb6bc4890e",
   "metadata": {},
   "outputs": [],
   "source": [
    "df.Sex.isna().any()"
   ]
  },
  {
   "cell_type": "code",
   "execution_count": null,
   "id": "c7f2f73b-5612-49ca-8012-e147a7ab8896",
   "metadata": {},
   "outputs": [],
   "source": [
    "df.to_csv(\"../../data/raw/SampleSheet.csv\")"
   ]
  }
 ],
 "metadata": {
  "kernelspec": {
   "display_name": "Python 3 (ipykernel)",
   "language": "python",
   "name": "python3"
  },
  "language_info": {
   "codemirror_mode": {
    "name": "ipython",
    "version": 3
   },
   "file_extension": ".py",
   "mimetype": "text/x-python",
   "name": "python",
   "nbconvert_exporter": "python",
   "pygments_lexer": "ipython3"
  }
 },
 "nbformat": 4,
 "nbformat_minor": 5
}
