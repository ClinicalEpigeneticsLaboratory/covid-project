{
 "cells": [
  {
   "cell_type": "code",
   "execution_count": null,
   "id": "2f9e1d2c-6143-4c93-9481-6ff02da1770c",
   "metadata": {},
   "outputs": [],
   "source": [
    "import pandas as pd\n",
    "\n",
    "pd.set_option(\"max_column\", None)\n",
    "import numpy as np, scipy.stats as st"
   ]
  },
  {
   "cell_type": "code",
   "execution_count": null,
   "id": "85ca8165-e480-4aea-bc3c-f277bff12de0",
   "metadata": {},
   "outputs": [],
   "source": [
    "# GSE174818"
   ]
  },
  {
   "cell_type": "code",
   "execution_count": null,
   "id": "804280f3-96d2-48ad-9a5e-b90ffa0a42dc",
   "metadata": {},
   "outputs": [],
   "source": [
    "df = pd.read_excel(\n",
    "    \"../../data/Annotations/GSE174818_supplement.xlsx\", index_col=0, skiprows=1\n",
    ")\n",
    "df = df[df[\"Albany_sampleID\"].str.contains(\"NC\")]\n",
    "df.Ethnicity.value_counts()"
   ]
  },
  {
   "cell_type": "code",
   "execution_count": null,
   "id": "9e17fae4-4394-4b29-91a2-a1a23cdc1ab5",
   "metadata": {},
   "outputs": [],
   "source": [
    "cnt = df.Diagnosis.value_counts().to_frame()\n",
    "cnt.to_csv(\"../../Files/USA1_nc.csv\")"
   ]
  },
  {
   "cell_type": "code",
   "execution_count": null,
   "id": "2c327e59-cf4a-4379-8a6b-278321ca8495",
   "metadata": {},
   "outputs": [],
   "source": [
    "df.Sex.value_counts()"
   ]
  },
  {
   "cell_type": "code",
   "execution_count": null,
   "id": "6aa42cce-27ad-40b7-82b9-c2783ba8433d",
   "metadata": {},
   "outputs": [],
   "source": [
    "st.t.interval(\n",
    "    0.95,\n",
    "    len(df.Age) - 1,\n",
    "    loc=np.mean(df.Age),\n",
    "    scale=st.sem(df.Age),\n",
    ")"
   ]
  },
  {
   "cell_type": "code",
   "execution_count": null,
   "id": "948d9eb7-b57a-4515-800a-7700ccb8221f",
   "metadata": {},
   "outputs": [],
   "source": [
    "# GSE174818"
   ]
  },
  {
   "cell_type": "code",
   "execution_count": null,
   "id": "86e8137b-f00e-4121-add3-d838694ad48e",
   "metadata": {},
   "outputs": [],
   "source": [
    "df = pd.read_csv(\"../../data/Annotations/GSE167202.csv\", index_col=0)\n",
    "df = df[df[\"covid_status\"] == \"other infection\"]\n",
    "df.ethnicity.value_counts()"
   ]
  },
  {
   "cell_type": "code",
   "execution_count": null,
   "id": "8df26838-3b7d-4cb5-9d7f-480ea98401d6",
   "metadata": {},
   "outputs": [],
   "source": [
    "df.Sex.value_counts()"
   ]
  },
  {
   "cell_type": "code",
   "execution_count": null,
   "id": "3cfa587b-9380-4b34-a0e5-f960af467b0b",
   "metadata": {},
   "outputs": [],
   "source": [
    "st.t.interval(\n",
    "    0.95,\n",
    "    len(df.age) - 1,\n",
    "    loc=np.mean(df.age),\n",
    "    scale=st.sem(df.age),\n",
    ")"
   ]
  },
  {
   "cell_type": "code",
   "execution_count": null,
   "id": "8ac5e474-4cb1-4c50-837b-0ddbae5ff978",
   "metadata": {},
   "outputs": [],
   "source": [
    "df.viral_positivity.value_counts(dropna=False).to_frame().to_csv(\n",
    "    \"../../Files/USA2_nc.csv\"\n",
    ")"
   ]
  }
 ],
 "metadata": {
  "kernelspec": {
   "display_name": "Python 3 (ipykernel)",
   "language": "python",
   "name": "python3"
  },
  "language_info": {
   "codemirror_mode": {
    "name": "ipython",
    "version": 3
   },
   "file_extension": ".py",
   "mimetype": "text/x-python",
   "name": "python",
   "nbconvert_exporter": "python",
   "pygments_lexer": "ipython3"
  }
 },
 "nbformat": 4,
 "nbformat_minor": 5
}
