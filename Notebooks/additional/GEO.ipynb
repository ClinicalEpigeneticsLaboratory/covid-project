{
 "cells": [
  {
   "cell_type": "code",
   "execution_count": null,
   "id": "56e91fe8-d9df-45cb-802e-96efe626e85e",
   "metadata": {},
   "outputs": [],
   "source": [
    "import GEOparse"
   ]
  },
  {
   "cell_type": "code",
   "execution_count": null,
   "id": "83f932ff-7364-4f78-bf5c-cff4ab15d7ab",
   "metadata": {},
   "outputs": [],
   "source": [
    "gse_list = [\"GSE174818\", \"GSE167202\", \"GSE168739\", \"GSE157103\"]"
   ]
  },
  {
   "cell_type": "code",
   "execution_count": null,
   "id": "3ea6da56-28f4-4176-9a70-37eb37e9826a",
   "metadata": {},
   "outputs": [],
   "source": [
    "for run in gse_list:\n",
    "    gse = GEOparse.get_GEO(geo=run, destdir=\"../GEO/\")\n",
    "    df = gse.phenotype_data\n",
    "    df.columns = [col.split(\".\")[-1] if \".\" in col else col for col in df.columns]\n",
    "\n",
    "    df.to_csv(f\"../data/Annotations/{run}.csv\")"
   ]
  }
 ],
 "metadata": {
  "kernelspec": {
   "display_name": "Python 3 (ipykernel)",
   "language": "python",
   "name": "python3"
  },
  "language_info": {
   "codemirror_mode": {
    "name": "ipython",
    "version": 3
   },
   "file_extension": ".py",
   "mimetype": "text/x-python",
   "name": "python",
   "nbconvert_exporter": "python",
   "pygments_lexer": "ipython3"
  }
 },
 "nbformat": 4,
 "nbformat_minor": 5
}
