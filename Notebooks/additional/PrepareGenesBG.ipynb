{
 "cells": [
  {
   "cell_type": "code",
   "execution_count": null,
   "id": "9e3a7c3a-216e-4fa0-afde-700def0be490",
   "metadata": {},
   "outputs": [],
   "source": [
    "import os\n",
    "import pandas as pd"
   ]
  },
  {
   "cell_type": "code",
   "execution_count": null,
   "id": "a801a168-750e-4015-bef3-50a57730b584",
   "metadata": {},
   "outputs": [],
   "source": [
    "epic = pd.read_parquet(os.environ.get(\"POETRY_EPIC\"))[[\"CHR\", \"UCSC_RefGene_Name\"]]"
   ]
  },
  {
   "cell_type": "code",
   "execution_count": null,
   "id": "ac59e34e-46e5-418f-a791-7c158cc3e8a2",
   "metadata": {},
   "outputs": [],
   "source": [
    "epic = epic[(epic[\"CHR\"] != \"X\") & (epic[\"CHR\"] != \"Y\")].dropna()\n",
    "epic = epic[\"UCSC_RefGene_Name\"]"
   ]
  },
  {
   "cell_type": "code",
   "execution_count": null,
   "id": "0be7e9da-7ec1-43eb-a371-85cb98c429b0",
   "metadata": {},
   "outputs": [],
   "source": [
    "epic = epic.str.split(\";\").explode()\n",
    "bg = epic.reset_index()\n",
    "bg"
   ]
  },
  {
   "cell_type": "code",
   "execution_count": null,
   "id": "6dac59f7-7dd6-4a94-b1ba-01c47b272910",
   "metadata": {},
   "outputs": [],
   "source": [
    "bg = bg.drop_duplicates()\n",
    "bg"
   ]
  },
  {
   "cell_type": "code",
   "execution_count": null,
   "id": "0b88c8b5-d9b0-4673-af5c-e195581fa11f",
   "metadata": {},
   "outputs": [],
   "source": [
    "mynorm = pd.read_parquet(\"../../data/processed/CorrectedMyNorms/mynorm.parquet\")"
   ]
  },
  {
   "cell_type": "code",
   "execution_count": null,
   "id": "c2af51bc-fd1f-4794-8cb5-3be647cda2e2",
   "metadata": {},
   "outputs": [],
   "source": [
    "bg = bg.set_index(\"IlmnID\")\n",
    "bg"
   ]
  },
  {
   "cell_type": "code",
   "execution_count": null,
   "id": "dcffbaf4-a309-426f-afb0-33058416954c",
   "metadata": {},
   "outputs": [],
   "source": [
    "idx = set(mynorm.index).intersection(set(bg.index))\n",
    "bg_adj = bg.loc[idx, :]\n",
    "bg_adj"
   ]
  },
  {
   "cell_type": "code",
   "execution_count": null,
   "id": "d1570c6e-1836-4aac-968b-addbefb6cd8c",
   "metadata": {},
   "outputs": [],
   "source": [
    "bg_adj.reset_index().drop_duplicates()[\"IlmnID\"].to_csv(\n",
    "    \"../../data/additional/EPIC_PROBES_BG.csv\"\n",
    ")"
   ]
  },
  {
   "cell_type": "code",
   "execution_count": null,
   "id": "c5667b42-418f-4446-a0eb-571e932acbab",
   "metadata": {},
   "outputs": [],
   "source": [
    "bg_adj.drop_duplicates().to_csv(\n",
    "    \"../../data/additional/EPIC_BG_EXCLUDING_XY_mynormADJ.csv\"\n",
    ")"
   ]
  }
 ],
 "metadata": {
  "kernelspec": {
   "display_name": "Python 3 (ipykernel)",
   "language": "python",
   "name": "python3"
  },
  "language_info": {
   "codemirror_mode": {
    "name": "ipython",
    "version": 3
   },
   "file_extension": ".py",
   "mimetype": "text/x-python",
   "name": "python",
   "nbconvert_exporter": "python",
   "pygments_lexer": "ipython3"
  }
 },
 "nbformat": 4,
 "nbformat_minor": 5
}
