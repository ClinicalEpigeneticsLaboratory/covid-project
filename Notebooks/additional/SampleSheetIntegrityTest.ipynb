{
 "cells": [
  {
   "cell_type": "code",
   "execution_count": null,
   "id": "2c95d7cc-c2b9-4168-86bc-d045912b8258",
   "metadata": {},
   "outputs": [],
   "source": [
    "import pandas as pd"
   ]
  },
  {
   "cell_type": "code",
   "execution_count": null,
   "id": "37f8fdb7-1140-41dd-a2ef-0a88700b5363",
   "metadata": {},
   "outputs": [],
   "source": [
    "sampleSheet = pd.read_csv(\"../data/raw/SampleSheetALL.csv\", index_col=0)"
   ]
  },
  {
   "cell_type": "code",
   "execution_count": null,
   "id": "2bda7795-c4a4-48ff-94be-e51053dfe419",
   "metadata": {},
   "outputs": [],
   "source": [
    "sampleSheet.Sample_Group.unique()"
   ]
  },
  {
   "cell_type": "code",
   "execution_count": null,
   "id": "7e687998-247c-4391-80fe-ce3dfbf35879",
   "metadata": {},
   "outputs": [],
   "source": [
    "# annots"
   ]
  },
  {
   "cell_type": "code",
   "execution_count": null,
   "id": "8c05e294-4756-41f2-956d-596e6014da90",
   "metadata": {},
   "outputs": [],
   "source": [
    "es_annots = pd.read_csv(\"../data/Annotations/GSE168739.csv\", index_col=0)\n",
    "usa1_annots = pd.read_csv(\"../data/Annotations/GSE174818.csv\", index_col=0)\n",
    "usa2_annots = pd.read_csv(\"../data/Annotations/GSE167202.csv\", index_col=0)"
   ]
  },
  {
   "cell_type": "code",
   "execution_count": null,
   "id": "ae629f74-e638-4c12-960b-c2af84b9a110",
   "metadata": {},
   "outputs": [],
   "source": [
    "# ES"
   ]
  },
  {
   "cell_type": "code",
   "execution_count": null,
   "id": "4c9b8fd1-509d-4a6f-b922-77069e81fbbd",
   "metadata": {},
   "outputs": [],
   "source": [
    "es_val = sampleSheet[sampleSheet[\"Sample_Group\"] == \"COVID-19 ES\"][[\"Age\", \"Sex\"]]"
   ]
  },
  {
   "cell_type": "code",
   "execution_count": null,
   "id": "1258f1c3-15cd-497b-b98a-54c69475cdc0",
   "metadata": {},
   "outputs": [],
   "source": [
    "es_annots.columns"
   ]
  },
  {
   "cell_type": "code",
   "execution_count": null,
   "id": "70e31019-3931-4745-afb8-ce27bc73223a",
   "metadata": {},
   "outputs": [],
   "source": [
    "es_annots = es_annots.loc[es_val.index, [\"age\", \"gender\"]]\n",
    "\n",
    "assert es_annots.shape == es_val.shape\n",
    "assert all(es_annots.age == es_val.Age)\n",
    "assert all(es_annots.gender == es_val.Sex)"
   ]
  },
  {
   "cell_type": "code",
   "execution_count": null,
   "id": "4fe58093-2f64-4de0-93da-819d31552f5e",
   "metadata": {},
   "outputs": [],
   "source": [
    "# USA 1"
   ]
  },
  {
   "cell_type": "code",
   "execution_count": null,
   "id": "1e94ab44-acc1-4e13-bc88-77b2b3169ccf",
   "metadata": {},
   "outputs": [],
   "source": [
    "usa1_val = sampleSheet[sampleSheet[\"Sample_Group\"] == \"COVID-19 USA\"][[\"Age\", \"Sex\"]]"
   ]
  },
  {
   "cell_type": "code",
   "execution_count": null,
   "id": "c0334743-4004-490f-b665-bfafdbe9e583",
   "metadata": {},
   "outputs": [],
   "source": [
    "usa1_annots.columns"
   ]
  },
  {
   "cell_type": "code",
   "execution_count": null,
   "id": "e2b28bd3-2194-41ee-96a4-64d609fb4bea",
   "metadata": {},
   "outputs": [],
   "source": [
    "usa1_annots = usa1_annots.loc[usa1_val.index, [\"age\", \"Sex\"]]\n",
    "\n",
    "assert usa1_annots.shape == usa1_val.shape\n",
    "assert all(usa1_annots.age == usa1_val.Age)\n",
    "assert all(usa1_annots.Sex == usa1_val.Sex)"
   ]
  },
  {
   "cell_type": "code",
   "execution_count": null,
   "id": "bdf6443e-00ca-4926-beb6-26d5530e2ec3",
   "metadata": {},
   "outputs": [],
   "source": [
    "# USA 2"
   ]
  },
  {
   "cell_type": "code",
   "execution_count": null,
   "id": "fde74d5c-cf05-468e-a63c-25ab6176c69b",
   "metadata": {},
   "outputs": [],
   "source": [
    "usa2_val = sampleSheet[sampleSheet[\"Sample_Group\"] == \"COVID-19 USA 2\"][[\"Age\", \"Sex\"]]"
   ]
  },
  {
   "cell_type": "code",
   "execution_count": null,
   "id": "549b82a2-9436-48eb-9399-064f8f88ec60",
   "metadata": {},
   "outputs": [],
   "source": [
    "usa2_annots.columns"
   ]
  },
  {
   "cell_type": "code",
   "execution_count": null,
   "id": "f41e6589-ffdb-4ffe-a8a2-0db3b264fcd0",
   "metadata": {},
   "outputs": [],
   "source": [
    "usa2_annots = usa2_annots.loc[usa2_val.index, [\"age\", \"Sex\"]]\n",
    "usa2_annots.Sex = usa2_annots.Sex.map({\"Male\": \"M\", \"Female\": \"F\"})\n",
    "\n",
    "assert usa2_annots.shape == usa2_val.shape\n",
    "assert all(usa2_annots.age == usa2_val.Age)\n",
    "assert all(usa2_annots.Sex == usa2_val.Sex)"
   ]
  },
  {
   "cell_type": "code",
   "execution_count": null,
   "id": "8aad9be0-55ab-48b6-afbb-fd9b276234bf",
   "metadata": {},
   "outputs": [],
   "source": [
    "# RNA-seq"
   ]
  },
  {
   "cell_type": "code",
   "execution_count": null,
   "id": "7ab4745c-606e-4366-8bb9-3f2d911e386b",
   "metadata": {},
   "outputs": [],
   "source": [
    "annotations = pd.read_csv(\"../data/Annotations/GSE157103.csv\", index_col=0)\n",
    "clinical = pd.read_excel(\n",
    "    \"../data/additional/13148_2021_1102_MOESM1_ESM.xlsx\", skiprows=1, index_col=1\n",
    ")  # Load clinical data"
   ]
  },
  {
   "cell_type": "code",
   "execution_count": null,
   "id": "bb6ca632-cc08-4829-aa32-37a859fe6143",
   "metadata": {},
   "outputs": [],
   "source": [
    "sample_names = pd.read_csv(\"../data/raw/Annotations/FromGEO_GSE174818.csv\", index_col=0)\n",
    "sample_names = dict(zip(sample_names[\"ID\"], sample_names.index))\n",
    "clinical"
   ]
  },
  {
   "cell_type": "code",
   "execution_count": null,
   "id": "594f52ba-23df-4f00-aa0a-af8d6ad0f960",
   "metadata": {},
   "outputs": [],
   "source": [
    "annotations"
   ]
  },
  {
   "cell_type": "code",
   "execution_count": null,
   "id": "e6dde633-6f1b-48e1-932b-4a91d6e5f5f9",
   "metadata": {},
   "outputs": [],
   "source": [
    "def convert_names(name):\n",
    "    if name.startswith(\"C\"):\n",
    "        no = str(name.split(\"_\")[1])\n",
    "        if no.startswith(\"0\"):\n",
    "            name = f\"C{str(no)[1]}\"\n",
    "        else:\n",
    "            name = f\"C{no}\"\n",
    "    else:\n",
    "        no = name.split(\"_\")[1]\n",
    "        if str(no).startswith(\"0\"):\n",
    "            name = f\"NC{str(no)[1]}\"\n",
    "        else:\n",
    "            name = f\"NC{no}\"\n",
    "    return name\n",
    "\n",
    "\n",
    "annotations.index = annotations[\"title\"].map(lambda x: convert_names(x))"
   ]
  },
  {
   "cell_type": "code",
   "execution_count": null,
   "id": "1f2c7ed5-0157-422e-82ed-db01dfdea08b",
   "metadata": {},
   "outputs": [],
   "source": [
    "annotations[\"icu\"] = annotations[\"icu\"].map({\"no\": 0, \"yes\": 1})"
   ]
  },
  {
   "cell_type": "code",
   "execution_count": null,
   "id": "c35b31f4-3d79-4403-aff8-e190002359ad",
   "metadata": {},
   "outputs": [],
   "source": [
    "common = set.intersection(set(annotations.index), set(clinical.index))\n",
    "annotations = annotations.loc[common, :]\n",
    "clinical = clinical.loc[common, :]"
   ]
  },
  {
   "cell_type": "code",
   "execution_count": null,
   "id": "92f913d7-1ba8-47ac-a175-fdc302ccf6f3",
   "metadata": {},
   "outputs": [],
   "source": [
    "annotations.icu.value_counts()"
   ]
  },
  {
   "cell_type": "code",
   "execution_count": null,
   "id": "05f97497-d82f-493d-a752-42e3de726347",
   "metadata": {},
   "outputs": [],
   "source": [
    "assert annotations.icu.values.tolist() == clinical[\"ICU (1=yes)\"].values.tolist()"
   ]
  }
 ],
 "metadata": {
  "kernelspec": {
   "display_name": "Python 3 (ipykernel)",
   "language": "python",
   "name": "python3"
  },
  "language_info": {
   "codemirror_mode": {
    "name": "ipython",
    "version": 3
   },
   "file_extension": ".py",
   "mimetype": "text/x-python",
   "name": "python",
   "nbconvert_exporter": "python",
   "pygments_lexer": "ipython3"
  }
 },
 "nbformat": 4,
 "nbformat_minor": 5
}
