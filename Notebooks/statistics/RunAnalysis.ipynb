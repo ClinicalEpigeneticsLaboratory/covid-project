{
 "cells": [
  {
   "cell_type": "code",
   "execution_count": null,
   "metadata": {},
   "outputs": [],
   "source": [
    "from multiprocessing import Pool\n",
    "\n",
    "import os\n",
    "import pandas as pd\n",
    "\n",
    "from src.stats import StatsAnalysis"
   ]
  },
  {
   "cell_type": "code",
   "execution_count": null,
   "metadata": {},
   "outputs": [],
   "source": [
    "mynorm = pd.read_parquet(\"../../data/processed/CorrectedMyNorms/mynorm.parquet\")\n",
    "mynorm"
   ]
  },
  {
   "cell_type": "code",
   "execution_count": null,
   "metadata": {},
   "outputs": [],
   "source": [
    "sampleSheet = pd.read_csv(\"../../data/raw/SampleSheet.csv\", index_col=0)\n",
    "sampleSheet = sampleSheet[sampleSheet[\"ICU\"] != \"Home\"]\n",
    "sampleSheet"
   ]
  },
  {
   "cell_type": "code",
   "execution_count": null,
   "metadata": {},
   "outputs": [],
   "source": [
    "sampleSheet.Status.unique()"
   ]
  },
  {
   "cell_type": "code",
   "execution_count": null,
   "metadata": {},
   "outputs": [],
   "source": [
    "sampleSheet.Status.value_counts()"
   ]
  },
  {
   "cell_type": "code",
   "execution_count": null,
   "metadata": {},
   "outputs": [],
   "source": [
    "runs = (\n",
    "    (\"COVID-19 USA 1\", \"Healthy controls\"),\n",
    "    (\"COVID-19 USA 2\", \"Healthy controls\"),\n",
    "    (\"COVID-19 ES\", \"Healthy controls\"),\n",
    "    (\"COVID-19 PL\", \"Healthy controls\"),\n",
    "    (\"COVID-19 USA 1\", \"Other respiratory infections USA 1\"),\n",
    "    (\"COVID-19 USA 2\", \"Other respiratory infections USA 1\"),\n",
    "    (\"COVID-19 ES\", \"Other respiratory infections USA 1\"),\n",
    "    (\"COVID-19 PL\", \"Other respiratory infections USA 1\"),\n",
    "    (\"COVID-19 USA 1\", \"Other respiratory infections USA 2\"),\n",
    "    (\"COVID-19 USA 2\", \"Other respiratory infections USA 2\"),\n",
    "    (\"COVID-19 ES\", \"Other respiratory infections USA 2\"),\n",
    "    (\"COVID-19 PL\", \"Other respiratory infections USA 2\"),\n",
    ")\n",
    "\n",
    "print(len(runs))\n",
    "runs"
   ]
  },
  {
   "cell_type": "code",
   "execution_count": null,
   "metadata": {},
   "outputs": [],
   "source": [
    "epic = pd.read_parquet(os.environ.get(\"POETRY_EPIC\"))"
   ]
  },
  {
   "cell_type": "code",
   "execution_count": null,
   "metadata": {},
   "outputs": [],
   "source": [
    "def process(design: str) -> None:\n",
    "    name = \"_vs_\".join(design)\n",
    "\n",
    "    if not os.path.exists(f\"output/{name}.csv\"):\n",
    "\n",
    "        target_group, control_group = design\n",
    "        target_samples = sampleSheet[sampleSheet.Status == target_group].index\n",
    "        control_samples = sampleSheet[(sampleSheet.Status == control_group)].index\n",
    "\n",
    "        target_mynorm = mynorm[target_samples].T\n",
    "        control_mynorm = mynorm[control_samples].T\n",
    "\n",
    "        analysis = StatsAnalysis(\n",
    "            df_target=target_mynorm, df_control=control_mynorm, epic=epic\n",
    "        )\n",
    "\n",
    "        results = analysis.run(name=name)\n",
    "        results.to_csv(f\"output/{name}.csv\")"
   ]
  },
  {
   "cell_type": "code",
   "execution_count": null,
   "metadata": {},
   "outputs": [],
   "source": [
    "with Pool(8) as p:\n",
    "    p.map(process, runs)"
   ]
  }
 ],
 "metadata": {
  "kernelspec": {
   "display_name": "Python 3 (ipykernel)",
   "language": "python",
   "name": "python3"
  },
  "language_info": {
   "codemirror_mode": {
    "name": "ipython",
    "version": 3
   },
   "file_extension": ".py",
   "mimetype": "text/x-python",
   "name": "python",
   "nbconvert_exporter": "python",
   "pygments_lexer": "ipython3"
  }
 },
 "nbformat": 4,
 "nbformat_minor": 4
}
